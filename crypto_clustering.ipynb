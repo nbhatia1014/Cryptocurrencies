{
 "cells": [
  {
   "cell_type": "markdown",
   "metadata": {},
   "source": [
    "# Clustering Crypto"
   ]
  },
  {
   "cell_type": "code",
   "execution_count": 248,
   "metadata": {},
   "outputs": [],
   "source": [
    "# Initial imports\n",
    "import pandas as pd\n",
    "import hvplot.pandas\n",
    "from path import Path\n",
    "import plotly.express as px\n",
    "from sklearn.preprocessing import StandardScaler, MinMaxScaler\n",
    "from sklearn.decomposition import PCA\n",
    "from sklearn.cluster import KMeans\n"
   ]
  },
  {
   "cell_type": "markdown",
   "metadata": {},
   "source": [
    "### Deliverable 1: Preprocessing the Data for PCA"
   ]
  },
  {
   "cell_type": "code",
   "execution_count": 249,
   "metadata": {},
   "outputs": [
    {
     "data": {
      "text/html": [
       "<div>\n",
       "<style scoped>\n",
       "    .dataframe tbody tr th:only-of-type {\n",
       "        vertical-align: middle;\n",
       "    }\n",
       "\n",
       "    .dataframe tbody tr th {\n",
       "        vertical-align: top;\n",
       "    }\n",
       "\n",
       "    .dataframe thead th {\n",
       "        text-align: right;\n",
       "    }\n",
       "</style>\n",
       "<table border=\"1\" class=\"dataframe\">\n",
       "  <thead>\n",
       "    <tr style=\"text-align: right;\">\n",
       "      <th></th>\n",
       "      <th>CoinName</th>\n",
       "      <th>Algorithm</th>\n",
       "      <th>IsTrading</th>\n",
       "      <th>ProofType</th>\n",
       "      <th>TotalCoinsMined</th>\n",
       "      <th>TotalCoinSupply</th>\n",
       "    </tr>\n",
       "  </thead>\n",
       "  <tbody>\n",
       "    <tr>\n",
       "      <th>42</th>\n",
       "      <td>42 Coin</td>\n",
       "      <td>Scrypt</td>\n",
       "      <td>True</td>\n",
       "      <td>PoW/PoS</td>\n",
       "      <td>4.199995e+01</td>\n",
       "      <td>42</td>\n",
       "    </tr>\n",
       "    <tr>\n",
       "      <th>365</th>\n",
       "      <td>365Coin</td>\n",
       "      <td>X11</td>\n",
       "      <td>True</td>\n",
       "      <td>PoW/PoS</td>\n",
       "      <td>NaN</td>\n",
       "      <td>2300000000</td>\n",
       "    </tr>\n",
       "    <tr>\n",
       "      <th>404</th>\n",
       "      <td>404Coin</td>\n",
       "      <td>Scrypt</td>\n",
       "      <td>True</td>\n",
       "      <td>PoW/PoS</td>\n",
       "      <td>1.055185e+09</td>\n",
       "      <td>532000000</td>\n",
       "    </tr>\n",
       "    <tr>\n",
       "      <th>611</th>\n",
       "      <td>SixEleven</td>\n",
       "      <td>SHA-256</td>\n",
       "      <td>True</td>\n",
       "      <td>PoW</td>\n",
       "      <td>NaN</td>\n",
       "      <td>611000</td>\n",
       "    </tr>\n",
       "    <tr>\n",
       "      <th>808</th>\n",
       "      <td>808</td>\n",
       "      <td>SHA-256</td>\n",
       "      <td>True</td>\n",
       "      <td>PoW/PoS</td>\n",
       "      <td>0.000000e+00</td>\n",
       "      <td>0</td>\n",
       "    </tr>\n",
       "    <tr>\n",
       "      <th>1337</th>\n",
       "      <td>EliteCoin</td>\n",
       "      <td>X13</td>\n",
       "      <td>True</td>\n",
       "      <td>PoW/PoS</td>\n",
       "      <td>2.927942e+10</td>\n",
       "      <td>314159265359</td>\n",
       "    </tr>\n",
       "    <tr>\n",
       "      <th>2015</th>\n",
       "      <td>2015 coin</td>\n",
       "      <td>X11</td>\n",
       "      <td>True</td>\n",
       "      <td>PoW/PoS</td>\n",
       "      <td>NaN</td>\n",
       "      <td>0</td>\n",
       "    </tr>\n",
       "    <tr>\n",
       "      <th>BTC</th>\n",
       "      <td>Bitcoin</td>\n",
       "      <td>SHA-256</td>\n",
       "      <td>True</td>\n",
       "      <td>PoW</td>\n",
       "      <td>1.792718e+07</td>\n",
       "      <td>21000000</td>\n",
       "    </tr>\n",
       "    <tr>\n",
       "      <th>ETH</th>\n",
       "      <td>Ethereum</td>\n",
       "      <td>Ethash</td>\n",
       "      <td>True</td>\n",
       "      <td>PoW</td>\n",
       "      <td>1.076842e+08</td>\n",
       "      <td>0</td>\n",
       "    </tr>\n",
       "    <tr>\n",
       "      <th>LTC</th>\n",
       "      <td>Litecoin</td>\n",
       "      <td>Scrypt</td>\n",
       "      <td>True</td>\n",
       "      <td>PoW</td>\n",
       "      <td>6.303924e+07</td>\n",
       "      <td>84000000</td>\n",
       "    </tr>\n",
       "  </tbody>\n",
       "</table>\n",
       "</div>"
      ],
      "text/plain": [
       "       CoinName Algorithm  IsTrading ProofType  TotalCoinsMined  \\\n",
       "42      42 Coin    Scrypt       True   PoW/PoS     4.199995e+01   \n",
       "365     365Coin       X11       True   PoW/PoS              NaN   \n",
       "404     404Coin    Scrypt       True   PoW/PoS     1.055185e+09   \n",
       "611   SixEleven   SHA-256       True       PoW              NaN   \n",
       "808         808   SHA-256       True   PoW/PoS     0.000000e+00   \n",
       "1337  EliteCoin       X13       True   PoW/PoS     2.927942e+10   \n",
       "2015  2015 coin       X11       True   PoW/PoS              NaN   \n",
       "BTC     Bitcoin   SHA-256       True       PoW     1.792718e+07   \n",
       "ETH    Ethereum    Ethash       True       PoW     1.076842e+08   \n",
       "LTC    Litecoin    Scrypt       True       PoW     6.303924e+07   \n",
       "\n",
       "     TotalCoinSupply  \n",
       "42                42  \n",
       "365       2300000000  \n",
       "404        532000000  \n",
       "611           611000  \n",
       "808                0  \n",
       "1337    314159265359  \n",
       "2015               0  \n",
       "BTC         21000000  \n",
       "ETH                0  \n",
       "LTC         84000000  "
      ]
     },
     "execution_count": 249,
     "metadata": {},
     "output_type": "execute_result"
    }
   ],
   "source": [
    "# Load the crypto_data.csv dataset.\n",
    "file_path = 'Resources\\crypto_data.csv' \n",
    "Crypto_df = pd.read_csv(file_path, index_col=0)\n",
    "Crypto_df.head(10)"
   ]
  },
  {
   "cell_type": "code",
   "execution_count": 250,
   "metadata": {},
   "outputs": [
    {
     "data": {
      "text/plain": [
       "Index(['CoinName', 'Algorithm', 'IsTrading', 'ProofType', 'TotalCoinsMined',\n",
       "       'TotalCoinSupply'],\n",
       "      dtype='object')"
      ]
     },
     "execution_count": 250,
     "metadata": {},
     "output_type": "execute_result"
    }
   ],
   "source": [
    "Crypto_df.columns"
   ]
  },
  {
   "cell_type": "code",
   "execution_count": 251,
   "metadata": {},
   "outputs": [
    {
     "data": {
      "text/plain": [
       "array([ True, False])"
      ]
     },
     "execution_count": 251,
     "metadata": {},
     "output_type": "execute_result"
    }
   ],
   "source": [
    "Crypto_df.IsTrading.unique()"
   ]
  },
  {
   "cell_type": "code",
   "execution_count": 252,
   "metadata": {},
   "outputs": [],
   "source": [
    "# Keep all the cryptocurrencies that are being traded.\n",
    "Crypto_df = Crypto_df.loc[Crypto_df['IsTrading'] == True]"
   ]
  },
  {
   "cell_type": "code",
   "execution_count": 253,
   "metadata": {},
   "outputs": [
    {
     "data": {
      "text/html": [
       "<div>\n",
       "<style scoped>\n",
       "    .dataframe tbody tr th:only-of-type {\n",
       "        vertical-align: middle;\n",
       "    }\n",
       "\n",
       "    .dataframe tbody tr th {\n",
       "        vertical-align: top;\n",
       "    }\n",
       "\n",
       "    .dataframe thead th {\n",
       "        text-align: right;\n",
       "    }\n",
       "</style>\n",
       "<table border=\"1\" class=\"dataframe\">\n",
       "  <thead>\n",
       "    <tr style=\"text-align: right;\">\n",
       "      <th></th>\n",
       "      <th>CoinName</th>\n",
       "      <th>Algorithm</th>\n",
       "      <th>IsTrading</th>\n",
       "      <th>ProofType</th>\n",
       "      <th>TotalCoinsMined</th>\n",
       "      <th>TotalCoinSupply</th>\n",
       "    </tr>\n",
       "  </thead>\n",
       "  <tbody>\n",
       "    <tr>\n",
       "      <th>42</th>\n",
       "      <td>42 Coin</td>\n",
       "      <td>Scrypt</td>\n",
       "      <td>True</td>\n",
       "      <td>PoW/PoS</td>\n",
       "      <td>4.199995e+01</td>\n",
       "      <td>42</td>\n",
       "    </tr>\n",
       "    <tr>\n",
       "      <th>365</th>\n",
       "      <td>365Coin</td>\n",
       "      <td>X11</td>\n",
       "      <td>True</td>\n",
       "      <td>PoW/PoS</td>\n",
       "      <td>NaN</td>\n",
       "      <td>2300000000</td>\n",
       "    </tr>\n",
       "    <tr>\n",
       "      <th>404</th>\n",
       "      <td>404Coin</td>\n",
       "      <td>Scrypt</td>\n",
       "      <td>True</td>\n",
       "      <td>PoW/PoS</td>\n",
       "      <td>1.055185e+09</td>\n",
       "      <td>532000000</td>\n",
       "    </tr>\n",
       "    <tr>\n",
       "      <th>611</th>\n",
       "      <td>SixEleven</td>\n",
       "      <td>SHA-256</td>\n",
       "      <td>True</td>\n",
       "      <td>PoW</td>\n",
       "      <td>NaN</td>\n",
       "      <td>611000</td>\n",
       "    </tr>\n",
       "    <tr>\n",
       "      <th>808</th>\n",
       "      <td>808</td>\n",
       "      <td>SHA-256</td>\n",
       "      <td>True</td>\n",
       "      <td>PoW/PoS</td>\n",
       "      <td>0.000000e+00</td>\n",
       "      <td>0</td>\n",
       "    </tr>\n",
       "  </tbody>\n",
       "</table>\n",
       "</div>"
      ],
      "text/plain": [
       "      CoinName Algorithm  IsTrading ProofType  TotalCoinsMined TotalCoinSupply\n",
       "42     42 Coin    Scrypt       True   PoW/PoS     4.199995e+01              42\n",
       "365    365Coin       X11       True   PoW/PoS              NaN      2300000000\n",
       "404    404Coin    Scrypt       True   PoW/PoS     1.055185e+09       532000000\n",
       "611  SixEleven   SHA-256       True       PoW              NaN          611000\n",
       "808        808   SHA-256       True   PoW/PoS     0.000000e+00               0"
      ]
     },
     "execution_count": 253,
     "metadata": {},
     "output_type": "execute_result"
    }
   ],
   "source": [
    "Crypto_df.head()"
   ]
  },
  {
   "cell_type": "code",
   "execution_count": 254,
   "metadata": {},
   "outputs": [
    {
     "data": {
      "text/plain": [
       "array(['Scrypt', 'X11', 'SHA-256', 'X13', 'Ethash', 'CryptoNight-V7',\n",
       "       'Equihash', 'SHA-512', 'Multiple', 'X15', 'NIST5', 'Quark',\n",
       "       'Groestl', 'PoS', 'NeoScrypt', 'SHA3', 'HybridScryptHash256',\n",
       "       'Scrypt-n', 'PHI1612', 'Lyra2REv2', 'CryptoNight', 'Shabal256',\n",
       "       'Counterparty', 'Blake', 'Momentum', 'Stanford Folding', 'QuBit',\n",
       "       'XG Hash', 'M7 POW', 'Curve25519', 'Lyra2RE', 'QUAIT', 'vDPOS',\n",
       "       'Blake2b', 'BLAKE256', '1GB AES Pattern Search', 'Dagger',\n",
       "       'CryptoNight-Lite', 'X11GOST', 'SHA-256D', 'POS 3.0',\n",
       "       'Progressive-n', 'DPoS', 'Lyra2Z', 'X14', 'Time Travel', 'Argon2',\n",
       "       'Keccak', 'Blake2S', 'Dagger-Hashimoto', '536', 'Argon2d',\n",
       "       'Cloverhash', 'Skein', 'SkunkHash v2 Raptor',\n",
       "       'VeChainThor Authority', 'Ouroboros', 'POS 2.0', 'SkunkHash',\n",
       "       'C11', 'Proof-of-BibleHash', 'SHA-256 + Hive',\n",
       "       'Proof-of-Authority', 'XEVAN', 'VBFT', 'YescryptR16', 'IMesh',\n",
       "       'Green Protocol', 'Semux BFT consensus', 'X16R', 'Tribus',\n",
       "       'CryptoNight Heavy', 'Jump Consistent Hash', 'HMQ1725', 'Zhash',\n",
       "       'Cryptonight-GPU', 'ECC 256K1', 'CryptoNight Heavy X',\n",
       "       'Rainforest', 'Exosis', 'CryptoNight-lite', 'QuarkTX',\n",
       "       'Leased POS', 'Equihash1927', 'T-Inside', 'SHA3-256',\n",
       "       'Equihash+Scrypt', 'Slatechain', 'TRC10'], dtype=object)"
      ]
     },
     "execution_count": 254,
     "metadata": {},
     "output_type": "execute_result"
    }
   ],
   "source": [
    "Crypto_df.Algorithm.unique()"
   ]
  },
  {
   "cell_type": "code",
   "execution_count": 255,
   "metadata": {},
   "outputs": [],
   "source": [
    "# Keep all the cryptocurrencies that have a working algorithm.\n",
    "Crypto_df = Crypto_df.dropna(axis=0, subset=['Algorithm'])"
   ]
  },
  {
   "cell_type": "code",
   "execution_count": 256,
   "metadata": {},
   "outputs": [],
   "source": [
    "# Remove the \"IsTrading\" column. \n",
    "Crypto_df = Crypto_df.drop(['IsTrading'],axis = 1)"
   ]
  },
  {
   "cell_type": "code",
   "execution_count": 257,
   "metadata": {},
   "outputs": [
    {
     "data": {
      "text/html": [
       "<div>\n",
       "<style scoped>\n",
       "    .dataframe tbody tr th:only-of-type {\n",
       "        vertical-align: middle;\n",
       "    }\n",
       "\n",
       "    .dataframe tbody tr th {\n",
       "        vertical-align: top;\n",
       "    }\n",
       "\n",
       "    .dataframe thead th {\n",
       "        text-align: right;\n",
       "    }\n",
       "</style>\n",
       "<table border=\"1\" class=\"dataframe\">\n",
       "  <thead>\n",
       "    <tr style=\"text-align: right;\">\n",
       "      <th></th>\n",
       "      <th>CoinName</th>\n",
       "      <th>Algorithm</th>\n",
       "      <th>ProofType</th>\n",
       "      <th>TotalCoinsMined</th>\n",
       "      <th>TotalCoinSupply</th>\n",
       "    </tr>\n",
       "  </thead>\n",
       "  <tbody>\n",
       "    <tr>\n",
       "      <th>42</th>\n",
       "      <td>42 Coin</td>\n",
       "      <td>Scrypt</td>\n",
       "      <td>PoW/PoS</td>\n",
       "      <td>4.199995e+01</td>\n",
       "      <td>42</td>\n",
       "    </tr>\n",
       "    <tr>\n",
       "      <th>365</th>\n",
       "      <td>365Coin</td>\n",
       "      <td>X11</td>\n",
       "      <td>PoW/PoS</td>\n",
       "      <td>NaN</td>\n",
       "      <td>2300000000</td>\n",
       "    </tr>\n",
       "    <tr>\n",
       "      <th>404</th>\n",
       "      <td>404Coin</td>\n",
       "      <td>Scrypt</td>\n",
       "      <td>PoW/PoS</td>\n",
       "      <td>1.055185e+09</td>\n",
       "      <td>532000000</td>\n",
       "    </tr>\n",
       "    <tr>\n",
       "      <th>611</th>\n",
       "      <td>SixEleven</td>\n",
       "      <td>SHA-256</td>\n",
       "      <td>PoW</td>\n",
       "      <td>NaN</td>\n",
       "      <td>611000</td>\n",
       "    </tr>\n",
       "    <tr>\n",
       "      <th>808</th>\n",
       "      <td>808</td>\n",
       "      <td>SHA-256</td>\n",
       "      <td>PoW/PoS</td>\n",
       "      <td>0.000000e+00</td>\n",
       "      <td>0</td>\n",
       "    </tr>\n",
       "    <tr>\n",
       "      <th>...</th>\n",
       "      <td>...</td>\n",
       "      <td>...</td>\n",
       "      <td>...</td>\n",
       "      <td>...</td>\n",
       "      <td>...</td>\n",
       "    </tr>\n",
       "    <tr>\n",
       "      <th>SERO</th>\n",
       "      <td>Super Zero</td>\n",
       "      <td>Ethash</td>\n",
       "      <td>PoW</td>\n",
       "      <td>NaN</td>\n",
       "      <td>1000000000</td>\n",
       "    </tr>\n",
       "    <tr>\n",
       "      <th>UOS</th>\n",
       "      <td>UOS</td>\n",
       "      <td>SHA-256</td>\n",
       "      <td>DPoI</td>\n",
       "      <td>NaN</td>\n",
       "      <td>1000000000</td>\n",
       "    </tr>\n",
       "    <tr>\n",
       "      <th>BDX</th>\n",
       "      <td>Beldex</td>\n",
       "      <td>CryptoNight</td>\n",
       "      <td>PoW</td>\n",
       "      <td>9.802226e+08</td>\n",
       "      <td>1400222610</td>\n",
       "    </tr>\n",
       "    <tr>\n",
       "      <th>ZEN</th>\n",
       "      <td>Horizen</td>\n",
       "      <td>Equihash</td>\n",
       "      <td>PoW</td>\n",
       "      <td>7.296538e+06</td>\n",
       "      <td>21000000</td>\n",
       "    </tr>\n",
       "    <tr>\n",
       "      <th>XBC</th>\n",
       "      <td>BitcoinPlus</td>\n",
       "      <td>Scrypt</td>\n",
       "      <td>PoS</td>\n",
       "      <td>1.283270e+05</td>\n",
       "      <td>1000000</td>\n",
       "    </tr>\n",
       "  </tbody>\n",
       "</table>\n",
       "<p>1144 rows × 5 columns</p>\n",
       "</div>"
      ],
      "text/plain": [
       "         CoinName    Algorithm ProofType  TotalCoinsMined TotalCoinSupply\n",
       "42        42 Coin       Scrypt   PoW/PoS     4.199995e+01              42\n",
       "365       365Coin          X11   PoW/PoS              NaN      2300000000\n",
       "404       404Coin       Scrypt   PoW/PoS     1.055185e+09       532000000\n",
       "611     SixEleven      SHA-256       PoW              NaN          611000\n",
       "808           808      SHA-256   PoW/PoS     0.000000e+00               0\n",
       "...           ...          ...       ...              ...             ...\n",
       "SERO   Super Zero       Ethash       PoW              NaN      1000000000\n",
       "UOS           UOS      SHA-256      DPoI              NaN      1000000000\n",
       "BDX        Beldex  CryptoNight       PoW     9.802226e+08      1400222610\n",
       "ZEN       Horizen     Equihash       PoW     7.296538e+06        21000000\n",
       "XBC   BitcoinPlus       Scrypt       PoS     1.283270e+05         1000000\n",
       "\n",
       "[1144 rows x 5 columns]"
      ]
     },
     "execution_count": 257,
     "metadata": {},
     "output_type": "execute_result"
    }
   ],
   "source": [
    "Crypto_df"
   ]
  },
  {
   "cell_type": "code",
   "execution_count": 258,
   "metadata": {},
   "outputs": [],
   "source": [
    "# Remove rows that have at least 1 null value.\n",
    "Crypto_df = Crypto_df.dropna()"
   ]
  },
  {
   "cell_type": "code",
   "execution_count": 259,
   "metadata": {},
   "outputs": [
    {
     "data": {
      "text/html": [
       "<div>\n",
       "<style scoped>\n",
       "    .dataframe tbody tr th:only-of-type {\n",
       "        vertical-align: middle;\n",
       "    }\n",
       "\n",
       "    .dataframe tbody tr th {\n",
       "        vertical-align: top;\n",
       "    }\n",
       "\n",
       "    .dataframe thead th {\n",
       "        text-align: right;\n",
       "    }\n",
       "</style>\n",
       "<table border=\"1\" class=\"dataframe\">\n",
       "  <thead>\n",
       "    <tr style=\"text-align: right;\">\n",
       "      <th></th>\n",
       "      <th>CoinName</th>\n",
       "      <th>Algorithm</th>\n",
       "      <th>ProofType</th>\n",
       "      <th>TotalCoinsMined</th>\n",
       "      <th>TotalCoinSupply</th>\n",
       "    </tr>\n",
       "  </thead>\n",
       "  <tbody>\n",
       "    <tr>\n",
       "      <th>42</th>\n",
       "      <td>42 Coin</td>\n",
       "      <td>Scrypt</td>\n",
       "      <td>PoW/PoS</td>\n",
       "      <td>4.199995e+01</td>\n",
       "      <td>42</td>\n",
       "    </tr>\n",
       "    <tr>\n",
       "      <th>404</th>\n",
       "      <td>404Coin</td>\n",
       "      <td>Scrypt</td>\n",
       "      <td>PoW/PoS</td>\n",
       "      <td>1.055185e+09</td>\n",
       "      <td>532000000</td>\n",
       "    </tr>\n",
       "    <tr>\n",
       "      <th>1337</th>\n",
       "      <td>EliteCoin</td>\n",
       "      <td>X13</td>\n",
       "      <td>PoW/PoS</td>\n",
       "      <td>2.927942e+10</td>\n",
       "      <td>314159265359</td>\n",
       "    </tr>\n",
       "    <tr>\n",
       "      <th>BTC</th>\n",
       "      <td>Bitcoin</td>\n",
       "      <td>SHA-256</td>\n",
       "      <td>PoW</td>\n",
       "      <td>1.792718e+07</td>\n",
       "      <td>21000000</td>\n",
       "    </tr>\n",
       "    <tr>\n",
       "      <th>ETH</th>\n",
       "      <td>Ethereum</td>\n",
       "      <td>Ethash</td>\n",
       "      <td>PoW</td>\n",
       "      <td>1.076842e+08</td>\n",
       "      <td>0</td>\n",
       "    </tr>\n",
       "    <tr>\n",
       "      <th>...</th>\n",
       "      <td>...</td>\n",
       "      <td>...</td>\n",
       "      <td>...</td>\n",
       "      <td>...</td>\n",
       "      <td>...</td>\n",
       "    </tr>\n",
       "    <tr>\n",
       "      <th>ZEPH</th>\n",
       "      <td>ZEPHYR</td>\n",
       "      <td>SHA-256</td>\n",
       "      <td>DPoS</td>\n",
       "      <td>2.000000e+09</td>\n",
       "      <td>2000000000</td>\n",
       "    </tr>\n",
       "    <tr>\n",
       "      <th>GAP</th>\n",
       "      <td>Gapcoin</td>\n",
       "      <td>Scrypt</td>\n",
       "      <td>PoW/PoS</td>\n",
       "      <td>1.493105e+07</td>\n",
       "      <td>250000000</td>\n",
       "    </tr>\n",
       "    <tr>\n",
       "      <th>BDX</th>\n",
       "      <td>Beldex</td>\n",
       "      <td>CryptoNight</td>\n",
       "      <td>PoW</td>\n",
       "      <td>9.802226e+08</td>\n",
       "      <td>1400222610</td>\n",
       "    </tr>\n",
       "    <tr>\n",
       "      <th>ZEN</th>\n",
       "      <td>Horizen</td>\n",
       "      <td>Equihash</td>\n",
       "      <td>PoW</td>\n",
       "      <td>7.296538e+06</td>\n",
       "      <td>21000000</td>\n",
       "    </tr>\n",
       "    <tr>\n",
       "      <th>XBC</th>\n",
       "      <td>BitcoinPlus</td>\n",
       "      <td>Scrypt</td>\n",
       "      <td>PoS</td>\n",
       "      <td>1.283270e+05</td>\n",
       "      <td>1000000</td>\n",
       "    </tr>\n",
       "  </tbody>\n",
       "</table>\n",
       "<p>532 rows × 5 columns</p>\n",
       "</div>"
      ],
      "text/plain": [
       "         CoinName    Algorithm ProofType  TotalCoinsMined TotalCoinSupply\n",
       "42        42 Coin       Scrypt   PoW/PoS     4.199995e+01              42\n",
       "404       404Coin       Scrypt   PoW/PoS     1.055185e+09       532000000\n",
       "1337    EliteCoin          X13   PoW/PoS     2.927942e+10    314159265359\n",
       "BTC       Bitcoin      SHA-256       PoW     1.792718e+07        21000000\n",
       "ETH      Ethereum       Ethash       PoW     1.076842e+08               0\n",
       "...           ...          ...       ...              ...             ...\n",
       "ZEPH       ZEPHYR      SHA-256      DPoS     2.000000e+09      2000000000\n",
       "GAP       Gapcoin       Scrypt   PoW/PoS     1.493105e+07       250000000\n",
       "BDX        Beldex  CryptoNight       PoW     9.802226e+08      1400222610\n",
       "ZEN       Horizen     Equihash       PoW     7.296538e+06        21000000\n",
       "XBC   BitcoinPlus       Scrypt       PoS     1.283270e+05         1000000\n",
       "\n",
       "[532 rows x 5 columns]"
      ]
     },
     "execution_count": 259,
     "metadata": {},
     "output_type": "execute_result"
    }
   ],
   "source": [
    "# Keep the rows where coins are mined.\n",
    "Crypto_df = Crypto_df.loc[Crypto_df['TotalCoinsMined'] > 0]\n",
    "Crypto_df"
   ]
  },
  {
   "cell_type": "code",
   "execution_count": 260,
   "metadata": {},
   "outputs": [],
   "source": [
    "# Create a new DataFrame that holds only the cryptocurrencies names.\n",
    "Names_df = Crypto_df[[\"CoinName\"]]"
   ]
  },
  {
   "cell_type": "code",
   "execution_count": 261,
   "metadata": {},
   "outputs": [
    {
     "data": {
      "text/html": [
       "<div>\n",
       "<style scoped>\n",
       "    .dataframe tbody tr th:only-of-type {\n",
       "        vertical-align: middle;\n",
       "    }\n",
       "\n",
       "    .dataframe tbody tr th {\n",
       "        vertical-align: top;\n",
       "    }\n",
       "\n",
       "    .dataframe thead th {\n",
       "        text-align: right;\n",
       "    }\n",
       "</style>\n",
       "<table border=\"1\" class=\"dataframe\">\n",
       "  <thead>\n",
       "    <tr style=\"text-align: right;\">\n",
       "      <th></th>\n",
       "      <th>Algorithm</th>\n",
       "      <th>ProofType</th>\n",
       "      <th>TotalCoinsMined</th>\n",
       "      <th>TotalCoinSupply</th>\n",
       "    </tr>\n",
       "  </thead>\n",
       "  <tbody>\n",
       "    <tr>\n",
       "      <th>42</th>\n",
       "      <td>Scrypt</td>\n",
       "      <td>PoW/PoS</td>\n",
       "      <td>4.199995e+01</td>\n",
       "      <td>42</td>\n",
       "    </tr>\n",
       "    <tr>\n",
       "      <th>404</th>\n",
       "      <td>Scrypt</td>\n",
       "      <td>PoW/PoS</td>\n",
       "      <td>1.055185e+09</td>\n",
       "      <td>532000000</td>\n",
       "    </tr>\n",
       "    <tr>\n",
       "      <th>1337</th>\n",
       "      <td>X13</td>\n",
       "      <td>PoW/PoS</td>\n",
       "      <td>2.927942e+10</td>\n",
       "      <td>314159265359</td>\n",
       "    </tr>\n",
       "    <tr>\n",
       "      <th>BTC</th>\n",
       "      <td>SHA-256</td>\n",
       "      <td>PoW</td>\n",
       "      <td>1.792718e+07</td>\n",
       "      <td>21000000</td>\n",
       "    </tr>\n",
       "    <tr>\n",
       "      <th>ETH</th>\n",
       "      <td>Ethash</td>\n",
       "      <td>PoW</td>\n",
       "      <td>1.076842e+08</td>\n",
       "      <td>0</td>\n",
       "    </tr>\n",
       "  </tbody>\n",
       "</table>\n",
       "</div>"
      ],
      "text/plain": [
       "     Algorithm ProofType  TotalCoinsMined TotalCoinSupply\n",
       "42      Scrypt   PoW/PoS     4.199995e+01              42\n",
       "404     Scrypt   PoW/PoS     1.055185e+09       532000000\n",
       "1337       X13   PoW/PoS     2.927942e+10    314159265359\n",
       "BTC    SHA-256       PoW     1.792718e+07        21000000\n",
       "ETH     Ethash       PoW     1.076842e+08               0"
      ]
     },
     "execution_count": 261,
     "metadata": {},
     "output_type": "execute_result"
    }
   ],
   "source": [
    "# Drop the 'CoinName' column since it's not going to be used on the clustering algorithm.\n",
    "Crypto_df = Crypto_df.drop(['CoinName'], axis=1)\n",
    "Crypto_df.head()"
   ]
  },
  {
   "cell_type": "code",
   "execution_count": 262,
   "metadata": {},
   "outputs": [
    {
     "data": {
      "text/html": [
       "<div>\n",
       "<style scoped>\n",
       "    .dataframe tbody tr th:only-of-type {\n",
       "        vertical-align: middle;\n",
       "    }\n",
       "\n",
       "    .dataframe tbody tr th {\n",
       "        vertical-align: top;\n",
       "    }\n",
       "\n",
       "    .dataframe thead th {\n",
       "        text-align: right;\n",
       "    }\n",
       "</style>\n",
       "<table border=\"1\" class=\"dataframe\">\n",
       "  <thead>\n",
       "    <tr style=\"text-align: right;\">\n",
       "      <th></th>\n",
       "      <th>TotalCoinsMined</th>\n",
       "      <th>TotalCoinSupply</th>\n",
       "      <th>Algorithm_1GB AES Pattern Search</th>\n",
       "      <th>Algorithm_536</th>\n",
       "      <th>Algorithm_Argon2d</th>\n",
       "      <th>Algorithm_BLAKE256</th>\n",
       "      <th>Algorithm_Blake</th>\n",
       "      <th>Algorithm_Blake2S</th>\n",
       "      <th>Algorithm_Blake2b</th>\n",
       "      <th>Algorithm_C11</th>\n",
       "      <th>...</th>\n",
       "      <th>ProofType_PoW/PoS</th>\n",
       "      <th>ProofType_PoW/PoS</th>\n",
       "      <th>ProofType_PoW/PoW</th>\n",
       "      <th>ProofType_PoW/nPoS</th>\n",
       "      <th>ProofType_Pos</th>\n",
       "      <th>ProofType_Proof of Authority</th>\n",
       "      <th>ProofType_Proof of Trust</th>\n",
       "      <th>ProofType_TPoS</th>\n",
       "      <th>ProofType_Zero-Knowledge Proof</th>\n",
       "      <th>ProofType_dPoW/PoW</th>\n",
       "    </tr>\n",
       "  </thead>\n",
       "  <tbody>\n",
       "    <tr>\n",
       "      <th>42</th>\n",
       "      <td>4.199995e+01</td>\n",
       "      <td>42</td>\n",
       "      <td>0</td>\n",
       "      <td>0</td>\n",
       "      <td>0</td>\n",
       "      <td>0</td>\n",
       "      <td>0</td>\n",
       "      <td>0</td>\n",
       "      <td>0</td>\n",
       "      <td>0</td>\n",
       "      <td>...</td>\n",
       "      <td>1</td>\n",
       "      <td>0</td>\n",
       "      <td>0</td>\n",
       "      <td>0</td>\n",
       "      <td>0</td>\n",
       "      <td>0</td>\n",
       "      <td>0</td>\n",
       "      <td>0</td>\n",
       "      <td>0</td>\n",
       "      <td>0</td>\n",
       "    </tr>\n",
       "    <tr>\n",
       "      <th>404</th>\n",
       "      <td>1.055185e+09</td>\n",
       "      <td>532000000</td>\n",
       "      <td>0</td>\n",
       "      <td>0</td>\n",
       "      <td>0</td>\n",
       "      <td>0</td>\n",
       "      <td>0</td>\n",
       "      <td>0</td>\n",
       "      <td>0</td>\n",
       "      <td>0</td>\n",
       "      <td>...</td>\n",
       "      <td>1</td>\n",
       "      <td>0</td>\n",
       "      <td>0</td>\n",
       "      <td>0</td>\n",
       "      <td>0</td>\n",
       "      <td>0</td>\n",
       "      <td>0</td>\n",
       "      <td>0</td>\n",
       "      <td>0</td>\n",
       "      <td>0</td>\n",
       "    </tr>\n",
       "    <tr>\n",
       "      <th>1337</th>\n",
       "      <td>2.927942e+10</td>\n",
       "      <td>314159265359</td>\n",
       "      <td>0</td>\n",
       "      <td>0</td>\n",
       "      <td>0</td>\n",
       "      <td>0</td>\n",
       "      <td>0</td>\n",
       "      <td>0</td>\n",
       "      <td>0</td>\n",
       "      <td>0</td>\n",
       "      <td>...</td>\n",
       "      <td>1</td>\n",
       "      <td>0</td>\n",
       "      <td>0</td>\n",
       "      <td>0</td>\n",
       "      <td>0</td>\n",
       "      <td>0</td>\n",
       "      <td>0</td>\n",
       "      <td>0</td>\n",
       "      <td>0</td>\n",
       "      <td>0</td>\n",
       "    </tr>\n",
       "    <tr>\n",
       "      <th>BTC</th>\n",
       "      <td>1.792718e+07</td>\n",
       "      <td>21000000</td>\n",
       "      <td>0</td>\n",
       "      <td>0</td>\n",
       "      <td>0</td>\n",
       "      <td>0</td>\n",
       "      <td>0</td>\n",
       "      <td>0</td>\n",
       "      <td>0</td>\n",
       "      <td>0</td>\n",
       "      <td>...</td>\n",
       "      <td>0</td>\n",
       "      <td>0</td>\n",
       "      <td>0</td>\n",
       "      <td>0</td>\n",
       "      <td>0</td>\n",
       "      <td>0</td>\n",
       "      <td>0</td>\n",
       "      <td>0</td>\n",
       "      <td>0</td>\n",
       "      <td>0</td>\n",
       "    </tr>\n",
       "    <tr>\n",
       "      <th>ETH</th>\n",
       "      <td>1.076842e+08</td>\n",
       "      <td>0</td>\n",
       "      <td>0</td>\n",
       "      <td>0</td>\n",
       "      <td>0</td>\n",
       "      <td>0</td>\n",
       "      <td>0</td>\n",
       "      <td>0</td>\n",
       "      <td>0</td>\n",
       "      <td>0</td>\n",
       "      <td>...</td>\n",
       "      <td>0</td>\n",
       "      <td>0</td>\n",
       "      <td>0</td>\n",
       "      <td>0</td>\n",
       "      <td>0</td>\n",
       "      <td>0</td>\n",
       "      <td>0</td>\n",
       "      <td>0</td>\n",
       "      <td>0</td>\n",
       "      <td>0</td>\n",
       "    </tr>\n",
       "  </tbody>\n",
       "</table>\n",
       "<p>5 rows × 98 columns</p>\n",
       "</div>"
      ],
      "text/plain": [
       "      TotalCoinsMined TotalCoinSupply  Algorithm_1GB AES Pattern Search  \\\n",
       "42       4.199995e+01              42                                 0   \n",
       "404      1.055185e+09       532000000                                 0   \n",
       "1337     2.927942e+10    314159265359                                 0   \n",
       "BTC      1.792718e+07        21000000                                 0   \n",
       "ETH      1.076842e+08               0                                 0   \n",
       "\n",
       "      Algorithm_536  Algorithm_Argon2d  Algorithm_BLAKE256  Algorithm_Blake  \\\n",
       "42                0                  0                   0                0   \n",
       "404               0                  0                   0                0   \n",
       "1337              0                  0                   0                0   \n",
       "BTC               0                  0                   0                0   \n",
       "ETH               0                  0                   0                0   \n",
       "\n",
       "      Algorithm_Blake2S  Algorithm_Blake2b  Algorithm_C11  ...  \\\n",
       "42                    0                  0              0  ...   \n",
       "404                   0                  0              0  ...   \n",
       "1337                  0                  0              0  ...   \n",
       "BTC                   0                  0              0  ...   \n",
       "ETH                   0                  0              0  ...   \n",
       "\n",
       "      ProofType_PoW/PoS  ProofType_PoW/PoS   ProofType_PoW/PoW  \\\n",
       "42                    1                   0                  0   \n",
       "404                   1                   0                  0   \n",
       "1337                  1                   0                  0   \n",
       "BTC                   0                   0                  0   \n",
       "ETH                   0                   0                  0   \n",
       "\n",
       "      ProofType_PoW/nPoS  ProofType_Pos  ProofType_Proof of Authority  \\\n",
       "42                     0              0                             0   \n",
       "404                    0              0                             0   \n",
       "1337                   0              0                             0   \n",
       "BTC                    0              0                             0   \n",
       "ETH                    0              0                             0   \n",
       "\n",
       "      ProofType_Proof of Trust  ProofType_TPoS  \\\n",
       "42                           0               0   \n",
       "404                          0               0   \n",
       "1337                         0               0   \n",
       "BTC                          0               0   \n",
       "ETH                          0               0   \n",
       "\n",
       "      ProofType_Zero-Knowledge Proof  ProofType_dPoW/PoW  \n",
       "42                                 0                   0  \n",
       "404                                0                   0  \n",
       "1337                               0                   0  \n",
       "BTC                                0                   0  \n",
       "ETH                                0                   0  \n",
       "\n",
       "[5 rows x 98 columns]"
      ]
     },
     "execution_count": 262,
     "metadata": {},
     "output_type": "execute_result"
    }
   ],
   "source": [
    "# Use get_dummies() to create variables for text features.\n",
    "X = pd.get_dummies(Crypto_df, columns=['Algorithm', 'ProofType'])\n",
    "X.head()"
   ]
  },
  {
   "cell_type": "code",
   "execution_count": 263,
   "metadata": {},
   "outputs": [
    {
     "name": "stdout",
     "output_type": "stream",
     "text": [
      "[[-0.11710817 -0.1528703  -0.0433963  -0.0433963  -0.0433963  -0.06142951\n",
      "  -0.07530656 -0.0433963  -0.06142951 -0.06142951 -0.0433963  -0.0433963\n",
      "  -0.19245009 -0.06142951 -0.09740465 -0.0433963  -0.11547005 -0.07530656\n",
      "  -0.0433963  -0.0433963  -0.15191091 -0.0433963  -0.13118084 -0.0433963\n",
      "  -0.0433963  -0.08703883 -0.0433963  -0.0433963  -0.0433963  -0.0433963\n",
      "  -0.06142951 -0.0433963  -0.08703883 -0.08703883 -0.08703883 -0.0433963\n",
      "  -0.13118084 -0.13840913 -0.13840913 -0.0433963  -0.06142951 -0.0433963\n",
      "  -0.07530656 -0.18168574 -0.0433963  -0.0433963  -0.0433963  -0.07530656\n",
      "  -0.15826614 -0.31491833 -0.0433963  -0.08703883 -0.07530656 -0.06142951\n",
      "   1.38675049 -0.0433963  -0.0433963  -0.06142951 -0.0433963  -0.0433963\n",
      "  -0.0433963  -0.0433963  -0.0433963  -0.0433963  -0.0433963  -0.0433963\n",
      "  -0.39879994 -0.0433963  -0.18168574 -0.0433963  -0.08703883 -0.08703883\n",
      "  -0.10680283 -0.0433963  -0.13118084 -0.0433963  -0.0433963  -0.0433963\n",
      "  -0.0433963  -0.07530656 -0.43911856 -0.0433963  -0.06142951 -0.0433963\n",
      "  -0.0433963  -0.89632016 -0.0433963  -0.0433963   1.42222617 -0.0433963\n",
      "  -0.0433963  -0.0433963  -0.0433963  -0.0433963  -0.0433963  -0.0433963\n",
      "  -0.0433963  -0.0433963 ]\n",
      " [-0.09396955 -0.145009   -0.0433963  -0.0433963  -0.0433963  -0.06142951\n",
      "  -0.07530656 -0.0433963  -0.06142951 -0.06142951 -0.0433963  -0.0433963\n",
      "  -0.19245009 -0.06142951 -0.09740465 -0.0433963  -0.11547005 -0.07530656\n",
      "  -0.0433963  -0.0433963  -0.15191091 -0.0433963  -0.13118084 -0.0433963\n",
      "  -0.0433963  -0.08703883 -0.0433963  -0.0433963  -0.0433963  -0.0433963\n",
      "  -0.06142951 -0.0433963  -0.08703883 -0.08703883 -0.08703883 -0.0433963\n",
      "  -0.13118084 -0.13840913 -0.13840913 -0.0433963  -0.06142951 -0.0433963\n",
      "  -0.07530656 -0.18168574 -0.0433963  -0.0433963  -0.0433963  -0.07530656\n",
      "  -0.15826614 -0.31491833 -0.0433963  -0.08703883 -0.07530656 -0.06142951\n",
      "   1.38675049 -0.0433963  -0.0433963  -0.06142951 -0.0433963  -0.0433963\n",
      "  -0.0433963  -0.0433963  -0.0433963  -0.0433963  -0.0433963  -0.0433963\n",
      "  -0.39879994 -0.0433963  -0.18168574 -0.0433963  -0.08703883 -0.08703883\n",
      "  -0.10680283 -0.0433963  -0.13118084 -0.0433963  -0.0433963  -0.0433963\n",
      "  -0.0433963  -0.07530656 -0.43911856 -0.0433963  -0.06142951 -0.0433963\n",
      "  -0.0433963  -0.89632016 -0.0433963  -0.0433963   1.42222617 -0.0433963\n",
      "  -0.0433963  -0.0433963  -0.0433963  -0.0433963  -0.0433963  -0.0433963\n",
      "  -0.0433963  -0.0433963 ]\n",
      " [ 0.52494561  4.48942416 -0.0433963  -0.0433963  -0.0433963  -0.06142951\n",
      "  -0.07530656 -0.0433963  -0.06142951 -0.06142951 -0.0433963  -0.0433963\n",
      "  -0.19245009 -0.06142951 -0.09740465 -0.0433963  -0.11547005 -0.07530656\n",
      "  -0.0433963  -0.0433963  -0.15191091 -0.0433963  -0.13118084 -0.0433963\n",
      "  -0.0433963  -0.08703883 -0.0433963  -0.0433963  -0.0433963  -0.0433963\n",
      "  -0.06142951 -0.0433963  -0.08703883 -0.08703883 -0.08703883 -0.0433963\n",
      "  -0.13118084 -0.13840913 -0.13840913 -0.0433963  -0.06142951 -0.0433963\n",
      "  -0.07530656 -0.18168574 -0.0433963  -0.0433963  -0.0433963  -0.07530656\n",
      "  -0.15826614 -0.31491833 -0.0433963  -0.08703883 -0.07530656 -0.06142951\n",
      "  -0.72111026 -0.0433963  -0.0433963  -0.06142951 -0.0433963  -0.0433963\n",
      "  -0.0433963  -0.0433963  -0.0433963  -0.0433963  -0.0433963  -0.0433963\n",
      "  -0.39879994 -0.0433963   5.50400923 -0.0433963  -0.08703883 -0.08703883\n",
      "  -0.10680283 -0.0433963  -0.13118084 -0.0433963  -0.0433963  -0.0433963\n",
      "  -0.0433963  -0.07530656 -0.43911856 -0.0433963  -0.06142951 -0.0433963\n",
      "  -0.0433963  -0.89632016 -0.0433963  -0.0433963   1.42222617 -0.0433963\n",
      "  -0.0433963  -0.0433963  -0.0433963  -0.0433963  -0.0433963  -0.0433963\n",
      "  -0.0433963  -0.0433963 ]\n",
      " [-0.11671506 -0.15255998 -0.0433963  -0.0433963  -0.0433963  -0.06142951\n",
      "  -0.07530656 -0.0433963  -0.06142951 -0.06142951 -0.0433963  -0.0433963\n",
      "  -0.19245009 -0.06142951 -0.09740465 -0.0433963  -0.11547005 -0.07530656\n",
      "  -0.0433963  -0.0433963  -0.15191091 -0.0433963  -0.13118084 -0.0433963\n",
      "  -0.0433963  -0.08703883 -0.0433963  -0.0433963  -0.0433963  -0.0433963\n",
      "  -0.06142951 -0.0433963  -0.08703883 -0.08703883 -0.08703883 -0.0433963\n",
      "  -0.13118084 -0.13840913 -0.13840913 -0.0433963  -0.06142951 -0.0433963\n",
      "  -0.07530656 -0.18168574 -0.0433963  -0.0433963  -0.0433963  -0.07530656\n",
      "  -0.15826614  3.17542648 -0.0433963  -0.08703883 -0.07530656 -0.06142951\n",
      "  -0.72111026 -0.0433963  -0.0433963  -0.06142951 -0.0433963  -0.0433963\n",
      "  -0.0433963  -0.0433963  -0.0433963  -0.0433963  -0.0433963  -0.0433963\n",
      "  -0.39879994 -0.0433963  -0.18168574 -0.0433963  -0.08703883 -0.08703883\n",
      "  -0.10680283 -0.0433963  -0.13118084 -0.0433963  -0.0433963  -0.0433963\n",
      "  -0.0433963  -0.07530656 -0.43911856 -0.0433963  -0.06142951 -0.0433963\n",
      "  -0.0433963   1.11567277 -0.0433963  -0.0433963  -0.70312305 -0.0433963\n",
      "  -0.0433963  -0.0433963  -0.0433963  -0.0433963  -0.0433963  -0.0433963\n",
      "  -0.0433963  -0.0433963 ]\n",
      " [-0.11474682 -0.1528703  -0.0433963  -0.0433963  -0.0433963  -0.06142951\n",
      "  -0.07530656 -0.0433963  -0.06142951 -0.06142951 -0.0433963  -0.0433963\n",
      "  -0.19245009 -0.06142951 -0.09740465 -0.0433963  -0.11547005 -0.07530656\n",
      "  -0.0433963  -0.0433963  -0.15191091 -0.0433963   7.62306442 -0.0433963\n",
      "  -0.0433963  -0.08703883 -0.0433963  -0.0433963  -0.0433963  -0.0433963\n",
      "  -0.06142951 -0.0433963  -0.08703883 -0.08703883 -0.08703883 -0.0433963\n",
      "  -0.13118084 -0.13840913 -0.13840913 -0.0433963  -0.06142951 -0.0433963\n",
      "  -0.07530656 -0.18168574 -0.0433963  -0.0433963  -0.0433963  -0.07530656\n",
      "  -0.15826614 -0.31491833 -0.0433963  -0.08703883 -0.07530656 -0.06142951\n",
      "  -0.72111026 -0.0433963  -0.0433963  -0.06142951 -0.0433963  -0.0433963\n",
      "  -0.0433963  -0.0433963  -0.0433963  -0.0433963  -0.0433963  -0.0433963\n",
      "  -0.39879994 -0.0433963  -0.18168574 -0.0433963  -0.08703883 -0.08703883\n",
      "  -0.10680283 -0.0433963  -0.13118084 -0.0433963  -0.0433963  -0.0433963\n",
      "  -0.0433963  -0.07530656 -0.43911856 -0.0433963  -0.06142951 -0.0433963\n",
      "  -0.0433963   1.11567277 -0.0433963  -0.0433963  -0.70312305 -0.0433963\n",
      "  -0.0433963  -0.0433963  -0.0433963  -0.0433963  -0.0433963  -0.0433963\n",
      "  -0.0433963  -0.0433963 ]]\n"
     ]
    }
   ],
   "source": [
    "# Standardize the data with StandardScaler().\n",
    "X_scaled = StandardScaler().fit_transform(X)\n",
    "print(X_scaled[0:5])"
   ]
  },
  {
   "cell_type": "markdown",
   "metadata": {},
   "source": [
    "### Deliverable 2: Reducing Data Dimensions Using PCA"
   ]
  },
  {
   "cell_type": "code",
   "execution_count": 264,
   "metadata": {},
   "outputs": [],
   "source": [
    "# Using PCA to reduce dimension to three principal components.\n",
    "pca_reduce = PCA(n_components=3)"
   ]
  },
  {
   "cell_type": "code",
   "execution_count": 265,
   "metadata": {},
   "outputs": [
    {
     "data": {
      "text/plain": [
       "array([[-0.34368485,  1.11761827, -0.47520678],\n",
       "       [-0.32700377,  1.11767052, -0.47572741],\n",
       "       [ 2.29995391,  1.68644642, -0.6205224 ],\n",
       "       ...,\n",
       "       [ 0.33660574, -2.31310133,  0.33792631],\n",
       "       [-0.15453488, -1.98714728,  0.30427143],\n",
       "       [-0.28213599,  0.79145682, -0.29934424]])"
      ]
     },
     "execution_count": 265,
     "metadata": {},
     "output_type": "execute_result"
    }
   ],
   "source": [
    "# Create a DataFrame with the three principal components.\n",
    "x_PCA = pca_reduce.fit_transform(X_scaled)\n",
    "x_PCA"
   ]
  },
  {
   "cell_type": "code",
   "execution_count": 266,
   "metadata": {},
   "outputs": [
    {
     "data": {
      "text/plain": [
       "['42',\n",
       " '404',\n",
       " '1337',\n",
       " 'BTC',\n",
       " 'ETH',\n",
       " 'LTC',\n",
       " 'DASH',\n",
       " 'XMR',\n",
       " 'ETC',\n",
       " 'ZEC',\n",
       " 'BTS',\n",
       " 'DGB',\n",
       " 'BTCD',\n",
       " 'XPY',\n",
       " 'PRC',\n",
       " 'KOBO',\n",
       " 'SPR',\n",
       " 'ARG',\n",
       " 'AUR',\n",
       " 'BLU',\n",
       " 'XMY',\n",
       " 'MOON',\n",
       " 'ZET',\n",
       " 'SXC',\n",
       " 'QTL',\n",
       " 'ENRG',\n",
       " 'QRK',\n",
       " 'RIC',\n",
       " 'DGC',\n",
       " 'BTB',\n",
       " 'CAT',\n",
       " 'CBX',\n",
       " 'CCN',\n",
       " 'CRYPT',\n",
       " 'CSC',\n",
       " 'DMD',\n",
       " 'XVG',\n",
       " 'DVC',\n",
       " 'EAC',\n",
       " 'EFL',\n",
       " 'EMC2',\n",
       " 'EMD',\n",
       " 'EXCL',\n",
       " 'FLT',\n",
       " 'FRK',\n",
       " 'FTC',\n",
       " 'GDC',\n",
       " 'GLC',\n",
       " 'GLD',\n",
       " 'HBN',\n",
       " 'HYP',\n",
       " 'IFC',\n",
       " 'IOC',\n",
       " 'IXC',\n",
       " 'KGC',\n",
       " 'LKY',\n",
       " 'LTB',\n",
       " 'MAX',\n",
       " 'MEC',\n",
       " 'MED',\n",
       " 'MINT',\n",
       " 'MINC',\n",
       " 'MZC',\n",
       " 'NAUT',\n",
       " 'NAV',\n",
       " 'NOBL',\n",
       " 'NMC',\n",
       " 'NYAN',\n",
       " 'OPAL',\n",
       " 'ORB',\n",
       " 'POT',\n",
       " 'PXC',\n",
       " 'RDD',\n",
       " 'RPC',\n",
       " 'SBC',\n",
       " 'SMC',\n",
       " 'SUPER',\n",
       " 'SYNC',\n",
       " 'SYS',\n",
       " 'TES',\n",
       " 'TGC',\n",
       " 'TIT',\n",
       " 'TOR',\n",
       " 'TRC',\n",
       " 'UNB',\n",
       " 'UNO',\n",
       " 'URO',\n",
       " 'USDE',\n",
       " 'UTC',\n",
       " 'VIA',\n",
       " 'VRC',\n",
       " 'VTC',\n",
       " 'WDC',\n",
       " 'XC',\n",
       " 'XCR',\n",
       " 'XJO',\n",
       " 'XST',\n",
       " 'ZCC',\n",
       " 'BCN',\n",
       " 'XDN',\n",
       " 'BURST',\n",
       " 'SJCX',\n",
       " 'MONA',\n",
       " 'NTRN',\n",
       " 'FAIR',\n",
       " 'NLG',\n",
       " 'RBY',\n",
       " 'PTC',\n",
       " 'KORE',\n",
       " 'WBB',\n",
       " 'NOTE',\n",
       " 'FLO',\n",
       " '8BIT',\n",
       " 'STV',\n",
       " 'ABY',\n",
       " 'FLDC',\n",
       " 'U',\n",
       " 'UIS',\n",
       " 'CYP',\n",
       " 'OMC',\n",
       " 'VTR',\n",
       " 'GRE',\n",
       " 'XCN',\n",
       " 'MSC',\n",
       " 'SOON',\n",
       " '1CR',\n",
       " 'ISL',\n",
       " 'NXS',\n",
       " 'MARS',\n",
       " 'CTO',\n",
       " 'ACP',\n",
       " 'DRZ',\n",
       " 'BSC',\n",
       " 'SQL',\n",
       " 'SONG',\n",
       " 'ZNY',\n",
       " 'DIGS',\n",
       " 'EXP',\n",
       " 'CON',\n",
       " 'SC',\n",
       " 'EMC',\n",
       " 'EGC',\n",
       " 'MND',\n",
       " 'I0C',\n",
       " 'DCR',\n",
       " 'RVR',\n",
       " 'HODL',\n",
       " 'EDRC',\n",
       " 'HTC',\n",
       " 'GAME',\n",
       " 'DBIC',\n",
       " 'DIEM',\n",
       " 'PWR',\n",
       " 'BLRY',\n",
       " 'GPU',\n",
       " 'ADZ',\n",
       " 'SOIL',\n",
       " 'YOC',\n",
       " 'SIB',\n",
       " 'ERC',\n",
       " 'ZEIT',\n",
       " 'SWING',\n",
       " 'SAFEX',\n",
       " 'NEBU',\n",
       " 'FRN',\n",
       " 'BOLI',\n",
       " 'XRA',\n",
       " 'REV',\n",
       " 'CKC',\n",
       " 'VIP',\n",
       " 'BSD',\n",
       " 'OMNI',\n",
       " 'LIR',\n",
       " 'PUT',\n",
       " 'IBANK',\n",
       " 'FRWC',\n",
       " 'MUDRA',\n",
       " 'PIZZA',\n",
       " 'LC',\n",
       " 'KMD',\n",
       " 'GB',\n",
       " 'CTC',\n",
       " 'KRB',\n",
       " 'BXT',\n",
       " 'ZYD',\n",
       " 'MST',\n",
       " 'ZNE',\n",
       " 'COVAL',\n",
       " 'ROOT',\n",
       " 'DOPE',\n",
       " 'BTCR',\n",
       " 'DLC',\n",
       " 'SCN',\n",
       " 'SH',\n",
       " 'BUZZ',\n",
       " 'XPO',\n",
       " 'PSB',\n",
       " 'HALLO',\n",
       " 'XZC',\n",
       " 'CFC',\n",
       " 'ROYAL',\n",
       " 'GNJ',\n",
       " 'TEAM',\n",
       " 'LANA',\n",
       " 'ELE',\n",
       " 'ZCL',\n",
       " 'ARK',\n",
       " 'INSANE',\n",
       " 'KLC',\n",
       " 'ATX',\n",
       " 'EMB',\n",
       " 'XEN',\n",
       " 'FRE',\n",
       " 'PLNC',\n",
       " 'ARCO',\n",
       " 'KURT',\n",
       " 'XCRE',\n",
       " 'ENT',\n",
       " 'EUC',\n",
       " 'BCF',\n",
       " 'XSN',\n",
       " 'BCCOIN',\n",
       " 'MONEY',\n",
       " 'XNG',\n",
       " 'XCI',\n",
       " 'RC',\n",
       " 'PND',\n",
       " 'UNITS',\n",
       " 'GAKH',\n",
       " 'ASAFE2',\n",
       " 'LTCR',\n",
       " 'OS76',\n",
       " 'BIC',\n",
       " 'HXX',\n",
       " 'KED',\n",
       " 'IOP',\n",
       " 'KUSH',\n",
       " 'PRX',\n",
       " 'PAC',\n",
       " 'IMPCH',\n",
       " 'CTL',\n",
       " 'ZBC',\n",
       " 'FRST',\n",
       " 'BVC',\n",
       " 'FIND',\n",
       " 'VLTC',\n",
       " 'ZER',\n",
       " 'CHAT',\n",
       " 'CDN',\n",
       " 'ZOI',\n",
       " 'RNS',\n",
       " 'DBIX',\n",
       " 'XVP',\n",
       " 'TAJ',\n",
       " 'IMX',\n",
       " 'EB3',\n",
       " 'ATMOS',\n",
       " 'HPC',\n",
       " 'CXT',\n",
       " 'MCRN',\n",
       " 'RAIN',\n",
       " 'IMS',\n",
       " 'ARGUS',\n",
       " 'LMC',\n",
       " 'PROC',\n",
       " 'XGR',\n",
       " 'BENJI',\n",
       " 'GRW',\n",
       " 'ILC',\n",
       " 'PHR',\n",
       " 'DEA',\n",
       " 'HTML5',\n",
       " 'USC',\n",
       " 'EQT',\n",
       " 'QTUM',\n",
       " 'QRL',\n",
       " 'ESP',\n",
       " 'DYN',\n",
       " 'NANO',\n",
       " 'CHAN',\n",
       " 'DCY',\n",
       " 'DNR',\n",
       " 'DP',\n",
       " 'VUC',\n",
       " 'BTPL',\n",
       " 'UNIFY',\n",
       " 'BRIT',\n",
       " 'SOCC',\n",
       " 'ARC',\n",
       " 'DAS',\n",
       " 'LINDA',\n",
       " 'XLC',\n",
       " 'ONION',\n",
       " 'BTX',\n",
       " 'GCN',\n",
       " 'SMART',\n",
       " 'SIGT',\n",
       " 'ONX',\n",
       " 'CRM',\n",
       " 'BCH',\n",
       " 'XMCC',\n",
       " 'DFT',\n",
       " 'VET',\n",
       " 'SOJ',\n",
       " 'STCN',\n",
       " 'NYC',\n",
       " 'FRAZ',\n",
       " 'KRONE',\n",
       " 'ACC',\n",
       " 'LINX',\n",
       " 'XCXT',\n",
       " 'ETHD',\n",
       " 'SUMO',\n",
       " 'ODN',\n",
       " 'ADA',\n",
       " 'REC',\n",
       " 'BTCZ',\n",
       " 'TZC',\n",
       " 'ELM',\n",
       " 'TER',\n",
       " 'VIVO',\n",
       " 'RUP',\n",
       " 'BTG',\n",
       " 'WOMEN',\n",
       " 'MAY',\n",
       " 'NAMO',\n",
       " 'LUX',\n",
       " 'PIRL',\n",
       " 'XIOS',\n",
       " 'BTDX',\n",
       " 'EBST',\n",
       " 'KEK',\n",
       " 'BLHC',\n",
       " 'XIN',\n",
       " 'PURA',\n",
       " 'INN',\n",
       " 'ELLA',\n",
       " 'GBX',\n",
       " 'MAG',\n",
       " 'TAU',\n",
       " 'ECA',\n",
       " 'BCD',\n",
       " 'XSH',\n",
       " 'CNBC',\n",
       " 'XUN',\n",
       " 'COAL',\n",
       " 'DAXX',\n",
       " 'BWK',\n",
       " 'KLKS',\n",
       " 'AC3',\n",
       " 'LTHN',\n",
       " 'GER',\n",
       " 'LTCU',\n",
       " 'POP',\n",
       " 'PNX',\n",
       " 'PHO',\n",
       " 'SUCR',\n",
       " 'SPK',\n",
       " 'WAGE',\n",
       " 'GUN',\n",
       " 'IRL',\n",
       " 'TROLL',\n",
       " 'LCP',\n",
       " 'MONK',\n",
       " 'PCOIN',\n",
       " 'UBTC',\n",
       " 'ITZ',\n",
       " 'TPAY',\n",
       " 'MCT',\n",
       " 'MBC',\n",
       " 'TRTL',\n",
       " 'MUN',\n",
       " 'USX',\n",
       " 'NBR',\n",
       " 'SSS',\n",
       " 'TRF',\n",
       " 'KREDS',\n",
       " 'TOKC',\n",
       " 'BBP',\n",
       " 'LCC',\n",
       " 'FLIP',\n",
       " 'LOT',\n",
       " 'CIF',\n",
       " 'SPD',\n",
       " 'POA',\n",
       " 'PUSHI',\n",
       " 'ELP',\n",
       " 'VLX',\n",
       " 'ONT',\n",
       " 'CLO',\n",
       " 'TUBE',\n",
       " 'PSD',\n",
       " 'ADK',\n",
       " 'BSX',\n",
       " 'BRIA',\n",
       " 'IC',\n",
       " 'BTL',\n",
       " 'MEDIC',\n",
       " 'ALPS',\n",
       " 'BITG',\n",
       " 'DEV',\n",
       " 'ABJ',\n",
       " 'SEM',\n",
       " 'FTO',\n",
       " 'CARE',\n",
       " 'NZL',\n",
       " 'XMC',\n",
       " 'PROTON',\n",
       " 'DEAL',\n",
       " 'JUMP',\n",
       " 'INFX',\n",
       " 'XBI',\n",
       " 'KEC',\n",
       " 'HWC',\n",
       " 'GIN',\n",
       " 'PLTC',\n",
       " 'LOKI',\n",
       " 'NCP',\n",
       " 'SIC',\n",
       " 'XT3',\n",
       " 'MGD',\n",
       " 'VIG',\n",
       " 'PLURA',\n",
       " 'EMAR',\n",
       " 'DKD',\n",
       " 'LYNX',\n",
       " 'POSQ',\n",
       " 'BWS',\n",
       " 'MUSE',\n",
       " 'XMN',\n",
       " 'PLUS1',\n",
       " 'AXE',\n",
       " 'TRVC',\n",
       " 'DTEM',\n",
       " 'GIC',\n",
       " 'PNY',\n",
       " 'ABS',\n",
       " 'VITAE',\n",
       " 'HEX',\n",
       " 'TPC',\n",
       " 'WEBC',\n",
       " 'RYO',\n",
       " 'URALS',\n",
       " 'QWC',\n",
       " 'ARE',\n",
       " 'EUNO',\n",
       " 'MMO',\n",
       " 'KETAN',\n",
       " 'PPAI',\n",
       " 'XDNA',\n",
       " 'PAXEX',\n",
       " 'AZART',\n",
       " 'TSC',\n",
       " 'KCASH',\n",
       " 'XCG',\n",
       " 'AAC',\n",
       " 'CRYP',\n",
       " 'BTXC',\n",
       " 'ACM',\n",
       " 'BSV',\n",
       " 'BITM',\n",
       " 'JMC',\n",
       " 'FRED',\n",
       " 'HERB',\n",
       " 'UMO',\n",
       " 'LIT',\n",
       " 'PIRATE',\n",
       " 'EXO',\n",
       " 'BLTG',\n",
       " 'OWC',\n",
       " 'BEAM',\n",
       " 'GALI',\n",
       " 'BTH',\n",
       " 'CSPN',\n",
       " 'CREDIT',\n",
       " 'SLC',\n",
       " 'DASHP',\n",
       " 'NSD',\n",
       " 'BEET',\n",
       " 'TTN',\n",
       " 'AWR',\n",
       " 'BLAST',\n",
       " 'XRC',\n",
       " 'GLT',\n",
       " 'INSN',\n",
       " 'ALX',\n",
       " 'LDOGE',\n",
       " 'SLR',\n",
       " 'TRK',\n",
       " 'UFO',\n",
       " 'OC',\n",
       " 'BLC',\n",
       " 'BITS',\n",
       " 'NEOS',\n",
       " 'HYPER',\n",
       " 'PINK',\n",
       " 'CESC',\n",
       " 'ADC',\n",
       " 'NKA',\n",
       " 'PIGGY',\n",
       " 'CRW',\n",
       " 'GEN',\n",
       " 'SMLY',\n",
       " 'MI',\n",
       " 'GRS',\n",
       " 'CPC',\n",
       " 'CLUB',\n",
       " 'RADS',\n",
       " 'BTA',\n",
       " 'PAK',\n",
       " 'CRB',\n",
       " 'OK',\n",
       " 'LSK',\n",
       " 'XHI',\n",
       " 'XWC',\n",
       " 'FSC',\n",
       " 'J',\n",
       " 'TRI',\n",
       " 'VOLLAR',\n",
       " 'EOS',\n",
       " 'RCC',\n",
       " 'OXY',\n",
       " 'TCH',\n",
       " 'WAVES',\n",
       " 'PART',\n",
       " 'BTT',\n",
       " 'NXT',\n",
       " 'ZEPH',\n",
       " 'GAP',\n",
       " 'BDX',\n",
       " 'ZEN',\n",
       " 'XBC']"
      ]
     },
     "execution_count": 266,
     "metadata": {},
     "output_type": "execute_result"
    }
   ],
   "source": [
    "index_values = (X.index.tolist())\n",
    "index_values"
   ]
  },
  {
   "cell_type": "code",
   "execution_count": 267,
   "metadata": {},
   "outputs": [
    {
     "data": {
      "text/html": [
       "<div>\n",
       "<style scoped>\n",
       "    .dataframe tbody tr th:only-of-type {\n",
       "        vertical-align: middle;\n",
       "    }\n",
       "\n",
       "    .dataframe tbody tr th {\n",
       "        vertical-align: top;\n",
       "    }\n",
       "\n",
       "    .dataframe thead th {\n",
       "        text-align: right;\n",
       "    }\n",
       "</style>\n",
       "<table border=\"1\" class=\"dataframe\">\n",
       "  <thead>\n",
       "    <tr style=\"text-align: right;\">\n",
       "      <th></th>\n",
       "      <th>PC 1</th>\n",
       "      <th>PC 2</th>\n",
       "      <th>PC 3</th>\n",
       "    </tr>\n",
       "  </thead>\n",
       "  <tbody>\n",
       "    <tr>\n",
       "      <th>42</th>\n",
       "      <td>-0.343685</td>\n",
       "      <td>1.117618</td>\n",
       "      <td>-0.475207</td>\n",
       "    </tr>\n",
       "    <tr>\n",
       "      <th>404</th>\n",
       "      <td>-0.327004</td>\n",
       "      <td>1.117671</td>\n",
       "      <td>-0.475727</td>\n",
       "    </tr>\n",
       "    <tr>\n",
       "      <th>1337</th>\n",
       "      <td>2.299954</td>\n",
       "      <td>1.686446</td>\n",
       "      <td>-0.620522</td>\n",
       "    </tr>\n",
       "    <tr>\n",
       "      <th>BTC</th>\n",
       "      <td>-0.142658</td>\n",
       "      <td>-1.340253</td>\n",
       "      <td>0.143713</td>\n",
       "    </tr>\n",
       "    <tr>\n",
       "      <th>ETH</th>\n",
       "      <td>-0.148724</td>\n",
       "      <td>-2.075908</td>\n",
       "      <td>0.312357</td>\n",
       "    </tr>\n",
       "    <tr>\n",
       "      <th>LTC</th>\n",
       "      <td>-0.171513</td>\n",
       "      <td>-1.076819</td>\n",
       "      <td>0.021344</td>\n",
       "    </tr>\n",
       "    <tr>\n",
       "      <th>DASH</th>\n",
       "      <td>-0.393035</td>\n",
       "      <td>1.239079</td>\n",
       "      <td>-0.455469</td>\n",
       "    </tr>\n",
       "    <tr>\n",
       "      <th>XMR</th>\n",
       "      <td>-0.150617</td>\n",
       "      <td>-2.253049</td>\n",
       "      <td>0.379688</td>\n",
       "    </tr>\n",
       "    <tr>\n",
       "      <th>ETC</th>\n",
       "      <td>-0.147163</td>\n",
       "      <td>-2.076015</td>\n",
       "      <td>0.312327</td>\n",
       "    </tr>\n",
       "    <tr>\n",
       "      <th>ZEC</th>\n",
       "      <td>-0.154534</td>\n",
       "      <td>-1.987147</td>\n",
       "      <td>0.304271</td>\n",
       "    </tr>\n",
       "  </tbody>\n",
       "</table>\n",
       "</div>"
      ],
      "text/plain": [
       "          PC 1      PC 2      PC 3\n",
       "42   -0.343685  1.117618 -0.475207\n",
       "404  -0.327004  1.117671 -0.475727\n",
       "1337  2.299954  1.686446 -0.620522\n",
       "BTC  -0.142658 -1.340253  0.143713\n",
       "ETH  -0.148724 -2.075908  0.312357\n",
       "LTC  -0.171513 -1.076819  0.021344\n",
       "DASH -0.393035  1.239079 -0.455469\n",
       "XMR  -0.150617 -2.253049  0.379688\n",
       "ETC  -0.147163 -2.076015  0.312327\n",
       "ZEC  -0.154534 -1.987147  0.304271"
      ]
     },
     "execution_count": 267,
     "metadata": {},
     "output_type": "execute_result"
    }
   ],
   "source": [
    "pcs_df = pd.DataFrame(data = x_PCA, columns=[\"PC 1\", \n",
    "                                             \"PC 2\", \n",
    "                                             \"PC 3\"], index = index_values)\n",
    "pcs_df.head(10)"
   ]
  },
  {
   "cell_type": "markdown",
   "metadata": {},
   "source": [
    "### Deliverable 3: Clustering Crytocurrencies Using K-Means\n",
    "\n",
    "#### Finding the Best Value for `k` Using the Elbow Curve"
   ]
  },
  {
   "cell_type": "code",
   "execution_count": 268,
   "metadata": {},
   "outputs": [],
   "source": [
    "# Create an elbow curve to find the best value for K.\n",
    "inertia = []\n",
    "k = list(range(1, 11))"
   ]
  },
  {
   "cell_type": "markdown",
   "metadata": {},
   "source": [
    "Running K-Means with `k=4`"
   ]
  },
  {
   "cell_type": "code",
   "execution_count": 269,
   "metadata": {},
   "outputs": [
    {
     "name": "stdout",
     "output_type": "stream",
     "text": [
      "[0 0 0 1 1 1 0 1 1 1 0 1 0 0 1 0 1 1 0 0 1 1 1 1 1 0 1 1 1 0 1 0 1 1 0 0 1\n",
      " 1 1 1 1 1 0 0 1 1 1 1 1 0 0 1 0 1 1 1 1 0 1 1 0 1 0 0 0 1 1 1 0 0 0 0 0 1\n",
      " 1 1 0 0 1 0 1 0 0 1 1 1 1 0 0 1 0 1 1 0 0 1 0 0 1 1 0 0 1 0 0 1 0 1 0 1 0\n",
      " 1 0 0 1 1 0 1 1 1 0 1 1 1 1 1 0 0 1 1 1 0 1 0 1 1 0 1 0 1 0 0 1 1 0 1 1 0\n",
      " 0 1 0 1 0 0 0 1 1 1 1 0 0 0 0 0 1 1 0 0 0 0 0 1 0 0 0 0 0 1 0 1 0 0 1 0 1\n",
      " 0 0 1 0 1 0 1 0 1 0 0 0 0 1 0 0 0 0 0 1 1 0 0 1 1 0 0 0 0 0 1 0 0 0 0 0 0\n",
      " 0 0 1 0 0 0 0 0 0 1 1 1 0 0 0 0 1 0 1 0 0 1 0 1 1 0 1 1 0 1 0 0 0 1 0 0 1\n",
      " 0 0 0 0 0 0 0 1 0 1 0 0 0 0 1 0 1 0 1 1 1 1 0 1 0 0 1 0 1 1 1 0 1 0 1 1 1\n",
      " 0 1 0 1 0 0 3 1 0 1 1 1 1 1 0 0 1 0 0 0 1 0 1 0 1 0 1 0 0 0 0 1 0 0 1 0 0\n",
      " 0 1 1 1 1 0 0 0 0 1 0 1 1 1 0 0 1 1 0 0 1 0 1 1 1 0 1 1 0 0 0 1 1 1 0 1 0\n",
      " 1 1 0 1 1 1 1 0 0 3 1 1 1 0 3 0 0 0 0 1 1 1 1 0 0 0 1 0 1 0 0 0 0 1 0 0 1\n",
      " 0 0 1 1 0 1 0 1 1 1 1 0 0 1 0 1 0 0 0 0 0 0 1 1 1 0 0 0 0 0 0 1 0 1 1 1 1\n",
      " 0 0 0 0 1 0 0 1 0 0 1 3 1 0 1 1 0 0 1 0 1 1 0 1 1 0 1 0 1 0 0 1 0 0 0 0 0\n",
      " 1 1 1 0 0 0 1 0 1 0 1 0 0 0 0 1 0 0 0 1 0 1 0 1 0 0 0 1 1 0 0 0 0 0 0 1 0\n",
      " 1 0 1 0 0 3 0 2 0 0 0 1 1 0]\n"
     ]
    }
   ],
   "source": [
    "# Initialize the K-Means model.\n",
    "model = KMeans(n_clusters=4, random_state=0)\n",
    "\n",
    "# Fit the model\n",
    "model.fit(pcs_df)\n",
    "\n",
    "# Predict clusters\n",
    "predictions = model.predict(pcs_df)\n",
    "print(predictions)\n",
    "pcs_df[\"Class\"] = model.labels_"
   ]
  },
  {
   "cell_type": "code",
   "execution_count": 270,
   "metadata": {},
   "outputs": [
    {
     "data": {
      "text/html": [
       "<div>\n",
       "<style scoped>\n",
       "    .dataframe tbody tr th:only-of-type {\n",
       "        vertical-align: middle;\n",
       "    }\n",
       "\n",
       "    .dataframe tbody tr th {\n",
       "        vertical-align: top;\n",
       "    }\n",
       "\n",
       "    .dataframe thead th {\n",
       "        text-align: right;\n",
       "    }\n",
       "</style>\n",
       "<table border=\"1\" class=\"dataframe\">\n",
       "  <thead>\n",
       "    <tr style=\"text-align: right;\">\n",
       "      <th></th>\n",
       "      <th>Algorithm</th>\n",
       "      <th>ProofType</th>\n",
       "      <th>TotalCoinsMined</th>\n",
       "      <th>TotalCoinSupply</th>\n",
       "      <th>PC 1</th>\n",
       "      <th>PC 2</th>\n",
       "      <th>PC 3</th>\n",
       "      <th>Class</th>\n",
       "    </tr>\n",
       "  </thead>\n",
       "  <tbody>\n",
       "    <tr>\n",
       "      <th>42</th>\n",
       "      <td>Scrypt</td>\n",
       "      <td>PoW/PoS</td>\n",
       "      <td>4.199995e+01</td>\n",
       "      <td>42</td>\n",
       "      <td>-0.343685</td>\n",
       "      <td>1.117618</td>\n",
       "      <td>-0.475207</td>\n",
       "      <td>0</td>\n",
       "    </tr>\n",
       "    <tr>\n",
       "      <th>404</th>\n",
       "      <td>Scrypt</td>\n",
       "      <td>PoW/PoS</td>\n",
       "      <td>1.055185e+09</td>\n",
       "      <td>532000000</td>\n",
       "      <td>-0.327004</td>\n",
       "      <td>1.117671</td>\n",
       "      <td>-0.475727</td>\n",
       "      <td>0</td>\n",
       "    </tr>\n",
       "    <tr>\n",
       "      <th>1337</th>\n",
       "      <td>X13</td>\n",
       "      <td>PoW/PoS</td>\n",
       "      <td>2.927942e+10</td>\n",
       "      <td>314159265359</td>\n",
       "      <td>2.299954</td>\n",
       "      <td>1.686446</td>\n",
       "      <td>-0.620522</td>\n",
       "      <td>0</td>\n",
       "    </tr>\n",
       "    <tr>\n",
       "      <th>BTC</th>\n",
       "      <td>SHA-256</td>\n",
       "      <td>PoW</td>\n",
       "      <td>1.792718e+07</td>\n",
       "      <td>21000000</td>\n",
       "      <td>-0.142658</td>\n",
       "      <td>-1.340253</td>\n",
       "      <td>0.143713</td>\n",
       "      <td>1</td>\n",
       "    </tr>\n",
       "    <tr>\n",
       "      <th>ETH</th>\n",
       "      <td>Ethash</td>\n",
       "      <td>PoW</td>\n",
       "      <td>1.076842e+08</td>\n",
       "      <td>0</td>\n",
       "      <td>-0.148724</td>\n",
       "      <td>-2.075908</td>\n",
       "      <td>0.312357</td>\n",
       "      <td>1</td>\n",
       "    </tr>\n",
       "  </tbody>\n",
       "</table>\n",
       "</div>"
      ],
      "text/plain": [
       "     Algorithm ProofType  TotalCoinsMined TotalCoinSupply      PC 1      PC 2  \\\n",
       "42      Scrypt   PoW/PoS     4.199995e+01              42 -0.343685  1.117618   \n",
       "404     Scrypt   PoW/PoS     1.055185e+09       532000000 -0.327004  1.117671   \n",
       "1337       X13   PoW/PoS     2.927942e+10    314159265359  2.299954  1.686446   \n",
       "BTC    SHA-256       PoW     1.792718e+07        21000000 -0.142658 -1.340253   \n",
       "ETH     Ethash       PoW     1.076842e+08               0 -0.148724 -2.075908   \n",
       "\n",
       "          PC 3  Class  \n",
       "42   -0.475207      0  \n",
       "404  -0.475727      0  \n",
       "1337 -0.620522      0  \n",
       "BTC   0.143713      1  \n",
       "ETH   0.312357      1  "
      ]
     },
     "execution_count": 270,
     "metadata": {},
     "output_type": "execute_result"
    }
   ],
   "source": [
    "# Create a new DataFrame including predicted clusters and cryptocurrencies features.\n",
    "# Concatentate the crypto_df and pcs_df DataFrames on the same columns.\n",
    "clustered_df = Crypto_df.join(pcs_df, how='inner')\n",
    "clustered_df.head()"
   ]
  },
  {
   "cell_type": "code",
   "execution_count": 271,
   "metadata": {},
   "outputs": [
    {
     "data": {
      "text/html": [
       "<div>\n",
       "<style scoped>\n",
       "    .dataframe tbody tr th:only-of-type {\n",
       "        vertical-align: middle;\n",
       "    }\n",
       "\n",
       "    .dataframe tbody tr th {\n",
       "        vertical-align: top;\n",
       "    }\n",
       "\n",
       "    .dataframe thead th {\n",
       "        text-align: right;\n",
       "    }\n",
       "</style>\n",
       "<table border=\"1\" class=\"dataframe\">\n",
       "  <thead>\n",
       "    <tr style=\"text-align: right;\">\n",
       "      <th></th>\n",
       "      <th>Algorithm</th>\n",
       "      <th>ProofType</th>\n",
       "      <th>TotalCoinsMined</th>\n",
       "      <th>TotalCoinSupply</th>\n",
       "      <th>PC 1</th>\n",
       "      <th>PC 2</th>\n",
       "      <th>PC 3</th>\n",
       "      <th>Class</th>\n",
       "      <th>CoinName</th>\n",
       "    </tr>\n",
       "  </thead>\n",
       "  <tbody>\n",
       "    <tr>\n",
       "      <th>42</th>\n",
       "      <td>Scrypt</td>\n",
       "      <td>PoW/PoS</td>\n",
       "      <td>4.199995e+01</td>\n",
       "      <td>42</td>\n",
       "      <td>-0.343685</td>\n",
       "      <td>1.117618</td>\n",
       "      <td>-0.475207</td>\n",
       "      <td>0</td>\n",
       "      <td>42 Coin</td>\n",
       "    </tr>\n",
       "    <tr>\n",
       "      <th>404</th>\n",
       "      <td>Scrypt</td>\n",
       "      <td>PoW/PoS</td>\n",
       "      <td>1.055185e+09</td>\n",
       "      <td>532000000</td>\n",
       "      <td>-0.327004</td>\n",
       "      <td>1.117671</td>\n",
       "      <td>-0.475727</td>\n",
       "      <td>0</td>\n",
       "      <td>404Coin</td>\n",
       "    </tr>\n",
       "    <tr>\n",
       "      <th>1337</th>\n",
       "      <td>X13</td>\n",
       "      <td>PoW/PoS</td>\n",
       "      <td>2.927942e+10</td>\n",
       "      <td>314159265359</td>\n",
       "      <td>2.299954</td>\n",
       "      <td>1.686446</td>\n",
       "      <td>-0.620522</td>\n",
       "      <td>0</td>\n",
       "      <td>EliteCoin</td>\n",
       "    </tr>\n",
       "    <tr>\n",
       "      <th>BTC</th>\n",
       "      <td>SHA-256</td>\n",
       "      <td>PoW</td>\n",
       "      <td>1.792718e+07</td>\n",
       "      <td>21000000</td>\n",
       "      <td>-0.142658</td>\n",
       "      <td>-1.340253</td>\n",
       "      <td>0.143713</td>\n",
       "      <td>1</td>\n",
       "      <td>Bitcoin</td>\n",
       "    </tr>\n",
       "    <tr>\n",
       "      <th>ETH</th>\n",
       "      <td>Ethash</td>\n",
       "      <td>PoW</td>\n",
       "      <td>1.076842e+08</td>\n",
       "      <td>0</td>\n",
       "      <td>-0.148724</td>\n",
       "      <td>-2.075908</td>\n",
       "      <td>0.312357</td>\n",
       "      <td>1</td>\n",
       "      <td>Ethereum</td>\n",
       "    </tr>\n",
       "    <tr>\n",
       "      <th>LTC</th>\n",
       "      <td>Scrypt</td>\n",
       "      <td>PoW</td>\n",
       "      <td>6.303924e+07</td>\n",
       "      <td>84000000</td>\n",
       "      <td>-0.171513</td>\n",
       "      <td>-1.076819</td>\n",
       "      <td>0.021344</td>\n",
       "      <td>1</td>\n",
       "      <td>Litecoin</td>\n",
       "    </tr>\n",
       "    <tr>\n",
       "      <th>DASH</th>\n",
       "      <td>X11</td>\n",
       "      <td>PoW/PoS</td>\n",
       "      <td>9.031294e+06</td>\n",
       "      <td>22000000</td>\n",
       "      <td>-0.393035</td>\n",
       "      <td>1.239079</td>\n",
       "      <td>-0.455469</td>\n",
       "      <td>0</td>\n",
       "      <td>Dash</td>\n",
       "    </tr>\n",
       "    <tr>\n",
       "      <th>XMR</th>\n",
       "      <td>CryptoNight-V7</td>\n",
       "      <td>PoW</td>\n",
       "      <td>1.720114e+07</td>\n",
       "      <td>0</td>\n",
       "      <td>-0.150617</td>\n",
       "      <td>-2.253049</td>\n",
       "      <td>0.379688</td>\n",
       "      <td>1</td>\n",
       "      <td>Monero</td>\n",
       "    </tr>\n",
       "    <tr>\n",
       "      <th>ETC</th>\n",
       "      <td>Ethash</td>\n",
       "      <td>PoW</td>\n",
       "      <td>1.133597e+08</td>\n",
       "      <td>210000000</td>\n",
       "      <td>-0.147163</td>\n",
       "      <td>-2.076015</td>\n",
       "      <td>0.312327</td>\n",
       "      <td>1</td>\n",
       "      <td>Ethereum Classic</td>\n",
       "    </tr>\n",
       "    <tr>\n",
       "      <th>ZEC</th>\n",
       "      <td>Equihash</td>\n",
       "      <td>PoW</td>\n",
       "      <td>7.383056e+06</td>\n",
       "      <td>21000000</td>\n",
       "      <td>-0.154534</td>\n",
       "      <td>-1.987147</td>\n",
       "      <td>0.304271</td>\n",
       "      <td>1</td>\n",
       "      <td>ZCash</td>\n",
       "    </tr>\n",
       "  </tbody>\n",
       "</table>\n",
       "</div>"
      ],
      "text/plain": [
       "           Algorithm ProofType  TotalCoinsMined TotalCoinSupply      PC 1  \\\n",
       "42            Scrypt   PoW/PoS     4.199995e+01              42 -0.343685   \n",
       "404           Scrypt   PoW/PoS     1.055185e+09       532000000 -0.327004   \n",
       "1337             X13   PoW/PoS     2.927942e+10    314159265359  2.299954   \n",
       "BTC          SHA-256       PoW     1.792718e+07        21000000 -0.142658   \n",
       "ETH           Ethash       PoW     1.076842e+08               0 -0.148724   \n",
       "LTC           Scrypt       PoW     6.303924e+07        84000000 -0.171513   \n",
       "DASH             X11   PoW/PoS     9.031294e+06        22000000 -0.393035   \n",
       "XMR   CryptoNight-V7       PoW     1.720114e+07               0 -0.150617   \n",
       "ETC           Ethash       PoW     1.133597e+08       210000000 -0.147163   \n",
       "ZEC         Equihash       PoW     7.383056e+06        21000000 -0.154534   \n",
       "\n",
       "          PC 2      PC 3  Class          CoinName  \n",
       "42    1.117618 -0.475207      0           42 Coin  \n",
       "404   1.117671 -0.475727      0           404Coin  \n",
       "1337  1.686446 -0.620522      0         EliteCoin  \n",
       "BTC  -1.340253  0.143713      1           Bitcoin  \n",
       "ETH  -2.075908  0.312357      1          Ethereum  \n",
       "LTC  -1.076819  0.021344      1          Litecoin  \n",
       "DASH  1.239079 -0.455469      0              Dash  \n",
       "XMR  -2.253049  0.379688      1            Monero  \n",
       "ETC  -2.076015  0.312327      1  Ethereum Classic  \n",
       "ZEC  -1.987147  0.304271      1             ZCash  "
      ]
     },
     "execution_count": 271,
     "metadata": {},
     "output_type": "execute_result"
    }
   ],
   "source": [
    "#  Add a new column, \"CoinName\" to the clustered_df DataFrame that holds the names of the cryptocurrencies. \n",
    "clustered_df = clustered_df.join(Names_df, how='inner')\n",
    "clustered_df.head(10)"
   ]
  },
  {
   "cell_type": "code",
   "execution_count": 272,
   "metadata": {},
   "outputs": [
    {
     "name": "stdout",
     "output_type": "stream",
     "text": [
      "(532, 9)\n"
     ]
    },
    {
     "data": {
      "text/html": [
       "<div>\n",
       "<style scoped>\n",
       "    .dataframe tbody tr th:only-of-type {\n",
       "        vertical-align: middle;\n",
       "    }\n",
       "\n",
       "    .dataframe tbody tr th {\n",
       "        vertical-align: top;\n",
       "    }\n",
       "\n",
       "    .dataframe thead th {\n",
       "        text-align: right;\n",
       "    }\n",
       "</style>\n",
       "<table border=\"1\" class=\"dataframe\">\n",
       "  <thead>\n",
       "    <tr style=\"text-align: right;\">\n",
       "      <th></th>\n",
       "      <th>Algorithm</th>\n",
       "      <th>ProofType</th>\n",
       "      <th>TotalCoinsMined</th>\n",
       "      <th>TotalCoinSupply</th>\n",
       "      <th>PC 1</th>\n",
       "      <th>PC 2</th>\n",
       "      <th>PC 3</th>\n",
       "      <th>Class</th>\n",
       "      <th>CoinName</th>\n",
       "    </tr>\n",
       "  </thead>\n",
       "  <tbody>\n",
       "    <tr>\n",
       "      <th>42</th>\n",
       "      <td>Scrypt</td>\n",
       "      <td>PoW/PoS</td>\n",
       "      <td>4.199995e+01</td>\n",
       "      <td>42</td>\n",
       "      <td>-0.343685</td>\n",
       "      <td>1.117618</td>\n",
       "      <td>-0.475207</td>\n",
       "      <td>0</td>\n",
       "      <td>42 Coin</td>\n",
       "    </tr>\n",
       "    <tr>\n",
       "      <th>404</th>\n",
       "      <td>Scrypt</td>\n",
       "      <td>PoW/PoS</td>\n",
       "      <td>1.055185e+09</td>\n",
       "      <td>532000000</td>\n",
       "      <td>-0.327004</td>\n",
       "      <td>1.117671</td>\n",
       "      <td>-0.475727</td>\n",
       "      <td>0</td>\n",
       "      <td>404Coin</td>\n",
       "    </tr>\n",
       "    <tr>\n",
       "      <th>1337</th>\n",
       "      <td>X13</td>\n",
       "      <td>PoW/PoS</td>\n",
       "      <td>2.927942e+10</td>\n",
       "      <td>314159265359</td>\n",
       "      <td>2.299954</td>\n",
       "      <td>1.686446</td>\n",
       "      <td>-0.620522</td>\n",
       "      <td>0</td>\n",
       "      <td>EliteCoin</td>\n",
       "    </tr>\n",
       "    <tr>\n",
       "      <th>BTC</th>\n",
       "      <td>SHA-256</td>\n",
       "      <td>PoW</td>\n",
       "      <td>1.792718e+07</td>\n",
       "      <td>21000000</td>\n",
       "      <td>-0.142658</td>\n",
       "      <td>-1.340253</td>\n",
       "      <td>0.143713</td>\n",
       "      <td>1</td>\n",
       "      <td>Bitcoin</td>\n",
       "    </tr>\n",
       "    <tr>\n",
       "      <th>ETH</th>\n",
       "      <td>Ethash</td>\n",
       "      <td>PoW</td>\n",
       "      <td>1.076842e+08</td>\n",
       "      <td>0</td>\n",
       "      <td>-0.148724</td>\n",
       "      <td>-2.075908</td>\n",
       "      <td>0.312357</td>\n",
       "      <td>1</td>\n",
       "      <td>Ethereum</td>\n",
       "    </tr>\n",
       "    <tr>\n",
       "      <th>LTC</th>\n",
       "      <td>Scrypt</td>\n",
       "      <td>PoW</td>\n",
       "      <td>6.303924e+07</td>\n",
       "      <td>84000000</td>\n",
       "      <td>-0.171513</td>\n",
       "      <td>-1.076819</td>\n",
       "      <td>0.021344</td>\n",
       "      <td>1</td>\n",
       "      <td>Litecoin</td>\n",
       "    </tr>\n",
       "    <tr>\n",
       "      <th>DASH</th>\n",
       "      <td>X11</td>\n",
       "      <td>PoW/PoS</td>\n",
       "      <td>9.031294e+06</td>\n",
       "      <td>22000000</td>\n",
       "      <td>-0.393035</td>\n",
       "      <td>1.239079</td>\n",
       "      <td>-0.455469</td>\n",
       "      <td>0</td>\n",
       "      <td>Dash</td>\n",
       "    </tr>\n",
       "    <tr>\n",
       "      <th>XMR</th>\n",
       "      <td>CryptoNight-V7</td>\n",
       "      <td>PoW</td>\n",
       "      <td>1.720114e+07</td>\n",
       "      <td>0</td>\n",
       "      <td>-0.150617</td>\n",
       "      <td>-2.253049</td>\n",
       "      <td>0.379688</td>\n",
       "      <td>1</td>\n",
       "      <td>Monero</td>\n",
       "    </tr>\n",
       "    <tr>\n",
       "      <th>ETC</th>\n",
       "      <td>Ethash</td>\n",
       "      <td>PoW</td>\n",
       "      <td>1.133597e+08</td>\n",
       "      <td>210000000</td>\n",
       "      <td>-0.147163</td>\n",
       "      <td>-2.076015</td>\n",
       "      <td>0.312327</td>\n",
       "      <td>1</td>\n",
       "      <td>Ethereum Classic</td>\n",
       "    </tr>\n",
       "    <tr>\n",
       "      <th>ZEC</th>\n",
       "      <td>Equihash</td>\n",
       "      <td>PoW</td>\n",
       "      <td>7.383056e+06</td>\n",
       "      <td>21000000</td>\n",
       "      <td>-0.154534</td>\n",
       "      <td>-1.987147</td>\n",
       "      <td>0.304271</td>\n",
       "      <td>1</td>\n",
       "      <td>ZCash</td>\n",
       "    </tr>\n",
       "  </tbody>\n",
       "</table>\n",
       "</div>"
      ],
      "text/plain": [
       "           Algorithm ProofType  TotalCoinsMined TotalCoinSupply      PC 1  \\\n",
       "42            Scrypt   PoW/PoS     4.199995e+01              42 -0.343685   \n",
       "404           Scrypt   PoW/PoS     1.055185e+09       532000000 -0.327004   \n",
       "1337             X13   PoW/PoS     2.927942e+10    314159265359  2.299954   \n",
       "BTC          SHA-256       PoW     1.792718e+07        21000000 -0.142658   \n",
       "ETH           Ethash       PoW     1.076842e+08               0 -0.148724   \n",
       "LTC           Scrypt       PoW     6.303924e+07        84000000 -0.171513   \n",
       "DASH             X11   PoW/PoS     9.031294e+06        22000000 -0.393035   \n",
       "XMR   CryptoNight-V7       PoW     1.720114e+07               0 -0.150617   \n",
       "ETC           Ethash       PoW     1.133597e+08       210000000 -0.147163   \n",
       "ZEC         Equihash       PoW     7.383056e+06        21000000 -0.154534   \n",
       "\n",
       "          PC 2      PC 3  Class          CoinName  \n",
       "42    1.117618 -0.475207      0           42 Coin  \n",
       "404   1.117671 -0.475727      0           404Coin  \n",
       "1337  1.686446 -0.620522      0         EliteCoin  \n",
       "BTC  -1.340253  0.143713      1           Bitcoin  \n",
       "ETH  -2.075908  0.312357      1          Ethereum  \n",
       "LTC  -1.076819  0.021344      1          Litecoin  \n",
       "DASH  1.239079 -0.455469      0              Dash  \n",
       "XMR  -2.253049  0.379688      1            Monero  \n",
       "ETC  -2.076015  0.312327      1  Ethereum Classic  \n",
       "ZEC  -1.987147  0.304271      1             ZCash  "
      ]
     },
     "execution_count": 272,
     "metadata": {},
     "output_type": "execute_result"
    }
   ],
   "source": [
    "# Print the shape of the clustered_df\n",
    "print(clustered_df.shape)\n",
    "clustered_df.head(10)"
   ]
  },
  {
   "cell_type": "markdown",
   "metadata": {},
   "source": [
    "### Deliverable 4: Visualizing Cryptocurrencies Results\n",
    "\n",
    "#### 3D-Scatter with Clusters"
   ]
  },
  {
   "cell_type": "code",
   "execution_count": 273,
   "metadata": {},
   "outputs": [
    {
     "data": {
      "application/vnd.plotly.v1+json": {
       "config": {
        "plotlyServerURL": "https://plot.ly"
       },
       "data": [
        {
         "customdata": [
          [
           "Scrypt",
           41.99995383,
           "42"
          ],
          [
           "Scrypt",
           1055184902.04,
           "532000000"
          ],
          [
           "X13",
           29279424622.5027,
           "314159265359"
          ],
          [
           "X11",
           9031294.37563393,
           "22000000"
          ],
          [
           "SHA-512",
           2741570000,
           "3600570502"
          ],
          [
           "SHA-256",
           1288862,
           "22000000"
          ],
          [
           "SHA-256",
           11995334.8847328,
           "12500000"
          ],
          [
           "X15",
           25542535.5881841,
           "350000000"
          ],
          [
           "Scrypt",
           18135099.992959,
           "16768584"
          ],
          [
           "Scrypt",
           635423900,
           "0"
          ],
          [
           "Scrypt",
           123062801.128773,
           "0"
          ],
          [
           "Scrypt",
           42579.476901,
           "500000"
          ],
          [
           "Scrypt",
           1039116.65144562,
           "1000000"
          ],
          [
           "Scrypt",
           39999997299.8568,
           "40000000000"
          ],
          [
           "Groestl",
           3304487.74735637,
           "4380000"
          ],
          [
           "PoS",
           5679705,
           "0"
          ],
          [
           "Scrypt",
           461829905.32893,
           "0"
          ],
          [
           "Scrypt",
           89266933.684704,
           "120000000"
          ],
          [
           "X11",
           1678520090.7713,
           "0"
          ],
          [
           "X11",
           17650913.9743456,
           "22000000"
          ],
          [
           "SHA3",
           61445805,
           "100000000"
          ],
          [
           "Scrypt",
           21293925445.4969,
           "0"
          ],
          [
           "SHA-256",
           1613836099.99999,
           "2419200000"
          ],
          [
           "Scrypt",
           16180000,
           "16180000"
          ],
          [
           "X13",
           66087096.2077108,
           "0"
          ],
          [
           "X13",
           15156364.3306548,
           "0"
          ],
          [
           "NeoScrypt",
           3220616.279225,
           "3770000"
          ],
          [
           "Scrypt",
           222677226.014206,
           "420000000"
          ],
          [
           "Scrypt",
           73959274.625,
           "98000000"
          ],
          [
           "Scrypt",
           29315567169.0888,
           "0"
          ],
          [
           "X11",
           50707661.7493518,
           "0"
          ],
          [
           "X11",
           1177,
           "1000"
          ],
          [
           "Multiple",
           80260463.7331396,
           "100000000"
          ],
          [
           "PHI1612",
           1622326490.46336,
           "2300000000"
          ],
          [
           "X11",
           1431851.00002479,
           "10000000"
          ],
          [
           "Scrypt",
           1098952592.6,
           "1600000000"
          ],
          [
           "Scrypt",
           50235211.141939,
           "100000000"
          ],
          [
           "Scrypt",
           32021108.4136696,
           "0"
          ],
          [
           "X11",
           6950831.0970606,
           "5500000"
          ],
          [
           "Multiple",
           100000000,
           "0"
          ],
          [
           "X13",
           33093725.4123502,
           "0"
          ],
          [
           "Scrypt",
           147990237.978331,
           "1000000000"
          ],
          [
           "Shabal256",
           1813033920,
           "2158812800"
          ],
          [
           "Counterparty",
           51173144,
           "500000000"
          ],
          [
           "SHA-256",
           39121694,
           "68000000"
          ],
          [
           "Groestl",
           53193831,
           "0"
          ],
          [
           "Scrypt",
           27184490.3918338,
           "0"
          ],
          [
           "X13",
           2022464.886973,
           "12000000"
          ],
          [
           "Scrypt",
           174646113.934655,
           "500000000"
          ],
          [
           "Scrypt",
           1467841,
           "0"
          ],
          [
           "X13",
           7096834,
           "10000000"
          ],
          [
           "X11",
           2689812,
           "20000000"
          ],
          [
           "Scrypt",
           11604722,
           "20000000"
          ],
          [
           "X11",
           1513704,
           "0"
          ],
          [
           "SHA3",
           63657220,
           "78000000"
          ],
          [
           "QUAIT",
           8568038.35935056,
           "5060000"
          ],
          [
           "X11",
           329200.01639,
           "0"
          ],
          [
           "Scrypt",
           100000000,
           "100000000"
          ],
          [
           "X13",
           23042604,
           "50000000"
          ],
          [
           "SHA-256",
           43059794.804778,
           "1000000000"
          ],
          [
           "X15",
           13530556.4180753,
           "26298000"
          ],
          [
           "BLAKE256",
           10365046.9281661,
           "21000000"
          ],
          [
           "SHA-256",
           3669691.84494672,
           "22000000"
          ],
          [
           "X11",
           10996318099,
           "26550000000"
          ],
          [
           "SHA-256",
           5129014,
           "10500000"
          ],
          [
           "NIST5",
           10069449031.9252,
           "0"
          ],
          [
           "Scrypt",
           8998743.2411911,
           "42000000"
          ],
          [
           "Scrypt",
           40477042,
           "221052632"
          ],
          [
           "X11",
           10407269.7881868,
           "384000000"
          ],
          [
           "Scrypt",
           36971236046.8073,
           " 99000000000"
          ],
          [
           "SHA-256",
           4377081.60953993,
           "40000000"
          ],
          [
           "Scrypt",
           2147483647,
           "2147483647"
          ],
          [
           "PoS",
           20000000,
           "20000000"
          ],
          [
           "X11",
           134554941.15119,
           "75000000"
          ],
          [
           "SHA-256",
           1195525,
           "222725000"
          ],
          [
           "SHA-256",
           16662820,
           "525000000"
          ],
          [
           "NIST5",
           83450403,
           "90000000"
          ],
          [
           "X11",
           24387724.5010828,
           "139000000"
          ],
          [
           "POS 3.0",
           38589808.6658096,
           "33500000"
          ],
          [
           "Scrypt",
           813092338.575672,
           "2000000000"
          ],
          [
           "Scrypt",
           4526324,
           "44333333"
          ],
          [
           "Scrypt",
           100000000,
           "100000000"
          ],
          [
           "X13",
           5000000,
           "200000000"
          ],
          [
           "X11",
           657000000,
           "657000000"
          ],
          [
           "X11",
           15563873,
           "50000000"
          ],
          [
           "Scrypt",
           43165500,
           "90000000"
          ],
          [
           "SHA-256",
           595429,
           "21000000"
          ],
          [
           "X11",
           657636.34549789,
           "3000000"
          ],
          [
           "Scrypt",
           2581970,
           "21000000"
          ],
          [
           "Scrypt",
           1939889,
           "0"
          ],
          [
           "Scrypt",
           169598616,
           "0"
          ],
          [
           "Scrypt",
           665200057,
           "3100000000"
          ],
          [
           "SHA-256D",
           19577787259,
           "20000000000"
          ],
          [
           "PoS",
           74033806.7949683,
           "74000000"
          ],
          [
           "Scrypt",
           33522957,
           "0"
          ],
          [
           "X11",
           264678458.288619,
           "1500000000"
          ],
          [
           "PoS",
           148716816,
           "39999898"
          ],
          [
           "X13",
           2500124,
           "2500124"
          ],
          [
           "X14",
           100000000,
           "100000000"
          ],
          [
           "PoS",
           17818682.1654,
           "301000000"
          ],
          [
           "SHA-256D",
           1082162635.53683,
           "7506000000"
          ],
          [
           "DPoS",
           108202084,
           "125000000"
          ],
          [
           "X11",
           18342813,
           "30000000"
          ],
          [
           "X13",
           92192822723,
           "850000000"
          ],
          [
           "X11",
           3853326.77707314,
           "3853326.77707314"
          ],
          [
           "PoS",
           50000000,
           "50000000"
          ],
          [
           "Scrypt",
           17089600,
           "38540000 "
          ],
          [
           "Scrypt",
           2449577.41533168,
           "42000000"
          ],
          [
           "PoS",
           20000000,
           "20000000"
          ],
          [
           "X11",
           6069482.07721352,
           "60000000"
          ],
          [
           "SHA-256",
           12416554,
           "20000000"
          ],
          [
           "Scrypt",
           20244023.640728,
           "33000000"
          ],
          [
           "X11",
           75590369,
           "76500000"
          ],
          [
           "Scrypt",
           11080722.3769581,
           "28000000"
          ],
          [
           "Scrypt",
           10914418,
           "650659833"
          ],
          [
           "X11",
           814671,
           "5000000"
          ],
          [
           "Scrypt",
           8377873,
           "144000000"
          ],
          [
           "Scrypt",
           33813143821.8337,
           "32514916898"
          ],
          [
           "Scrypt",
           3472983,
           "13000000"
          ],
          [
           "Scrypt",
           3315789,
           "3315789"
          ],
          [
           "Quark",
           10517772.7391666,
           "15000000"
          ],
          [
           "QuBit",
           30227750,
           "78835200"
          ],
          [
           "Scrypt",
           23965372,
           "500000000"
          ],
          [
           "SHA-256",
           2526078.47525448,
           "21000000"
          ],
          [
           "X11",
           5659096.95728771,
           "9354000"
          ],
          [
           "Scrypt",
           11821728,
           "20000000"
          ],
          [
           "Scrypt",
           308179,
           "21933333"
          ],
          [
           "Scrypt",
           2922613.96424908,
           "55000000"
          ],
          [
           "Scrypt",
           110000000,
           "110000000"
          ],
          [
           "X13",
           14524851.4827,
           "14524851.4827"
          ],
          [
           "Scrypt",
           1000000000,
           "1000000000"
          ],
          [
           "Scrypt",
           36050365,
           "34426423"
          ],
          [
           "X11",
           13162749.0858027,
           "100000000"
          ],
          [
           "Blake2S",
           12184195.9258495,
           "36900000"
          ],
          [
           "X11",
           110630387.850471,
           "110000000"
          ],
          [
           "PoS",
           111135836.889,
           "110290030"
          ],
          [
           "X11",
           21521322.0099142,
           "100000000"
          ],
          [
           "PoS",
           401421401,
           "400000000"
          ],
          [
           "X11",
           121665451.643876,
           "500000000"
          ],
          [
           "Scrypt",
           5368934,
           "21212121"
          ],
          [
           "Scrypt",
           1148324,
           "28600000"
          ],
          [
           "Scrypt",
           500000,
           "1000000000"
          ],
          [
           "SHA-256",
           100545745,
           "75000000000"
          ],
          [
           "X11",
           17171382,
           "40000000"
          ],
          [
           "Scrypt",
           295135466.361878,
           "2000000000"
          ],
          [
           "PoS",
           11390225.9742772,
           "30000000"
          ],
          [
           "Scrypt",
           21358764,
           "105000000"
          ],
          [
           "X15",
           40659020000,
           "90000000000"
          ],
          [
           "SHA-256",
           10343113,
           "200084200"
          ],
          [
           "POS 3.0",
           100000000,
           "100000000"
          ],
          [
           "536",
           22801882871,
           "50000000000"
          ],
          [
           "NIST5",
           4171382,
           "10000000"
          ],
          [
           "NIST5",
           62942075,
           "120000000"
          ],
          [
           "Skein",
           6804362,
           "100000000"
          ],
          [
           "X13",
           21268092,
           "30000000"
          ],
          [
           "Scrypt",
           9044930943.24243,
           "50000000000"
          ],
          [
           "X13",
           21917018.0492836,
           "18898187.6216583"
          ],
          [
           "SkunkHash v2 Raptor",
           107972766,
           "137500000"
          ],
          [
           "Skein",
           47331802.4774238,
           "100000000"
          ],
          [
           "X11",
           12569262.5359307,
           "9507271"
          ],
          [
           "Scrypt",
           18663297.3489799,
           "17405891.19707116"
          ],
          [
           "PoS",
           4000000,
           "61599965"
          ],
          [
           "Scrypt",
           19539588,
           "48252000"
          ],
          [
           "Scrypt",
           4200000,
           "4200000"
          ],
          [
           "SHA-512",
           25000000,
           "91388946"
          ],
          [
           "Ouroboros",
           25927070538,
           "45000000000"
          ],
          [
           "X11",
           7262402.04264803,
           "27000000"
          ],
          [
           "NeoScrypt",
           182638400,
           "400000000"
          ],
          [
           "Scrypt",
           1140734.91680375,
           "15733333"
          ],
          [
           "Lyra2REv2",
           24000000,
           "24000000"
          ],
          [
           "Scrypt",
           48459472454,
           "25000000000"
          ],
          [
           "SHA-256",
           92050800,
           "100000000"
          ],
          [
           "NIST5",
           560563220,
           "1200000000"
          ],
          [
           "PHI1612",
           8305775.31777569,
           "60000000"
          ],
          [
           "Scrypt",
           2149688,
           "21000000"
          ],
          [
           "Quark",
           30711550.5294042,
           "200000000"
          ],
          [
           "POS 2.0",
           12330806.30517,
           "21000000"
          ],
          [
           "Scrypt",
           16362544.992,
           "14788275.991"
          ],
          [
           "SHA-256",
           8999999990,
           "9000000000"
          ],
          [
           "X11",
           38198594.8342105,
           "144000000"
          ],
          [
           "DPoS",
           288090567.493887,
           "500000000"
          ],
          [
           "NIST5",
           28399150208,
           "30000000000"
          ],
          [
           "X13",
           183534024.889807,
           "210000000"
          ],
          [
           "Scrypt",
           110976977.29338,
           "210000000"
          ],
          [
           "NIST5",
           13247178.8807286,
           "27716121"
          ],
          [
           "Quark",
           16955764.902064,
           "20000000"
          ],
          [
           "Scrypt",
           4911500269.41,
           "50000000000"
          ],
          [
           "Scrypt",
           8419402.321,
           "150000000"
          ],
          [
           "X11",
           45174214.1078625,
           "50000000"
          ],
          [
           "Quark",
           27299680,
           "120000000"
          ],
          [
           "Scrypt",
           591022748,
           "900000000"
          ],
          [
           "Scrypt",
           2504486.227718,
           "4000000"
          ],
          [
           "X11",
           4407252,
           "21000000"
          ],
          [
           "POS 3.0",
           20445861.5344251,
           "25000000"
          ],
          [
           "Scrypt",
           9399342.52839847,
           "30000000"
          ],
          [
           "Scrypt",
           234846265.782157,
           "232000000"
          ],
          [
           "X13",
           230298925,
           "800000000"
          ],
          [
           "Proof-of-BibleHash",
           1772091549.88818,
           "5200000000"
          ],
          [
           "C11",
           11251342.1879021,
           "19340594"
          ],
          [
           "X11",
           2167827.1,
           "25000000"
          ],
          [
           "XEVAN",
           419275.38,
           "60000000"
          ],
          [
           "Scrypt",
           25570013.1348022,
           "124000000"
          ],
          [
           "VBFT",
           650848625,
           "1000000000"
          ],
          [
           "NIST5",
           13787854.6277781,
           "50000000"
          ],
          [
           "Scrypt",
           845637.81347436,
           "3000000"
          ],
          [
           "Scrypt",
           1182153.5,
           "5000000"
          ],
          [
           "Scrypt",
           267297676.3125,
           "500000000"
          ],
          [
           "Green Protocol",
           9803691.3618195,
           "21000000"
          ],
          [
           "PoS",
           21876586.8530324,
           "88000000"
          ],
          [
           "Scrypt",
           9880502.37178894,
           "30000000"
          ],
          [
           "Semux BFT consensus",
           1231147,
           "100000000"
          ],
          [
           "Quark",
           139739596.506702,
           "200000000"
          ],
          [
           "PoS",
           11075254.0929996,
           "80000000"
          ],
          [
           "X16R",
           4403800,
           "45000000"
          ],
          [
           "Scrypt",
           1404157529.46026,
           "5121951220"
          ],
          [
           "XEVAN",
           10904963.0923455,
           "21000000"
          ],
          [
           "Scrypt",
           38706809.466535,
           "26000000"
          ],
          [
           "Scrypt",
           10200000000,
           "10200000000"
          ],
          [
           "Scrypt",
           7630000.0154,
           "44000000"
          ],
          [
           "SHA-256D",
           33238183.7225834,
           "100000000"
          ],
          [
           "Scrypt",
           21599339.6728,
           "84000000"
          ],
          [
           "X15",
           30284196.369129,
           "90000000"
          ],
          [
           "Scrypt",
           77872059787.8998,
           "92000000000"
          ],
          [
           "Quark",
           2716264.95302831,
           "650000000 "
          ],
          [
           "SHA-256",
           57811001.000889,
           "100262205"
          ],
          [
           "DPoS",
           18194936,
           "18081806 "
          ],
          [
           "X16R",
           36923120.6205934,
           "82546564"
          ],
          [
           "Quark",
           7082392.24744494,
           "21000000"
          ],
          [
           "Quark",
           5919489.76813523,
           "5151000"
          ],
          [
           "Scrypt",
           1042012.45227735,
           "16880000000"
          ],
          [
           "Lyra2REv2",
           13332617.9413708,
           "52500000"
          ],
          [
           "Quark",
           66053877.6256106,
           "100000000"
          ],
          [
           "Scrypt",
           5403802.49590733,
           "1000000000"
          ],
          [
           "X11",
           19269509.94,
           "55000000"
          ],
          [
           "X11",
           30771125.9760867,
           "50000000"
          ],
          [
           "Scrypt",
           107763867.917675,
           "260000000"
          ],
          [
           "PoS",
           9327131.59708692,
           "210000000"
          ],
          [
           "Keccak",
           4672513.84432375,
           "366000000"
          ],
          [
           "X11",
           4504639,
           "100000000"
          ],
          [
           "Scrypt",
           1059954080.43439,
           "18000000000"
          ],
          [
           "SHA-512",
           1000000000,
           "1000000000"
          ],
          [
           "XEVAN",
           6787405.18013774,
           "50000000"
          ],
          [
           "XEVAN",
           208515864.367343,
           "70000000000"
          ],
          [
           "X11",
           17209923728.3266,
           "0"
          ],
          [
           "Quark",
           35312185.7437239,
           "54000000"
          ],
          [
           "Equihash",
           13475920,
           "105000000"
          ],
          [
           "Scrypt",
           14777549.3940764,
           "21000000"
          ],
          [
           "Quark",
           18265011.2486006,
           "19035999"
          ],
          [
           "Quark",
           1934701.67524713,
           "13370000"
          ],
          [
           "Scrypt",
           30825710000.0296,
           "74800000000"
          ],
          [
           "X11",
           715659.44237941,
           "19700000"
          ],
          [
           "Scrypt",
           20546528.2059957,
           "84000000"
          ],
          [
           "XEVAN",
           198938144.363399,
           "500000000"
          ],
          [
           "SHA-256D",
           896361168,
           "5000000000"
          ],
          [
           "X11",
           15420234.5389336,
           "420000000"
          ],
          [
           "X11",
           23775960.3207514,
           "30000000"
          ],
          [
           "DPoS",
           1000000000,
           "1000000000"
          ],
          [
           "Scrypt",
           15318887081.0146,
           "35000000000"
          ],
          [
           "X11",
           242574105.22384,
           "0"
          ],
          [
           "Scrypt",
           3537150,
           "200000000"
          ],
          [
           "Scrypt",
           20576532,
           "54256119"
          ],
          [
           "SHA-256",
           4392258.24647793,
           "21000000"
          ],
          [
           "Scrypt",
           9631199.99309942,
           "0"
          ],
          [
           "X11",
           436353624.490312,
           "500000000"
          ],
          [
           "Scrypt",
           980732528.97974,
           "10500000000"
          ],
          [
           "SHA-256",
           17939725045.334,
           "190000000"
          ],
          [
           "X11",
           494240666.028571,
           "1000000000"
          ],
          [
           "Scrypt",
           60000000,
           "15000000"
          ],
          [
           "Scrypt",
           404316475.545465,
           "400000000"
          ],
          [
           "X11",
           201364327.427503,
           "208000000"
          ],
          [
           "Scrypt",
           103621876.167052,
           "160000000"
          ],
          [
           "PoS",
           3821245.74150193,
           "9000000"
          ],
          [
           "X11",
           16901016.6609755,
           "16504333"
          ],
          [
           "SHA-256",
           74676064.9488608,
           "105000000"
          ],
          [
           "DPoS",
           120012140,
           "159918400"
          ],
          [
           "Scrypt",
           10000244677.7002,
           "10008835635"
          ],
          [
           "Scrypt",
           252005564.19257,
           "300000000"
          ],
          [
           "NeoScrypt",
           1120385.00502,
           "60168145"
          ],
          [
           "X13",
           140777.753365,
           "120000"
          ],
          [
           "DPoS",
           1020544523.0722,
           "0"
          ],
          [
           "DPoS",
           1122382283.37,
           "0"
          ],
          [
           "SHA-256",
           1000000000,
           "1000000000"
          ],
          [
           "PoS",
           9283137.5558676,
           "8634140"
          ],
          [
           "PoS",
           1000000000,
           "1000000000"
          ],
          [
           "SHA-256",
           1999999995.3056,
           "2000000000"
          ],
          [
           "Scrypt",
           14931046.1546605,
           "250000000"
          ],
          [
           "Scrypt",
           128326.99633965,
           "1000000"
          ]
         ],
         "hovertemplate": "<b>%{hovertext}</b><br><br>Class=%{marker.color}<br>PC 1=%{x}<br>PC 2=%{y}<br>PC 3=%{z}<br>Algorithm=%{customdata[0]}<br>TotalCoinsMined=%{customdata[1]}<br>TotalCoinSupply=%{customdata[2]}<extra></extra>",
         "hovertext": [
          "42 Coin",
          "404Coin",
          "EliteCoin",
          "Dash",
          "Bitshares",
          "BitcoinDark",
          "PayCoin",
          "KoboCoin",
          "Aurora Coin",
          "BlueCoin",
          "EnergyCoin",
          "BitBar",
          "CryptoBullion",
          "CasinoCoin",
          "Diamond",
          "Exclusive Coin",
          "FlutterCoin",
          "HoboNickels",
          "HyperStake",
          "IOCoin",
          "MaxCoin",
          "MintCoin",
          "MazaCoin",
          "Nautilus Coin",
          "NavCoin",
          "OpalCoin",
          "Orbitcoin",
          "PotCoin",
          "PhoenixCoin",
          "Reddcoin",
          "SuperCoin",
          "SyncCoin",
          "TeslaCoin",
          "TittieCoin",
          "TorCoin",
          "UnitaryStatus Dollar",
          "UltraCoin",
          "VeriCoin",
          "X11 Coin",
          "Crypti",
          "StealthCoin",
          "ZCC Coin",
          "BurstCoin",
          "StorjCoin",
          "Neutron",
          "FairCoin",
          "RubyCoin",
          "Kore",
          "Dnotes",
          "8BIT Coin",
          "Sativa Coin",
          "Ucoin",
          "Vtorrent",
          "IslaCoin",
          "Nexus",
          "Droidz",
          "Squall Coin",
          "Diggits",
          "Paycon",
          "Emercoin",
          "EverGreenCoin",
          "Decred",
          "EDRCoin",
          "Hitcoin",
          "DubaiCoin",
          "PWR Coin",
          "BillaryCoin",
          "GPU Coin",
          "EuropeCoin",
          "ZeitCoin",
          "SwingCoin",
          "SafeExchangeCoin",
          "Nebuchadnezzar",
          "Ratecoin",
          "Revenu",
          "Clockcoin",
          "VIP Tokens",
          "BitSend",
          "Let it Ride",
          "PutinCoin",
          "iBankCoin",
          "Frankywillcoin",
          "MudraCoin",
          "Lutetium Coin",
          "GoldBlocks",
          "CarterCoin",
          "BitTokens",
          "MustangCoin",
          "ZoneCoin",
          "RootCoin",
          "BitCurrency",
          "Swiscoin",
          "BuzzCoin",
          "Opair",
          "PesoBit",
          "Halloween Coin",
          "CoffeeCoin",
          "RoyalCoin",
          "GanjaCoin V2",
          "TeamUP",
          "LanaCoin",
          "ARK",
          "InsaneCoin",
          "EmberCoin",
          "XenixCoin",
          "FreeCoin",
          "PLNCoin",
          "AquariusCoin",
          "Creatio",
          "Eternity",
          "Eurocoin",
          "BitcoinFast",
          "Stakenet",
          "BitConnect Coin",
          "MoneyCoin",
          "Enigma",
          "Russiacoin",
          "PandaCoin",
          "GameUnits",
          "GAKHcoin",
          "Allsafe",
          "LiteCreed",
          "Klingon Empire Darsek",
          "Internet of People",
          "KushCoin",
          "Printerium",
          "Impeach",
          "Zilbercoin",
          "FirstCoin",
          "FindCoin",
          "OpenChat",
          "RenosCoin",
          "VirtacoinPlus",
          "TajCoin",
          "Impact",
          "Atmos",
          "HappyCoin",
          "MacronCoin",
          "Condensate",
          "Independent Money System",
          "ArgusCoin",
          "LomoCoin",
          "ProCurrency",
          "GoldReserve",
          "GrowthCoin",
          "Phreak",
          "Degas Coin",
          "HTML5 Coin",
          "Ultimate Secure Cash",
          "QTUM",
          "Espers",
          "Denarius",
          "Virta Unique Coin",
          "Bitcoin Planet",
          "BritCoin",
          "Linda",
          "DeepOnion",
          "Signatum",
          "Cream",
          "Monoeci",
          "Draftcoin",
          "Stakecoin",
          "CoinonatX",
          "Ethereum Dark",
          "Obsidian",
          "Cardano",
          "Regalcoin",
          "TrezarCoin",
          "TerraNovaCoin",
          "Rupee",
          "WomenCoin",
          "Theresa May Coin",
          "NamoCoin",
          "LUXCoin",
          "Xios",
          "Bitcloud 2.0",
          "KekCoin",
          "BlackholeCoin",
          "Infinity Economics",
          "Magnet",
          "Lamden Tau",
          "Electra",
          "Bitcoin Diamond",
          "Cash & Back Coin",
          "Bulwark",
          "Kalkulus",
          "GermanCoin",
          "LiteCoin Ultra",
          "PhantomX",
          "Digiwage",
          "Trollcoin",
          "Litecoin Plus",
          "Monkey Project",
          "TokenPay",
          "My Big Coin",
          "Unified Society USDEX",
          "Tokyo Coin",
          "BiblePay",
          "Stipend",
          "Pushi",
          "Ellerium",
          "Velox",
          "Ontology",
          "Bitspace",
          "Briacoin",
          "Ignition",
          "MedicCoin",
          "Bitcoin Green",
          "Deviant Coin",
          "Abjcoin",
          "Semux",
          "Carebit",
          "Zealium",
          "Proton",
          "iDealCash",
          "Bitcoin Incognito",
          "HollyWoodCoin",
          "Swisscoin",
          "Xt3ch",
          "TheVig",
          "EmaratCoin",
          "Dekado",
          "Lynx",
          "Poseidon Quark",
          "BitcoinWSpectrum",
          "Muse",
          "Trivechain",
          "Dystem",
          "Giant",
          "Peony Coin",
          "Absolute Coin",
          "Vitae",
          "TPCash",
          "ARENON",
          "EUNO",
          "MMOCoin",
          "Ketan",
          "XDNA",
          "PAXEX",
          "ThunderStake",
          "Kcash",
          "Bettex coin",
          "BitMoney",
          "Junson Ming Chan Coin",
          "HerbCoin",
          "PirateCash",
          "Oduwa",
          "Galilel",
          "Crypto Sports",
          "Credit",
          "Dash Platinum",
          "Nasdacoin",
          "Beetle Coin",
          "Titan Coin",
          "Award",
          "Insane Coin",
          "ALAX",
          "LiteDoge",
          "TruckCoin",
          "OrangeCoin",
          "BitstarCoin",
          "NeosCoin",
          "HyperCoin",
          "PinkCoin",
          "AudioCoin",
          "IncaKoin",
          "Piggy Coin",
          "Genstake",
          "XiaoMiCoin",
          "CapriCoin",
          " ClubCoin",
          "Radium",
          "Creditbit ",
          "OKCash",
          "Lisk",
          "HiCoin",
          "WhiteCoin",
          "FriendshipCoin",
          "Triangles Coin",
          "EOS",
          "Oxycoin",
          "TigerCash",
          "Particl",
          "Nxt",
          "ZEPHYR",
          "Gapcoin",
          "BitcoinPlus"
         ],
         "legendgroup": "0",
         "marker": {
          "color": [
           0,
           0,
           0,
           0,
           0,
           0,
           0,
           0,
           0,
           0,
           0,
           0,
           0,
           0,
           0,
           0,
           0,
           0,
           0,
           0,
           0,
           0,
           0,
           0,
           0,
           0,
           0,
           0,
           0,
           0,
           0,
           0,
           0,
           0,
           0,
           0,
           0,
           0,
           0,
           0,
           0,
           0,
           0,
           0,
           0,
           0,
           0,
           0,
           0,
           0,
           0,
           0,
           0,
           0,
           0,
           0,
           0,
           0,
           0,
           0,
           0,
           0,
           0,
           0,
           0,
           0,
           0,
           0,
           0,
           0,
           0,
           0,
           0,
           0,
           0,
           0,
           0,
           0,
           0,
           0,
           0,
           0,
           0,
           0,
           0,
           0,
           0,
           0,
           0,
           0,
           0,
           0,
           0,
           0,
           0,
           0,
           0,
           0,
           0,
           0,
           0,
           0,
           0,
           0,
           0,
           0,
           0,
           0,
           0,
           0,
           0,
           0,
           0,
           0,
           0,
           0,
           0,
           0,
           0,
           0,
           0,
           0,
           0,
           0,
           0,
           0,
           0,
           0,
           0,
           0,
           0,
           0,
           0,
           0,
           0,
           0,
           0,
           0,
           0,
           0,
           0,
           0,
           0,
           0,
           0,
           0,
           0,
           0,
           0,
           0,
           0,
           0,
           0,
           0,
           0,
           0,
           0,
           0,
           0,
           0,
           0,
           0,
           0,
           0,
           0,
           0,
           0,
           0,
           0,
           0,
           0,
           0,
           0,
           0,
           0,
           0,
           0,
           0,
           0,
           0,
           0,
           0,
           0,
           0,
           0,
           0,
           0,
           0,
           0,
           0,
           0,
           0,
           0,
           0,
           0,
           0,
           0,
           0,
           0,
           0,
           0,
           0,
           0,
           0,
           0,
           0,
           0,
           0,
           0,
           0,
           0,
           0,
           0,
           0,
           0,
           0,
           0,
           0,
           0,
           0,
           0,
           0,
           0,
           0,
           0,
           0,
           0,
           0,
           0,
           0,
           0,
           0,
           0,
           0,
           0,
           0,
           0,
           0,
           0,
           0,
           0,
           0,
           0,
           0,
           0,
           0,
           0,
           0,
           0,
           0,
           0,
           0,
           0,
           0,
           0,
           0,
           0,
           0,
           0,
           0,
           0,
           0,
           0,
           0,
           0,
           0,
           0,
           0,
           0,
           0,
           0,
           0,
           0,
           0,
           0,
           0,
           0,
           0,
           0,
           0,
           0,
           0,
           0,
           0,
           0,
           0,
           0
          ],
          "coloraxis": "coloraxis",
          "symbol": "circle"
         },
         "mode": "markers",
         "name": "0",
         "scene": "scene",
         "showlegend": true,
         "type": "scatter3d",
         "x": [
          -0.3436848492207775,
          -0.32700376952260485,
          2.299953905130538,
          -0.393035201680919,
          -0.2843045550618058,
          -0.3136596346529592,
          -0.2520559879067876,
          -0.23490267675554288,
          -0.3433440066155044,
          -0.33591473707382513,
          -0.3421800091448419,
          -0.3436807785795151,
          -0.3436650419072165,
          0.5921817211699391,
          -0.3667840854331205,
          -0.3172804157841659,
          -0.3314885834141405,
          -0.3417410854633105,
          -0.31123634391739896,
          -0.3929297989443456,
          -0.45024631851932284,
          -0.021757529093026185,
          -0.27691716197354943,
          -0.28183190358391214,
          -0.2882953190036142,
          -0.2889181119765559,
          -0.34528087689268155,
          -0.3379792442671847,
          -0.34208450549514147,
          0.014792803003774087,
          -0.3311416173092971,
          -0.39330185135442447,
          -0.23175902353087294,
          -0.2841674669147367,
          -0.3932133482126477,
          -0.31888409914978905,
          -0.34236040580046545,
          -0.2863398893588082,
          -0.3931778178567231,
          -0.232227800087285,
          -0.2886987697047474,
          -0.3347736280776311,
          -0.17568803577930503,
          -0.3271414779941896,
          -0.31287033400633985,
          -0.3662051316490759,
          -0.2818122413674599,
          -0.28899349763919296,
          -0.2764582646862623,
          -0.34366690092751173,
          -0.28894565018473334,
          -0.33158675962412215,
          -0.34340091351144114,
          -0.3932833629199468,
          -0.490686828999402,
          -0.4152601350079253,
          -0.3893953497922175,
          -0.28021167993270724,
          -0.2884665990571066,
          -0.3062035217291754,
          -0.23734835204888463,
          -0.06941680641337403,
          -0.313630521305427,
          -0.07028982331121984,
          -0.313694344339548,
          -0.232817955976308,
          -0.34327654565777505,
          -0.2800798778359078,
          -0.39044761030329533,
          0.8730030015886164,
          -0.3134940430518673,
          -0.13949973296017565,
          -0.31696327259738327,
          -0.3911238861808239,
          -0.3122353148660987,
          -0.3098995523375617,
          -0.3542899562022801,
          -0.39201653682712057,
          -0.30678492533353613,
          -0.31953904059469546,
          -0.3433146651424343,
          -0.34175187025309606,
          -0.22608180356806273,
          -0.31906200537669593,
          -0.3927564760223244,
          -0.34251787151679153,
          -0.31367521567734563,
          -0.39327252642913857,
          -0.34350414428336656,
          -0.3436611286134986,
          -0.28007076793074354,
          -0.28053675338697104,
          0.021653520789258078,
          -0.31591905011899174,
          -0.34327492342677934,
          -0.37941297862785983,
          -0.31524726255968555,
          -0.22751493035397719,
          -0.38940307277277636,
          -0.3149944072014264,
          -0.2932422508903754,
          3.690464320846731,
          -0.3928645257402287,
          0.844288408972669,
          -0.39322738882117975,
          -0.31638337866352306,
          -0.34320218016388593,
          -0.34335663039845427,
          -0.31696327259738327,
          -0.3928015600434321,
          -0.31353776574194425,
          -0.3432029497856727,
          -0.3582762988476741,
          -0.3433505086020905,
          -0.3389306844882317,
          -0.3932564030474262,
          -0.34255977842974,
          0.36223713354413256,
          -0.3435500612667888,
          -0.3436207565017274,
          -0.3284645351693345,
          -0.3554584914910261,
          -0.3398410145728692,
          -0.3136516072412978,
          -0.3931662440638267,
          -0.3433982599110137,
          -0.34352532061208035,
          -0.2817183353632891,
          -0.2889112108184362,
          -0.2272824948031927,
          -0.3243550522372946,
          -0.28145934597195904,
          -0.3924307594052997,
          -0.4303735881181222,
          -0.3911678865601731,
          -0.3152076418488987,
          -0.39232854880888557,
          -0.30960056820928483,
          -0.3882633378270126,
          -0.3434685582412864,
          -0.34346770336894655,
          -0.33657717341077426,
          0.2815552456276577,
          -0.3928078346490817,
          -0.26433254877839235,
          -0.316997539314931,
          -0.34267800597796794,
          0.8986281248783248,
          -0.2507440507436452,
          -0.3055617331580987,
          0.5963143231299151,
          -0.35582752372505494,
          -0.3543276899873656,
          -0.44122780242815696,
          -0.288630329457454,
          0.12199681894380664,
          -0.2887012344515514,
          -0.32697387192190674,
          -0.44073222335025203,
          -0.3930806564696436,
          -0.28179283149667167,
          -0.3168634996104206,
          -0.3431032507591206,
          -0.3436036648818892,
          -0.3424440843651718,
          0.7025327371484719,
          -0.3930213243000499,
          -0.3402730619068888,
          -0.34355916960996297,
          -0.2936975632749306,
          0.4264280438239279,
          -0.3119958544442882,
          -0.3405729740359199,
          -0.3813517823141055,
          -0.3435094303293746,
          -0.3884440021602087,
          -0.29609629236142904,
          -0.34337974511622615,
          -0.07832325917972427,
          -0.39181214644259077,
          3.695327125488137,
          0.20436881794704267,
          -0.28536782219958545,
          -0.3408364693165043,
          -0.2940505402843403,
          -0.3283503020738429,
          0.07145225610462932,
          -0.3425166612244061,
          -0.39239439380420693,
          -0.3275136579957728,
          -0.33006627855388937,
          -0.34362581833573663,
          -0.33155865680119934,
          -0.3070671570694543,
          -0.2728661406549831,
          -0.3391655321364265,
          -0.21906585779979934,
          -0.14385471025026228,
          -0.3687053427156791,
          -0.3930978250861654,
          -0.34832849876253286,
          -0.28095138982470924,
          -0.2672205372927555,
          -0.35542586873492354,
          -0.3436532046869626,
          -0.34363488656896013,
          -0.2753252995814156,
          -0.33012150297921067,
          -0.31645741900151403,
          -0.3433509820497065,
          3.9007478520413903,
          -0.3871107815606668,
          -0.3166463127399948,
          -0.3012353694261045,
          -0.29014062464424095,
          -0.34457474072251737,
          -0.2814867031136056,
          -0.14652091252021265,
          -0.28173888952659576,
          -0.35866291779595255,
          -0.3428241969746238,
          -0.17515091054254828,
          2.2235058663181575,
          -0.3240504416519955,
          -0.2508724943771848,
          1.0138147581017671,
          -0.3621112665713728,
          -0.3284639344352765,
          -0.3901308976649323,
          -0.1622575426677371,
          -0.355165802321703,
          -0.32718179379877255,
          -0.3365172085600329,
          -0.3311354644890085,
          -0.39257051815480104,
          -0.278980491528367,
          -0.31574448606764544,
          -0.3676143788558098,
          -0.3309964424922165,
          -0.20289535706351364,
          -0.40155286550219627,
          -0.2867814530776256,
          0.436571060718265,
          -0.12131468583593445,
          -0.38942457263593394,
          -0.2631274611512725,
          -0.34335501386902406,
          -0.389881328535208,
          -0.32858106652870656,
          0.5644560601786148,
          -0.3316130304948484,
          -0.3428370710009573,
          -0.3427762758210235,
          -0.313310790588402,
          -0.39013065434066524,
          -0.3927980879364192,
          3.7075833027868983,
          0.09219279323953732,
          -0.39033561961440877,
          -0.34222128442932753,
          -0.34304793213754375,
          -0.25208859683557094,
          -0.34356707745297804,
          -0.3844152568061123,
          -0.2571258156164023,
          -0.09311115374760956,
          -0.3801566191897704,
          -0.3428446324775987,
          -0.33590014803589713,
          -0.3893624174727217,
          -0.34128148734887725,
          -0.3172392273987196,
          -0.3660195755574852,
          -0.3121728089800936,
          3.6908567121904468,
          -0.0887809429681853,
          -0.33847279794774704,
          -0.3449060440630295,
          -0.28910087391475703,
          3.700732963544759,
          3.7019782596392026,
          -0.23296164142012188,
          -0.3171750362781367,
          -0.30722533559125914,
          2.4611578042416196,
          -0.34172687906105514,
          -0.28213598893703123
         ],
         "y": [
          1.1176182650313187,
          1.1176705156824074,
          1.6864464199141516,
          1.239078843333448,
          1.3604302972486129,
          0.8541553379035441,
          0.5280026093696037,
          1.8749181799591925,
          1.1176152183919146,
          1.1178154596915824,
          1.1176564558071282,
          1.1176180195971746,
          1.1176180702013723,
          0.3959466356369577,
          0.9541192577092709,
          1.416528024780915,
          0.500810423525068,
          1.1175838901253112,
          0.9134473604112018,
          1.2390815183081925,
          2.023977886982877,
          0.7980655623672144,
          0.8534156647552339,
          0.7914539505253724,
          1.8398993141165183,
          1.8398835084977379,
          0.552048963976445,
          1.1174700980339405,
          1.1175905205111316,
          1.1267159289046562,
          0.9129421922789077,
          1.2390874213465648,
          -0.02228803173913883,
          1.5181675932814716,
          1.2390826927178302,
          1.1171316075248023,
          1.1175821234628465,
          0.4315959507173556,
          1.23908673336458,
          -0.022230174507386163,
          1.839889075099291,
          1.1171468781669944,
          0.510098025350203,
          1.2774529728645536,
          0.8541432823563191,
          0.9541370059812746,
          0.7914657357430098,
          1.8398732248191587,
          0.7912528415776198,
          1.1176187205633068,
          1.8398758342035186,
          0.9129169443609049,
          1.117611520128044,
          1.239087891254839,
          2.133773491770046,
          2.0492718818345534,
          0.7681340466834327,
          0.7914366016361242,
          1.8398600902030378,
          0.853662368296925,
          1.8750819076326692,
          0.915202260027322,
          0.8541560767597813,
          1.2287652966587692,
          0.854162478744761,
          1.5541892660698795,
          1.117599330502844,
          0.7913555073816984,
          1.2388920028566177,
          0.7517167522316722,
          0.8541469846448045,
          0.4037812715734973,
          1.4165221226079083,
          1.2390903801724817,
          0.8540514711832596,
          0.853899900293863,
          1.5510436970670676,
          1.2390230832994849,
          1.3216834125085517,
          1.1168359695095158,
          1.1175967354872884,
          1.1175975672480103,
          1.513615928302328,
          0.9127904713933381,
          1.2390663858467912,
          1.1175851026149701,
          0.8541556400201155,
          1.2390860736460443,
          1.1176082027334582,
          1.1176188670566019,
          0.7915099319148559,
          0.42873327877659134,
          1.9985518785630416,
          1.4165109562916844,
          1.1176286684066772,
          1.238393590377934,
          1.416551721799628,
          1.5137173218561042,
          1.9821528963827166,
          1.4163760805707628,
          1.9992753429697208,
          2.0688839275547752,
          1.2390775945209982,
          1.8680498025852739,
          1.2390866239450518,
          1.416515913270311,
          1.1176036312884061,
          1.1175972980635962,
          1.4165221226079083,
          1.2390582662642622,
          0.8541598258494401,
          1.1176074761351824,
          0.5230529008385215,
          1.117607219004223,
          1.1172850570497,
          1.2390850877524648,
          1.1175463718465903,
          0.7851303155818413,
          1.117612617754592,
          1.1176175787448928,
          1.3255449261380376,
          0.6188048121443821,
          1.117367045592396,
          0.8541562391693613,
          1.239084338767231,
          1.1176115874727288,
          1.117607014269413,
          0.7914297541761447,
          0.48635616540402343,
          1.513714833003022,
          1.1174112871200796,
          0.791450677885694,
          1.2390397750170323,
          2.0153084591742445,
          1.2390648495592078,
          1.416503697049291,
          1.2390423689797017,
          1.4164439121096577,
          1.2388665218629695,
          1.1176089578945192,
          1.1176038262393957,
          1.1171011066968162,
          0.48923804280870276,
          1.2390720578491565,
          0.7905142634455488,
          1.4165142775534878,
          1.1175705755059997,
          1.8411510379453633,
          0.5279050567852418,
          1.3216680689280962,
          1.9892818814531945,
          1.5510604790461058,
          1.5510218131976472,
          1.9700667312251317,
          1.8398698857790265,
          1.094559553481263,
          1.8398758302814155,
          1.3530251473911035,
          1.970079308332326,
          1.2390864039483913,
          0.7914540870108433,
          1.4164956370145012,
          1.1175993674580618,
          1.117617395732739,
          1.3614025959234162,
          1.2368617160808475,
          1.2390757078156476,
          0.551899668567946,
          1.1176104799849136,
          0.5159476901273644,
          1.1197241262918798,
          0.8541431541093624,
          1.5506175441579437,
          1.8449864530853404,
          1.1176080685809682,
          1.651616455598358,
          1.3414653964925276,
          1.1176156927450995,
          0.5261425519267406,
          1.2390247827365377,
          2.068745760787009,
          1.5443582193888352,
          1.8398271262412424,
          1.1175440693085386,
          1.224893165188254,
          1.3255443375085856,
          1.093276802829997,
          1.117543280853551,
          1.2390755749895,
          1.3254958162424932,
          1.1173360982739489,
          1.1176169730171726,
          0.9129169600301513,
          1.3216821789608375,
          0.4905661705138743,
          1.1175711294601545,
          1.5133754584707937,
          2.5928629408382715,
          0.9595291214196182,
          1.2390751614147428,
          1.545456534617868,
          0.7914010878378944,
          1.219711122978217,
          1.5510427708393837,
          1.11761697553098,
          1.117616045336753,
          0.7912815946549929,
          1.305606283403739,
          1.4164875276608517,
          1.1176058119062169,
          1.9763378890713084,
          1.651650290881448,
          1.4164883141309532,
          0.5000879068821803,
          1.1154043705281511,
          1.0745264869492277,
          0.791455861377425,
          1.1155070902567896,
          0.7914369054941984,
          2.0027810482423227,
          1.1175815137489242,
          1.5488931873662632,
          0.44336229603414257,
          1.325214010973034,
          0.5279714270270275,
          1.7170945419253325,
          0.8262395410518033,
          1.3255407561361359,
          1.651709559759829,
          0.7827253707362907,
          0.8420906018358707,
          1.325518189319539,
          1.1171026285212622,
          0.91290398365838,
          1.2390711051986314,
          0.7913562408789068,
          1.4164205208698974,
          0.9958440988740407,
          0.912876122485436,
          1.1086355633183735,
          1.4763966026436788,
          1.2193027183984166,
          1.3208255974934384,
          0.9182673077390406,
          1.651693411111809,
          -0.11893624074718931,
          1.1176119874557975,
          1.6517062081169516,
          1.3255431057266276,
          1.088489529351226,
          0.9129164869051573,
          1.1175811870240553,
          1.5452905241435775,
          2.0005140698199932,
          1.2388749352716009,
          1.2390792806199833,
          2.068708034866034,
          1.1042662880322873,
          1.2391627008769337,
          1.1175159000413415,
          1.1175965832468107,
          0.5279958526994779,
          1.1176212539441444,
          1.2389641808030893,
          1.1124908293837432,
          0.8596353644293311,
          1.2387234884568488,
          1.1176291254728012,
          1.1175368134280232,
          1.2390423108058999,
          1.117567652434433,
          1.4165227922132644,
          0.620248302703898,
          0.854135175543136,
          2.0688695288753842,
          0.7893830253677234,
          1.1175412772824223,
          0.5520191366775283,
          1.8398787865491812,
          2.069231724073727,
          2.0692633279552606,
          0.5277983752892269,
          1.4165246764970096,
          1.7704205945937916,
          0.879408160802143,
          1.1174935702972908,
          0.7914568219390402
         ],
         "z": [
          -0.47520678059172233,
          -0.4757274075280791,
          -0.6205224003909451,
          -0.4554690252342306,
          -0.11611919285544928,
          -0.3528686469658736,
          -0.17700922242961964,
          -0.5754282253228699,
          -0.4752167389608622,
          -0.4754778407811195,
          -0.4752592769081968,
          -0.47520686499538145,
          -0.4752073563634285,
          0.06248922493254668,
          -0.35387605910508657,
          -0.2980796811478535,
          -0.22261118972126753,
          -0.4752607634532774,
          -0.280315550307658,
          -0.45547270220629515,
          -0.2796856441713196,
          -0.30842764695040786,
          -0.3538742239251002,
          -0.29935309423273987,
          -0.5664259296432372,
          -0.5664042035246183,
          -0.28796971403078747,
          -0.47535743195359825,
          -0.47525131789119773,
          -0.48771226529672795,
          -0.2796211553005765,
          -0.45546225768914395,
          -0.010220374686272071,
          -0.3914965598218805,
          -0.4554641931263053,
          -0.47588761689548126,
          -0.47524146269373035,
          -0.15879142136404958,
          -0.45546595105061616,
          -0.010215542508081824,
          -0.5664118552747546,
          -0.47540243752975636,
          0.713950270546726,
          -0.25228734363367294,
          -0.35289088200350166,
          -0.3538967605179625,
          -0.2993556442596595,
          -0.5664001911677502,
          -0.29948481220744766,
          -0.47520740672236045,
          -0.5664020907467301,
          -0.27960332230485135,
          -0.4752143814710354,
          -0.4554629027729683,
          0.24704094446515437,
          -0.6616619334406594,
          -0.02641379735824585,
          -0.2993999587274487,
          -0.5664141940018579,
          -0.35301607711998995,
          -0.5753802019666497,
          -0.39261997141157123,
          -0.3528696625843365,
          -0.463671677941442,
          -0.35286876104359566,
          -0.5553885286291536,
          -0.4752161854028893,
          -0.29939061006848133,
          -0.45551758698611367,
          -0.3282354771543561,
          -0.3528723498304644,
          0.08365289655974228,
          -0.29808844046441946,
          -0.45552959525868464,
          -0.3528952086387078,
          -0.3529418663127226,
          -0.5511406117059641,
          -0.45549108166929597,
          -0.3370139903009209,
          -0.4758186849531127,
          -0.4752145867803477,
          -0.47526269144238437,
          -0.3905636436970257,
          -0.2799668587827296,
          -0.45547552266971336,
          -0.47523712161394344,
          -0.35286821863300694,
          -0.45546293517126485,
          -0.4752106650571049,
          -0.4752076080894028,
          -0.29941639552067517,
          -0.15274773953664972,
          -0.6591283216959728,
          -0.29811864675781863,
          -0.4752210808485097,
          -0.45577395459290837,
          -0.29814599923084295,
          -0.39053640322307437,
          -0.6519954103454666,
          -0.2981247500503932,
          -0.6495826337946135,
          -0.20339450165658746,
          -0.45547405757402715,
          -0.6058381579029941,
          -0.455464411483215,
          -0.2981052137266636,
          -0.4752191782708549,
          -0.47521339164854215,
          -0.29808844046441946,
          -0.4554727978065416,
          -0.3528731287816729,
          -0.47521978969051837,
          -0.14867954040662162,
          -0.47521521815864487,
          -0.4752976664764503,
          -0.45546326721344194,
          -0.4752294383083632,
          -0.31807722197783866,
          -0.475209984930689,
          -0.47520863445485356,
          -0.3490978953424268,
          -0.2118768701819033,
          -0.47528326727405124,
          -0.35286904221275855,
          -0.45546591077964466,
          -0.47521447404182565,
          -0.4752098187913088,
          -0.299352583573774,
          -0.2679951921604117,
          -0.3905431263533237,
          -0.4757658893096937,
          -0.2993639887112926,
          -0.4554811247458196,
          -0.5806752108161692,
          -0.45552402792801633,
          -0.29813928321520666,
          -0.45548469036013783,
          -0.29830150812983974,
          -0.4555804208272371,
          -0.4752118820367364,
          -0.4752110606953953,
          -0.4753395208920531,
          -0.18698486729893843,
          -0.45547488313331963,
          -0.2997350013107011,
          -0.29808609296263566,
          -0.4752298071647382,
          -0.6046427720665899,
          -0.17703337759944138,
          -0.33704899981295117,
          -0.6612512353445523,
          -0.5510961905631011,
          -0.5511358390393565,
          -0.587568731207412,
          -0.5664107864868377,
          -0.4856915343112236,
          -0.566409592016566,
          -0.2956172935663764,
          -0.587586019472212,
          -0.4554688788424344,
          -0.29935431602568907,
          -0.2980871282770165,
          -0.47522151049346556,
          -0.47520912882495303,
          -0.11449529236386564,
          -0.4098430952874514,
          -0.4554689332922909,
          -0.2880987615617709,
          -0.47520935227682964,
          -0.16600829501139525,
          -0.49919188094443,
          -0.3529177014570229,
          -0.5514912443131702,
          -0.5663739202687735,
          -0.47521048065351074,
          -0.5249937598546913,
          -0.24067483427352263,
          -0.4752157203769765,
          -0.18203442752008703,
          -0.45549763576912256,
          -0.203520936430575,
          -0.5671834548618437,
          -0.5665038610316537,
          -0.47528195199373796,
          -0.3752396772820558,
          -0.3491013043072877,
          -0.48392828839243496,
          -0.4752302511862095,
          -0.4554881538996121,
          -0.3491189695355586,
          -0.4755781743915044,
          -0.4752083790443848,
          -0.27960418746037363,
          -0.33700512394517457,
          -0.2824285817284836,
          -0.47533770796117675,
          -0.39073926831715017,
          3.2018688563466204,
          -0.3411132291479956,
          -0.45546649498574165,
          -0.239073254653261,
          -0.2993713889052797,
          -0.3065260808698364,
          -0.5511055938557429,
          -0.4752075388829611,
          -0.47520794748846334,
          -0.2995243356692215,
          -0.25559266547953347,
          -0.29809825282028724,
          -0.47521497122081025,
          -0.18537974680533806,
          -0.5250402692248181,
          -0.2980925849530408,
          -0.09168690120255753,
          -0.47648456548430457,
          0.18997604102543264,
          -0.2993640051730728,
          -0.48090968973107895,
          -0.29935313386119605,
          -0.6481536866037744,
          -0.47522712672222756,
          -0.39953305828512126,
          -0.37708890215133994,
          -0.34917872202783606,
          -0.1770403974193819,
          -0.2253611133738952,
          -0.26756848199956784,
          -0.34909722503414503,
          -0.5249573612552094,
          -0.30158154867311937,
          -0.34187025423670714,
          -0.34913285082673384,
          -0.4753416127645,
          -0.2796150333468785,
          -0.4554820098056692,
          -0.29942447497676344,
          -0.2981090677502445,
          -0.40101819936686334,
          -0.27961469863949023,
          -0.478044424184076,
          0.21305593762781244,
          -0.06321191319568568,
          0.39364797567188636,
          -0.2869409630066912,
          -0.524976373454709,
          -0.016468307209068264,
          -0.4752158674681991,
          -0.5249644677665748,
          -0.34909401794224426,
          -0.4982694866710261,
          -0.2796024404093706,
          -0.4752266776121135,
          -0.23921625106606184,
          -0.6491712615425527,
          -0.45552449639836823,
          -0.45547637525529355,
          -0.20389088748906836,
          -0.4863799837450977,
          -0.45556573473077316,
          -0.47523479485832126,
          -0.47522274854288565,
          -0.1770071055759775,
          -0.475210889061987,
          -0.4557146610456532,
          -0.47701667697210703,
          -0.36054312026222546,
          -0.45580561811521225,
          -0.475234363376243,
          -0.4754322653943339,
          -0.4555757210162095,
          -0.4752721880904854,
          -0.2980800811064245,
          -0.3208169861005265,
          -0.3529109523480251,
          -0.20340416724240212,
          -0.3049364106033746,
          -0.47535403964225037,
          -0.28797629238936334,
          -0.5663978140532862,
          -0.20376712437385913,
          -0.20381056649963772,
          -0.1775615575927135,
          -0.29808236256322623,
          -0.25294954569984995,
          -0.15610148966086962,
          -0.4752462816376573,
          -0.29934423512228553
         ]
        },
        {
         "customdata": [
          [
           "SHA-256",
           17927175,
           "21000000"
          ],
          [
           "Ethash",
           107684222.6865,
           "0"
          ],
          [
           "Scrypt",
           63039243.3000049,
           "84000000"
          ],
          [
           "CryptoNight-V7",
           17201143.1449131,
           "0"
          ],
          [
           "Ethash",
           113359703,
           "210000000"
          ],
          [
           "Equihash",
           7383056.25,
           "21000000"
          ],
          [
           "Multiple",
           11406219141,
           "21000000000"
          ],
          [
           "Scrypt",
           5768310,
           "21000000"
          ],
          [
           "X11",
           11149733.9976203,
           "20000000"
          ],
          [
           "Scrypt",
           12205795.4449549,
           "64000000"
          ],
          [
           "Multiple",
           1688254250,
           "2000000000"
          ],
          [
           "Scrypt",
           88,
           "384000000000"
          ],
          [
           "SHA-256",
           170204389.754849,
           "169795588"
          ],
          [
           "Scrypt",
           128940951.183046,
           "250000000"
          ],
          [
           "Scrypt",
           7357794.7925,
           "100000000"
          ],
          [
           "Quark",
           259557164.91477,
           "247000000"
          ],
          [
           "Groestl",
           49548585.1412917,
           "84000000"
          ],
          [
           "Scrypt",
           33442988.3440364,
           "48166000"
          ],
          [
           "Scrypt",
           7219956.64626131,
           "21000000 "
          ],
          [
           "Scrypt",
           4703879.51824446,
           "13140000"
          ],
          [
           "X11",
           4996986.20575291,
           "18000000"
          ],
          [
           "Multiple",
           15929530669.1206,
           "16555000000"
          ],
          [
           "SHA-256",
           18773857500,
           "21000000000"
          ],
          [
           "Scrypt",
           12539015186.822,
           "13500000000"
          ],
          [
           "Scrypt",
           20910478.8062499,
           "21000000 "
          ],
          [
           "Scrypt",
           218871896.499999,
           "299792458"
          ],
          [
           "Scrypt",
           19496786.31025,
           "32000000"
          ],
          [
           "Scrypt",
           1142732.14912776,
           "11235813"
          ],
          [
           "NeoScrypt",
           208669093.00773,
           "336000000"
          ],
          [
           "Scrypt",
           884125802,
           "1420609614"
          ],
          [
           "Scrypt",
           65672720.4708748,
           "70000000"
          ],
          [
           "Scrypt",
           41658647.9999715,
           "72245700"
          ],
          [
           "Scrypt",
           90595753018.6314,
           "90600000000"
          ],
          [
           "SHA-256",
           21089348.999,
           "21000000"
          ],
          [
           "Scrypt",
           151447649.8,
           "265420800"
          ],
          [
           "Scrypt",
           19326319.14375,
           "20000000"
          ],
          [
           "Scrypt",
           1104344.22938102,
           "1350000"
          ],
          [
           "Scrypt",
           38151999.9930997,
           "42000000"
          ],
          [
           "HybridScryptHash256",
           40431856.9,
           "200000000"
          ],
          [
           "Scrypt",
           5804204.88794916,
           "10000000"
          ],
          [
           "Scrypt",
           2366066305.76482,
           "15000000000"
          ],
          [
           "SHA-256",
           14736400,
           "21000000"
          ],
          [
           "Scrypt",
           334709223.483138,
           "337000000"
          ],
          [
           "Scrypt",
           1104157.42169891,
           "21000000"
          ],
          [
           "Scrypt",
           24215181.725,
           "250000000"
          ],
          [
           "Scrypt",
           25593737.1355044,
           "51200000"
          ],
          [
           "SHA-256",
           563336541.299966,
           "888000000"
          ],
          [
           "SHA-256",
           43536800,
           "47011968"
          ],
          [
           "SHA-256",
           22935396,
           "42000000"
          ],
          [
           "SHA-256",
           2278150,
           "80000000"
          ],
          [
           "SHA-256",
           200911.79151896,
           "250000"
          ],
          [
           "X11",
           1207310,
           "0"
          ],
          [
           "Scrypt",
           23150892.1679687,
           "23000000"
          ],
          [
           "Lyra2REv2",
           51173723.8166347,
           "84000000"
          ],
          [
           "Scrypt",
           119606941,
           "265420800"
          ],
          [
           "SHA-256",
           39195739.362088,
           "45000000"
          ],
          [
           "CryptoNight",
           184066828814,
           "184467440735"
          ],
          [
           "CryptoNight",
           6906587610.38292,
           "10000000000"
          ],
          [
           "Scrypt",
           68194674.8711679,
           "105120000"
          ],
          [
           "Scrypt",
           415032420,
           "1680000000"
          ],
          [
           "Scrypt",
           137517654.41397,
           "166386000"
          ],
          [
           "Scrypt",
           181919.2435974,
           "2628000"
          ],
          [
           "Scrypt",
           152270664.860648,
           "160000000"
          ],
          [
           "Scrypt",
           792537250,
           "1000000000"
          ],
          [
           "Stanford Folding",
           719416990,
           "1000000000"
          ],
          [
           "Multiple",
           65113302,
           "0"
          ],
          [
           "QuBit",
           6365285,
           "0"
          ],
          [
           "Scrypt",
           10140044.4430293,
           "3371337"
          ],
          [
           "Scrypt",
           4610340640.89,
           "10000000000"
          ],
          [
           "M7 POW",
           708506520,
           "1840000000"
          ],
          [
           "Scrypt",
           619478,
           "619478"
          ],
          [
           "SHA-256",
           12462620,
           "21000000"
          ],
          [
           "Scrypt",
           88213,
           "92000000000"
          ],
          [
           "X11",
           32221574.820996,
           "33000000"
          ],
          [
           "Lyra2RE",
           13742738,
           "65789100"
          ],
          [
           "SHA-256",
           14747200.0002,
           "53760000"
          ],
          [
           "X11",
           15863837.5,
           "21000000"
          ],
          [
           "Scrypt",
           32565300,
           "210240000"
          ],
          [
           "Scrypt",
           75614500,
           "250000000"
          ],
          [
           "Ethash",
           10495278,
           "16906397"
          ],
          [
           "Blake2b",
           33098296530,
           "0"
          ],
          [
           "X11",
           15867695,
           "16000000"
          ],
          [
           "SHA-256",
           20997476.8650231,
           "21000000"
          ],
          [
           "Scrypt",
           210000000,
           "210000000"
          ],
          [
           "1GB AES Pattern Search",
           11448949,
           "81962100"
          ],
          [
           "Scrypt",
           69836100,
           "84000000"
          ],
          [
           "SHA-256",
           21739971929,
           "21626280000 "
          ],
          [
           "X11",
           45110324,
           "84000000"
          ],
          [
           "Dagger",
           5702048,
           "30000000"
          ],
          [
           "Scrypt",
           636462.55983338,
           "168351300"
          ],
          [
           "X11GOST",
           17263355,
           "24000000"
          ],
          [
           "Scrypt",
           6570807.65677618,
           "20000000"
          ],
          [
           "X11",
           13654082.4987998,
           "25000000"
          ],
          [
           "Scrypt",
           616448,
           "616448"
          ],
          [
           "X11",
           1377917,
           "25000000"
          ],
          [
           "Equihash",
           115898131,
           "200000000"
          ],
          [
           "CryptoNight",
           7822432.72439746,
           "10000000"
          ],
          [
           "SHA-256",
           6243840,
           "9736000"
          ],
          [
           "Multiple",
           1000000000,
           "1200000000"
          ],
          [
           "Scrypt",
           116845228,
           "200000000"
          ],
          [
           "SHA-256",
           9106714,
           "10638298"
          ],
          [
           "Scrypt",
           11119200,
           "30000000"
          ],
          [
           "Lyra2Z",
           7568281.24956067,
           "21400000"
          ],
          [
           "Ethash",
           26205539,
           "26205539"
          ],
          [
           "Equihash",
           5613550,
           "21000000"
          ],
          [
           "Scrypt",
           196297971,
           "10000000000"
          ],
          [
           "X11",
           824000000,
           "500000000"
          ],
          [
           "X11",
           61364813,
           "228000000"
          ],
          [
           "CryptoNight",
           978145,
           "21000000"
          ],
          [
           "Scrypt",
           894026,
           "2714286"
          ],
          [
           "CryptoNight",
           9357088,
           "25000000"
          ],
          [
           "Lyra2RE",
           1876146.443596,
           "9999999"
          ],
          [
           "X11",
           536982074,
           "100000000000"
          ],
          [
           "CryptoNight-V7",
           10969318.522954,
           "185000000"
          ],
          [
           "Scrypt",
           3115258,
           "3360000"
          ],
          [
           "X11",
           30385540,
           "1000000000"
          ],
          [
           "Equihash",
           6921653.89980891,
           "17000000"
          ],
          [
           "Scrypt",
           99843408.3158479,
           "100000000 "
          ],
          [
           "Lyra2RE",
           18545757.5,
           "21000000"
          ],
          [
           "Dagger-Hashimoto",
           2232901,
           "2232901"
          ],
          [
           "Scrypt",
           64096052,
           "4000000000"
          ],
          [
           "NIST5",
           10123200,
           "48252000"
          ],
          [
           "Scrypt",
           20276099.146524,
           "35520400"
          ],
          [
           "SHA-256",
           1317747500,
           "2500000000"
          ],
          [
           "Scrypt",
           13673406.4325268,
           "72000000"
          ],
          [
           "CryptoNight-V7",
           69036016.8340164,
           "105000000"
          ],
          [
           "Argon2d",
           19784224.6512734,
           "0"
          ],
          [
           "Blake2b",
           133248297,
           "340282367"
          ],
          [
           "Cloverhash",
           18407259.0885883,
           "30000000"
          ],
          [
           "CryptoNight",
           1809467143,
           "2000000000"
          ],
          [
           "X11",
           35138975,
           "100000000"
          ],
          [
           "Scrypt",
           18133195,
           "19276800"
          ],
          [
           "Scrypt",
           5167775,
           " 75000000"
          ],
          [
           "X11",
           26042364.3735553,
           "60000000"
          ],
          [
           "X11",
           2622886,
           "18900000"
          ],
          [
           "CryptoNight",
           14161803,
           "54000000"
          ],
          [
           "Time Travel",
           17801865.1605478,
           "21000000"
          ],
          [
           "Scrypt",
           163055097500,
           "200000000000"
          ],
          [
           "Keccak",
           2241009149.22257,
           "5000000000"
          ],
          [
           "X11",
           122475638.389743,
           "1100000000"
          ],
          [
           "SHA-256",
           17995589.6469082,
           "21000000"
          ],
          [
           "Scrypt",
           485214,
           "10500000000"
          ],
          [
           "Scrypt",
           143006669741.687,
           "0"
          ],
          [
           "Scrypt",
           9704042,
           "20000000"
          ],
          [
           "Scrypt",
           17453749.4042601,
           "84000000"
          ],
          [
           "Scrypt",
           32646731.063036,
           "100000000"
          ],
          [
           "Scrypt",
           33716526,
           "100000000"
          ],
          [
           "CryptoNight",
           8946653,
           "88888888"
          ],
          [
           "Equihash",
           5211553258.01514,
           "21000000000"
          ],
          [
           "X11",
           2702855668.85288,
           "1800000000"
          ],
          [
           "NeoScrypt",
           4165967.57499639,
           "27000000"
          ],
          [
           "Equihash",
           17202361.088994,
           "21000000"
          ],
          [
           "Dagger",
           33986980,
           "156306732.71"
          ],
          [
           "Scrypt",
           99990001.493466,
           "100000000"
          ],
          [
           "X11",
           175215859,
           "350000000"
          ],
          [
           "NeoScrypt",
           6375259.04,
           "45000000"
          ],
          [
           "Ethash",
           12756367,
           "280000000"
          ],
          [
           "NeoScrypt",
           5832306.875,
           "31800000"
          ],
          [
           "Multiple",
           481730566.566176,
           "660000000"
          ],
          [
           "CryptoNight",
           19281821413.4924,
           "85000000000"
          ],
          [
           "CryptoNight",
           4500000,
           "12500000"
          ],
          [
           "Ethash",
           520891780,
           "10000000000"
          ],
          [
           "X11",
           80316207,
           "550000000"
          ],
          [
           "CryptoNight-V7",
           441250233.377,
           "999481516"
          ],
          [
           "Scrypt",
           3964201248.87125,
           "4999999999"
          ],
          [
           "BLAKE256",
           30089671530.5228,
           " 90000000000"
          ],
          [
           "X11",
           4229040.50393462,
           "19800000"
          ],
          [
           "NeoScrypt",
           7847417.33355824,
           "21000000"
          ],
          [
           "NeoScrypt",
           299797953,
           "500000000"
          ],
          [
           "Scrypt",
           45483049.3398182,
           "64000000"
          ],
          [
           "X11",
           8478104.33969947,
           "23000000"
          ],
          [
           "SHA-256",
           20166000,
           "20166000"
          ],
          [
           "C11",
           11916588.09471,
           "23000000"
          ],
          [
           "Ethash",
           1618033,
           "1618033"
          ],
          [
           "CryptoNight",
           53139835213.77,
           "1000000000000"
          ],
          [
           "SkunkHash",
           4818338.98949984,
           "16600000"
          ],
          [
           "CryptoNight",
           133932467.774108,
           "336000000"
          ],
          [
           "Scrypt",
           10000000000,
           "10000000000"
          ],
          [
           "Dagger",
           107325266.027783,
           "100000000"
          ],
          [
           "Lyra2REv2",
           643795911.540095,
           "1100000000"
          ],
          [
           "Scrypt",
           12446100.00278,
           "40000000"
          ],
          [
           "Scrypt",
           14491014421,
           "18406979840"
          ],
          [
           "X11",
           211297638.500483,
           "500000000"
          ],
          [
           "Ethash",
           247612453,
           "6500000000"
          ],
          [
           "CryptoNight",
           80049082.9057215,
           "1000000000"
          ],
          [
           "Scrypt",
           4070212.1493016,
           "21000000"
          ],
          [
           "IMesh",
           25000000,
           "25000000"
          ],
          [
           "Equihash",
           71355477,
           "70000000"
          ],
          [
           "Lyra2Z",
           27340501.6514783,
           "300000000"
          ],
          [
           "X11",
           31801461.1867843,
           "100000000"
          ],
          [
           "CryptoNight",
           16016864,
           "18400000"
          ],
          [
           "NIST5",
           21069346.2522598,
           "21000000"
          ],
          [
           "Lyra2RE",
           5097689.71077377,
           "26280000"
          ],
          [
           "Tribus",
           795447,
           "18000000"
          ],
          [
           "Lyra2Z",
           6986399.70430446,
           "10500000"
          ],
          [
           "CryptoNight",
           84300,
           "600000518"
          ],
          [
           "CryptoNight Heavy",
           19153632,
           "150000000"
          ],
          [
           "CryptoNight",
           41294520017,
           "184000000000"
          ],
          [
           "Jump Consistent Hash",
           135862416.039898,
           "168000000"
          ],
          [
           "CryptoNight",
           560085952.404637,
           "1000000000"
          ],
          [
           "X16R",
           8125865.02097646,
           "22075700"
          ],
          [
           "HMQ1725",
           8645406.16776286,
           "21000000"
          ],
          [
           "X11",
           4993030.69736615,
           "21000000"
          ],
          [
           "Scrypt",
           1416663.06600024,
           "22105263"
          ],
          [
           "CryptoNight-V7",
           15580199.3087496,
           "1750000000"
          ],
          [
           "Cryptonight-GPU",
           4890897,
           "88188888"
          ],
          [
           "XEVAN",
           14746153.0962884,
           "210000000"
          ],
          [
           "CryptoNight Heavy",
           99553110528.8022,
           "184470000000"
          ],
          [
           "SHA-256",
           2100000000,
           "2100000000"
          ],
          [
           "X11",
           5015881.37315389,
           "25000000"
          ],
          [
           "X16R",
           9753753.61515394,
           "100000000"
          ],
          [
           "Equihash",
           4235111504,
           "7600000000"
          ],
          [
           "Lyra2Z",
           13634850,
           "84000000"
          ],
          [
           "SHA-256",
           17992514.6469233,
           "21000000"
          ],
          [
           "CryptoNight",
           1867054873.28397,
           "8080000000"
          ],
          [
           "Blake",
           1578281.31341127,
           "105120001.44"
          ],
          [
           "Blake",
           15846721.2482747,
           "25228800"
          ],
          [
           "Exosis",
           406091.925,
           "21000000"
          ],
          [
           "Scrypt",
           35284717.173946,
           "120000000"
          ],
          [
           "Equihash",
           35687520,
           "262800000"
          ],
          [
           "Equihash",
           25150787.5,
           "30886000"
          ],
          [
           "QuBit",
           12925790.4226959,
           "100000000"
          ],
          [
           "SHA-256",
           52293836.6277958,
           "64000000"
          ],
          [
           "X13",
           1170292.5,
           "2100000"
          ],
          [
           "SHA-256",
           84613099.9999955,
           "168000000"
          ],
          [
           "Scrypt",
           55565076.3863525,
           "98100000000"
          ],
          [
           "NeoScrypt",
           3824685012,
           "4000000000"
          ],
          [
           "Blake",
           23356790.1494191,
           "7000000000"
          ],
          [
           "Scrypt",
           780210700,
           "1000000000"
          ],
          [
           "SHA-256",
           22986929.0854247,
           "42000000"
          ],
          [
           "Scrypt",
           29583989322.9213,
           "50000000000"
          ],
          [
           "Groestl",
           73298203.8873662,
           "105000000"
          ],
          [
           "Scrypt",
           5052555.91981545,
           "5000000"
          ],
          [
           "Scrypt",
           69684455.4387001,
           "182000000"
          ],
          [
           "Multiple",
           3332922.5,
           "2800000"
          ],
          [
           "Equihash+Scrypt",
           100000000,
           "2100000000"
          ],
          [
           "Ethash",
           24487944.0958204,
           "24487944"
          ],
          [
           "CryptoNight",
           980222595,
           "1400222610"
          ],
          [
           "Equihash",
           7296537.5,
           "21000000"
          ]
         ],
         "hovertemplate": "<b>%{hovertext}</b><br><br>Class=%{marker.color}<br>PC 1=%{x}<br>PC 2=%{y}<br>PC 3=%{z}<br>Algorithm=%{customdata[0]}<br>TotalCoinsMined=%{customdata[1]}<br>TotalCoinSupply=%{customdata[2]}<extra></extra>",
         "hovertext": [
          "Bitcoin",
          "Ethereum",
          "Litecoin",
          "Monero",
          "Ethereum Classic",
          "ZCash",
          "DigiByte",
          "ProsperCoin",
          "Spreadcoin",
          "Argentum",
          "MyriadCoin",
          "MoonCoin",
          "ZetaCoin",
          "SexCoin",
          "Quatloo",
          "QuarkCoin",
          "Riecoin",
          "Digitalcoin ",
          "Catcoin",
          "CannaCoin",
          "CryptCoin",
          "Verge",
          "DevCoin",
          "EarthCoin",
          "E-Gulden",
          "Einsteinium",
          "Emerald",
          "Franko",
          "FeatherCoin",
          "GrandCoin",
          "GlobalCoin",
          "GoldCoin",
          "Infinite Coin",
          "IXcoin",
          "KrugerCoin",
          "LuckyCoin",
          "Litebar ",
          "MegaCoin",
          "MediterraneanCoin",
          "MinCoin",
          "NobleCoin",
          "Namecoin",
          "NyanCoin",
          "RonPaulCoin",
          "StableCoin",
          "SmartCoin",
          "SysCoin",
          "TigerCoin",
          "TerraCoin",
          "UnbreakableCoin",
          "Unobtanium",
          "UroCoin",
          "ViaCoin",
          "Vertcoin",
          "WorldCoin",
          "JouleCoin",
          "ByteCoin",
          "DigitalNote ",
          "MonaCoin",
          "Gulden",
          "PesetaCoin",
          "Wild Beast Coin",
          "Flo",
          "ArtByte",
          "Folding Coin",
          "Unitus",
          "CypherPunkCoin",
          "OmniCron",
          "GreenCoin",
          "Cryptonite",
          "MasterCoin",
          "SoonCoin",
          "1Credit",
          "MarsCoin ",
          "Crypto",
          "Anarchists Prime",
          "BowsCoin",
          "Song Coin",
          "BitZeny",
          "Expanse",
          "Siacoin",
          "MindCoin",
          "I0coin",
          "Revolution VR",
          "HOdlcoin",
          "Gamecredits",
          "CarpeDiemCoin",
          "Adzcoin",
          "SoilCoin",
          "YoCoin",
          "SibCoin",
          "Francs",
          "BolivarCoin",
          "Omni",
          "PizzaCoin",
          "Komodo",
          "Karbo",
          "ZayedCoin",
          "Circuits of Value",
          "DopeCoin",
          "DollarCoin",
          "Shilling",
          "ZCoin",
          "Elementrem",
          "ZClassic",
          "KiloCoin",
          "ArtexCoin",
          "Kurrent",
          "Cannabis Industry Coin",
          "OsmiumCoin",
          "Bikercoins",
          "HexxCoin",
          "PacCoin",
          "Citadel",
          "BeaverCoin",
          "VaultCoin",
          "Zero",
          "Canada eCoin",
          "Zoin",
          "DubaiCoin",
          "EB3coin",
          "Coinonat",
          "BenjiRolls",
          "ILCoin",
          "EquiTrader",
          "Quantum Resistant Ledger",
          "Dynamic",
          "Nano",
          "ChanCoin",
          "Dinastycoin",
          "DigitalPrice",
          "Unify",
          "SocialCoin",
          "ArcticCoin",
          "DAS",
          "LeviarCoin",
          "Bitcore",
          "gCn Coin",
          "SmartCash",
          "Onix",
          "Bitcoin Cash",
          "Sojourn Coin",
          "NewYorkCoin",
          "FrazCoin",
          "Kronecoin",
          "AdCoin",
          "Linx",
          "Sumokoin",
          "BitcoinZ",
          "Elements",
          "VIVO Coin",
          "Bitcoin Gold",
          "Pirl",
          "eBoost",
          "Pura",
          "Innova",
          "Ellaism",
          "GoByte",
          "SHIELD",
          "UltraNote",
          "BitCoal",
          "DaxxCoin",
          "AC3",
          "Lethean",
          "PopularCoin",
          "Photon",
          "Sucre",
          "SparksPay",
          "GunCoin",
          "IrishCoin",
          "Pioneer Coin",
          "UnitedBitcoin",
          "Interzone",
          "1717 Masonic Commemorative Token",
          "TurtleCoin",
          "MUNcoin",
          "Niobio Cash",
          "ShareChain",
          "Travelflex",
          "KREDS",
          "BitFlip",
          "LottoCoin",
          "Crypto Improvement Fund",
          "Callisto Network",
          "BitTube",
          "Poseidon",
          "Aidos Kuneen",
          "Bitrolium",
          "Alpenschillling",
          "FuturoCoin",
          "Monero Classic",
          "Jumpcoin",
          "Infinex",
          "KEYCO",
          "GINcoin",
          "PlatinCoin",
          "Loki",
          "Newton Coin",
          "MassGrid",
          "PluraCoin",
          "Motion",
          "PlusOneCoin",
          "Axe",
          "HexCoin",
          "Webchain",
          "Ryo",
          "Urals Coin",
          "Qwertycoin",
          "Project Pai",
          "Azart",
          "Xchange",
          "CrypticCoin",
          "Actinium",
          "Bitcoin SV",
          "FREDEnergy",
          "Universal Molecule",
          "Lithium",
          "Exosis",
          "Block-Logic",
          "Beam",
          "Bithereum",
          "SLICE",
          "BLAST",
          "Bitcoin Rhodium",
          "GlobalToken",
          "SolarCoin",
          "UFO Coin",
          "BlakeCoin",
          "Crypto Escudo",
          "Crown Coin",
          "SmileyCoin",
          "Groestlcoin",
          "Bata",
          "Pakcoin",
          "JoinCoin",
          "Vollar",
          "Reality Clash",
          "Beldex",
          "Horizen"
         ],
         "legendgroup": "1",
         "marker": {
          "color": [
           1,
           1,
           1,
           1,
           1,
           1,
           1,
           1,
           1,
           1,
           1,
           1,
           1,
           1,
           1,
           1,
           1,
           1,
           1,
           1,
           1,
           1,
           1,
           1,
           1,
           1,
           1,
           1,
           1,
           1,
           1,
           1,
           1,
           1,
           1,
           1,
           1,
           1,
           1,
           1,
           1,
           1,
           1,
           1,
           1,
           1,
           1,
           1,
           1,
           1,
           1,
           1,
           1,
           1,
           1,
           1,
           1,
           1,
           1,
           1,
           1,
           1,
           1,
           1,
           1,
           1,
           1,
           1,
           1,
           1,
           1,
           1,
           1,
           1,
           1,
           1,
           1,
           1,
           1,
           1,
           1,
           1,
           1,
           1,
           1,
           1,
           1,
           1,
           1,
           1,
           1,
           1,
           1,
           1,
           1,
           1,
           1,
           1,
           1,
           1,
           1,
           1,
           1,
           1,
           1,
           1,
           1,
           1,
           1,
           1,
           1,
           1,
           1,
           1,
           1,
           1,
           1,
           1,
           1,
           1,
           1,
           1,
           1,
           1,
           1,
           1,
           1,
           1,
           1,
           1,
           1,
           1,
           1,
           1,
           1,
           1,
           1,
           1,
           1,
           1,
           1,
           1,
           1,
           1,
           1,
           1,
           1,
           1,
           1,
           1,
           1,
           1,
           1,
           1,
           1,
           1,
           1,
           1,
           1,
           1,
           1,
           1,
           1,
           1,
           1,
           1,
           1,
           1,
           1,
           1,
           1,
           1,
           1,
           1,
           1,
           1,
           1,
           1,
           1,
           1,
           1,
           1,
           1,
           1,
           1,
           1,
           1,
           1,
           1,
           1,
           1,
           1,
           1,
           1,
           1,
           1,
           1,
           1,
           1,
           1,
           1,
           1,
           1,
           1,
           1,
           1,
           1,
           1,
           1,
           1,
           1,
           1,
           1,
           1,
           1,
           1,
           1,
           1,
           1,
           1,
           1,
           1,
           1,
           1,
           1,
           1,
           1,
           1,
           1,
           1,
           1,
           1,
           1,
           1,
           1,
           1,
           1,
           1,
           1
          ],
          "coloraxis": "coloraxis",
          "symbol": "diamond"
         },
         "mode": "markers",
         "name": "1",
         "scene": "scene",
         "showlegend": true,
         "type": "scatter3d",
         "x": [
          -0.14265841405842913,
          -0.1487240159605019,
          -0.17151259513180836,
          -0.15061722855236623,
          -0.1471632867259533,
          -0.15453382274272504,
          0.16442479504072446,
          -0.1726603160173074,
          -0.22221863507695805,
          -0.17227622974292242,
          -0.08933845377730319,
          2.5541200176108263,
          -0.13973965127839827,
          -0.1695278741660278,
          -0.17207985598544054,
          -0.2145069857536431,
          -0.19484831037195516,
          -0.17212898249192107,
          -0.17264256494055744,
          -0.17272915040497241,
          -0.22230807544965206,
          0.18817046737042986,
          0.2356771948354371,
          0.07632113674847588,
          -0.17247515401432667,
          -0.16807457315401358,
          -0.1724143237912508,
          -0.17278621965590862,
          -0.16960438751744722,
          -0.15198013878009498,
          -0.17157981422838722,
          -0.17185751597794385,
          1.5783477620880926,
          -0.1426197462507392,
          -0.16914314518464832,
          -0.1725016270539227,
          -0.17285689379134808,
          -0.17211518782388857,
          -0.14193525515203634,
          -0.1727379942737182,
          -0.03742373201736576,
          -0.14269743160589157,
          -0.16639385537902782,
          -0.17271735037246866,
          -0.17080848551600503,
          -0.17220341884192034,
          -0.1298319653061812,
          -0.14216052792160336,
          -0.1424480395410641,
          -0.14243078183045874,
          -0.1430225323977385,
          -0.22248224462704916,
          -0.17243355458758178,
          -0.1836745082056796,
          -0.16953250086369084,
          -0.1422278995490054,
          3.875495132362723,
          0.4701465833632853,
          -0.1712995683014391,
          -0.1558742459895307,
          -0.1700167862681248,
          -0.1728590976242323,
          -0.16988173356328237,
          -0.156087090607617,
          -0.1261326348191548,
          -0.1233897282085266,
          -0.18550527547718282,
          -0.17273204847206794,
          -0.04548802991067042,
          -0.13662976539865138,
          -0.17286801069732943,
          -0.14272523592273187,
          0.4804648439948106,
          -0.22186864333679784,
          -0.16280387649708714,
          -0.14246465235331002,
          -0.2221538883476398,
          -0.17098873643019696,
          -0.17017996255833487,
          -0.14979240340880734,
          0.3618726346081252,
          -0.22218934898974335,
          -0.14262086968481022,
          -0.16882072754478764,
          -0.1689836176020689,
          -0.1714294815688399,
          0.2763951065387872,
          -0.22134885699151388,
          -0.15130475428708354,
          -0.17167664498825735,
          -0.1595959192011463,
          -0.1726576044496441,
          -0.2221525035017134,
          -0.17286806926661674,
          -0.2223026193419055,
          -0.28142578691913206,
          0.31484225013560013,
          -0.1428812726278428,
          -0.10343583868978781,
          -0.17003086164033684,
          -0.14283985700531765,
          -0.17253097001283263,
          -0.1628675010259591,
          -0.1495342562026656,
          -0.15455546068149958,
          -0.09946398226315191,
          -0.2088701607658064,
          -0.22012746827487867,
          0.3148366737624524,
          -0.1728497770498404,
          0.31496753969896424,
          -0.16334517375854798,
          0.49422558567116714,
          -0.14937964370685744,
          -0.17281802972397733,
          -0.21502388386102075,
          -0.1545678711292441,
          -0.17094892014223287,
          -0.16306321663769083,
          -0.15017239042550465,
          -0.14368995345988084,
          -0.18467822957440835,
          -0.17237979382988367,
          -0.10915913184020766,
          -0.1722014709504167,
          -0.14923771545766742,
          -0.18462333273246134,
          -0.03881519506996,
          -0.14316345114059276,
          0.3510052949472387,
          -0.2213571639931885,
          -0.17252135270668706,
          -0.17228417512536076,
          -0.2217524619884488,
          -0.22233071509931904,
          0.3152322381971132,
          -0.16471096855485293,
          3.241308613407507,
          -0.1365544226929117,
          -0.21318762821950712,
          -0.1426575774680308,
          -0.09830764547664687,
          1.5758392207197809,
          -0.17261929052287292,
          -0.17207002527702678,
          -0.17177061692246218,
          -0.1717575352182598,
          0.31541623173466904,
          0.058087674755338395,
          -0.1766630403135364,
          -0.17429948266680992,
          -0.15441374997275895,
          -0.15006190432635164,
          -0.17094712756636496,
          -0.21786888027073642,
          -0.1741446388058734,
          -0.1478963786143388,
          -0.17424501877775425,
          -0.11360820301828814,
          1.1540910419061294,
          0.31481937655276765,
          -0.07265559168350295,
          -0.21760902304359636,
          -0.13833397604434383,
          -0.08889698695529048,
          1.1081963881790027,
          -0.22230468325787728,
          -0.17429707440797487,
          -0.16732538612495915,
          -0.17186930765245345,
          -0.2222299997055131,
          -0.14263695988268335,
          -0.19786635548094547,
          -0.2592742023523701,
          8.066044492498023,
          -0.14279701170023856,
          0.31869946269313265,
          0.02041799287154185,
          -0.14956497229070387,
          -0.16921259715117873,
          -0.17244372874234887,
          0.13503786671275805,
          -0.21636242940565065,
          -0.10085278435899345,
          0.3227560014874749,
          -0.17268108075737315,
          -0.15235063659079698,
          -0.1534035763669452,
          -0.16064722634898385,
          -0.22139797589738383,
          0.31500210669435086,
          -0.18473790930386944,
          -0.16319016652480606,
          -0.15793798347904936,
          -0.1629520234417023,
          0.31893755198402596,
          0.5868933924083453,
          2.126322187739206,
          -0.14566166967663086,
          0.3286260052761228,
          -0.19208797885814174,
          -0.162817912402733,
          -0.22228681913102685,
          -0.17270567988564225,
          -0.13820931545262097,
          -0.15963249467666848,
          -0.17628320700437783,
          3.1129780375751,
          -0.10243418921482063,
          -0.22225813345756978,
          -0.19151468836633778,
          -0.049013422317248714,
          -0.16234875978310553,
          -0.1426576150698541,
          0.3948869912886286,
          -0.1393516190461359,
          -0.13974449356593777,
          -0.1554852038436136,
          -0.17159632775751904,
          -0.15247055128668333,
          -0.15424634869749423,
          -0.1847148958228241,
          -0.14193280324619426,
          -0.11826935872161957,
          -0.14079903318880538,
          0.5244627594091922,
          -0.09936676902813045,
          -0.09012088504699962,
          -0.15623782256134477,
          -0.14244740938237022,
          0.5439581224194987,
          -0.19440876163326537,
          -0.17278269342667793,
          -0.17073538278880365,
          -0.12412530885041591,
          -0.12146905352025941,
          -0.14956745696553833,
          0.3366057408767153,
          -0.15453488071435748
         ],
         "y": [
          -1.3402525221669572,
          -2.075908211722765,
          -1.0768191668188054,
          -2.2530488749345716,
          -2.076015086256533,
          -1.9871472524775642,
          -1.8978376112710655,
          -1.0768043492765453,
          -0.9553330054570269,
          -1.0768245959766671,
          -1.8910244849407487,
          -1.2754436639944857,
          -1.3402822390955573,
          -1.0768845892161567,
          -1.0768447237702106,
          -0.5427503800423678,
          -1.2403211204478863,
          -1.0768098141777231,
          -1.0768038987789257,
          -1.0768006135230117,
          -0.9553338802466271,
          -1.894134408158127,
          -1.3452846095905744,
          -1.0798877055136629,
          -1.0767996501226393,
          -1.0768824387543556,
          -1.076805779290356,
          -1.076800733612123,
          -1.642472685961562,
          -1.0772558006485267,
          -1.0768111071679534,
          -1.0768197213202788,
          -1.0955487933391914,
          -1.3402515408318194,
          -1.0768855819747278,
          -1.0767996244302538,
          -1.0767956314606286,
          -1.0768051630487012,
          -2.146051573622661,
          -1.0767986476884635,
          -1.0838207038839534,
          -1.3402535123780022,
          -1.076865738273206,
          -1.0768057967290925,
          -1.0769170893497206,
          -1.0768138196089287,
          -1.3405317730429178,
          -1.340258030931339,
          -1.3402618315214623,
          -1.340287900113527,
          -1.3402472890019737,
          -0.9553257446748347,
          -1.0767999894696558,
          -1.3523274909424778,
          -1.0768954632799135,
          -1.3402583372987278,
          -2.3509861807924515,
          -2.315710944639892,
          -1.0768284925662492,
          -1.0775355631717884,
          -1.0768386729079829,
          -1.076796578848599,
          -1.0768307909596848,
          -1.0770666367997752,
          -2.3227341961870414,
          -1.8904935763242545,
          -1.5755753515584079,
          -1.0767938730262023,
          -1.0805376581267536,
          -2.2058950410114155,
          -1.0767954040229757,
          -1.3402542180128632,
          -1.1243880914394184,
          -0.955333191190493,
          -2.2473303654859498,
          -1.3402704562169976,
          -0.9553320598164411,
          -1.0768939296256337,
          -1.0769011383119034,
          -2.0759471188189487,
          -2.2686978389466885,
          -0.9553294720517665,
          -1.340251569343012,
          -1.0768387411678915,
          -2.2803761789247803,
          -1.0768170575122598,
          -1.3446881018217598,
          -0.9553555743419584,
          -2.1717636482791898,
          -1.0768821686898045,
          -2.2825879687221855,
          -1.0768035829194498,
          -0.9553348148361092,
          -1.0767954033958331,
          -0.9553386245671853,
          -1.116548960956987,
          -2.3126839150341683,
          -1.3402503209022412,
          -1.890824223921436,
          -1.0768624772740105,
          -1.3402498992214924,
          -1.0768073445265338,
          -2.2172660636165182,
          -2.075947053937613,
          -1.9871478016183324,
          -1.081907492667674,
          -0.9553290595745555,
          -0.9554250231410885,
          -2.3126917295088654,
          -1.0767964024934413,
          -2.31269119847868,
          -2.2473051876559413,
          -1.0068908257949742,
          -2.2531465118910794,
          -1.076796047202672,
          -0.9558340031425637,
          -1.9871453264130916,
          -1.076816022192673,
          -2.2473057049314797,
          -2.2971677188643023,
          -1.0788446385624537,
          -0.6433710030140697,
          -1.0768073585923303,
          -1.3411315618518511,
          -1.0768282790328314,
          -2.253087106647059,
          -2.2065192645970075,
          -2.2791040993403686,
          -2.1905840703105435,
          -2.3131542544449806,
          -0.9553669458226198,
          -1.0767996205780084,
          -1.0768324705735226,
          -0.955349076284216,
          -0.9553350825965776,
          -2.3127047094964297,
          -2.2427248339288877,
          -1.1296561779432381,
          -1.2002726579290135,
          -0.9558571556585472,
          -1.3402525009354567,
          -1.0822269170908456,
          -1.032415216425021,
          -1.0768026105653181,
          -1.0768333136199928,
          -1.0768368757132258,
          -1.0768365437177816,
          -2.312724376436234,
          -1.9963849333889188,
          -0.955418491354324,
          -1.6423763006849728,
          -1.9871442051977941,
          -2.17182021063746,
          -1.076815976699593,
          -0.9554528033577756,
          -1.642384926706398,
          -2.076082518998042,
          -1.642378266665434,
          -1.8907057120764583,
          -2.350668982466759,
          -2.3126862393870686,
          -2.080953113821056,
          -0.9555857167995663,
          -2.253434322701718,
          -1.0781516106214546,
          -1.316423953865802,
          -0.9553350497318301,
          -1.6423720543190201,
          -1.642529244848735,
          -1.0768142688604108,
          -0.9553353864993289,
          -1.3402513959404085,
          -1.2348861060357776,
          -0.2076893896339401,
          -2.813503498290491,
          -2.246156507781661,
          -2.3128134228064825,
          -1.0788650550039365,
          -2.171768322923527,
          -1.3526691697127338,
          -1.0768121058773463,
          -1.0818203776469253,
          -0.9555192029240549,
          -2.0792273248340876,
          -2.313173640909866,
          -1.0768048762567457,
          -2.2499494226923704,
          -1.987152747920598,
          -2.217404051136972,
          -0.9553679815719416,
          -2.3126857174439865,
          -0.6433535082075017,
          -2.2473126097608835,
          -2.2148022901470026,
          -2.2172606054778017,
          -2.3129915316916083,
          -2.2046649176916153,
          -2.395051696222049,
          -2.208566289711301,
          -2.31302466838424,
          -1.3681516542112768,
          -2.3397537165963227,
          -0.9553354334146952,
          -1.076806271514952,
          -2.2539546766153515,
          -2.2597739906012126,
          -0.6490301571134266,
          -2.2691272146917916,
          -1.3406818756555132,
          -0.9553374955773613,
          -1.3681914603127319,
          -1.989755956970627,
          -2.2172965647701064,
          -1.3402525018897387,
          -2.316281649069436,
          -2.2721228797997832,
          -2.2720771229971297,
          -2.197352745455991,
          -1.0768464033224663,
          -1.987263555002033,
          -1.9871468526795553,
          -1.5756250469511772,
          -1.3402641014496792,
          -0.3545354590812141,
          -1.3403078722371204,
          -1.1275264874112196,
          -1.6432459442283,
          -2.2756829357332258,
          -1.0770704621669547,
          -1.340261815528912,
          -1.0934799865413916,
          -1.240324613679646,
          -1.076796294384335,
          -1.0768678012970407,
          -1.8905141974526734,
          -2.2652079961860383,
          -2.0759466984333432,
          -2.3131013255944883,
          -1.987147279327412
         ],
         "z": [
          0.14371309051018064,
          0.31235733962826645,
          0.021343898321917364,
          0.3796876573257194,
          0.3123270878952513,
          0.30427139400000935,
          0.3029043333560545,
          0.021376678257550637,
          0.04111903868124977,
          0.021368233481593744,
          0.30956785304858997,
          -0.029508458713380932,
          0.14362841239795981,
          0.021293786371286996,
          0.021365530576808456,
          -0.02850890742938958,
          0.14268236475549168,
          0.021361272516603164,
          0.021376059011644234,
          0.021378173986603303,
          0.04112192838498026,
          0.3015638540578404,
          0.13293186908327215,
          0.01424389251457959,
          0.021370218885311053,
          0.021248824628264856,
          0.021369364143308662,
          0.021379945463185526,
          0.20848731849985846,
          0.020816500908498403,
          0.021344630307170733,
          0.021354576655275175,
          -0.029271518310469556,
          0.14371174158460284,
          0.021282141752468592,
          0.021371027185879195,
          0.021381271976235225,
          0.02136008090005394,
          0.42802104139850106,
          0.021378120742810744,
          0.018384695879252635,
          0.14371445163644084,
          0.02119447953826786,
          0.021378667899725933,
          0.02133846046894597,
          0.0213642187765761,
          0.1433655279133084,
          0.14369871862366315,
          0.14370817102702718,
          0.14371194700306616,
          0.1437234021457687,
          0.041125930478124156,
          0.021368998111885685,
          0.1546981313871758,
          0.021295724416428324,
          0.14370083708087608,
          0.23556355868937812,
          0.3342585293281222,
          0.02133890013815636,
          0.020982231326600563,
          0.021301208821903554,
          0.021381496096313322,
          0.02129576177513435,
          0.020911313053666992,
          0.40638788345248206,
          0.3105253093532357,
          0.2847324594533511,
          0.02137714963000536,
          0.018089964663843605,
          0.3810352619792577,
          0.02138157562521298,
          0.14371542158939798,
          0.00918939731841049,
          0.04110832696796151,
          0.3956570413696195,
          0.1437101054437587,
          0.04111689520389071,
          0.021340167736056743,
          0.021316534459940778,
          0.31239655809970474,
          0.44729062018048704,
          0.041117556193516334,
          0.14371178077557484,
          0.021264509145072295,
          0.3824215232647663,
          0.02134099890715648,
          0.13158357989235567,
          0.04109606998463557,
          0.32886913556649755,
          0.021359339379207636,
          0.3724471251292407,
          0.021376468453762155,
          0.041117307736822414,
          0.021381577319312322,
          0.041122544524474586,
          0.1911092041343026,
          0.3385253614233836,
          0.1437195671916945,
          0.3099674713488018,
          0.02130557253719589,
          0.1437182263631357,
          0.021373202922455935,
          0.36025392994522415,
          0.3123886240020282,
          0.30427214883900877,
          0.019972914527335177,
          0.04070867865020678,
          0.041070052224200806,
          0.3385268232739718,
          0.021381180889369106,
          0.33852271886201973,
          0.3956694970045463,
          0.02764467546793409,
          0.3796657982070146,
          0.021380147777867037,
          0.040980956545960165,
          0.3042721209339443,
          0.021326077905780408,
          0.3956609282558868,
          0.3117650259781276,
          0.02082447164556808,
          -0.05451509637484041,
          0.02136856515454064,
          0.14283007642050738,
          0.0213665472093277,
          0.37965163017827913,
          0.37252082899780364,
          0.46130781016387196,
          0.27149636101119934,
          0.3374930839491831,
          0.041098203147200425,
          0.021371631994365217,
          0.02136977797501705,
          0.04110738467622141,
          0.04112282185837257,
          0.3385168259745302,
          0.554267644172473,
          -0.07467980668157496,
          0.09400239260872746,
          0.04092841989115746,
          0.14371306132575296,
          0.019990181151281292,
          -0.039622107523806786,
          0.02137513187330292,
          0.021363344259768643,
          0.021354742779168358,
          0.021354286424216086,
          0.3385144269413174,
          0.29927110555957503,
          0.03973490804612412,
          0.20861550664568262,
          0.3042672052641748,
          0.32884033067535134,
          0.021326015371812484,
          0.041005317152462833,
          0.2086121787157617,
          0.31236072654589986,
          0.20861415968605923,
          0.31026012020697513,
          0.31903995347737135,
          0.33852644739482896,
          0.3108558025129048,
          0.0410192942015566,
          0.3793743074205071,
          0.019028231074549116,
          0.07921279928862686,
          0.04112201742791068,
          0.20861473136875275,
          0.2084267101616644,
          0.021354038013773544,
          0.04111978076849462,
          0.14371224599594198,
          0.15547470464906632,
          -0.008323598742517363,
          0.18333450894585107,
          0.4234820225841303,
          0.33842836137642895,
          0.015790834566228557,
          0.3288165080682212,
          0.15431068213635765,
          0.021371311620855905,
          0.012760897867293688,
          0.040970046270374184,
          0.3114362230904727,
          0.33836334909292,
          0.021377402635032936,
          0.41029753406546937,
          0.3042376107108542,
          0.3602085734462818,
          0.041099626869545144,
          0.33852075260181314,
          -0.05451615417390781,
          0.39566596521288655,
          0.4662895113678807,
          0.36025562270990713,
          0.33845047135116646,
          0.33040629436293545,
          0.2965295626354678,
          0.36610890810257124,
          0.3381585741449886,
          0.22904051895612912,
          0.3999657124845041,
          0.041121532491229185,
          0.021378388113308423,
          0.379456426483029,
          0.3698593956699943,
          0.2574894572568385,
          0.26351954626145613,
          0.142549392625767,
          0.041120992635417235,
          0.22902949745235682,
          0.3014634999929119,
          0.36024304586569855,
          0.1437130626374917,
          0.3366627537164137,
          0.44008860730185045,
          0.4400931083902521,
          0.4375839462679966,
          0.021350966921886576,
          0.30422727479693534,
          0.3042625044486087,
          0.2847164081584433,
          0.14369273165854027,
          -0.06980981307995386,
          0.14366516204052587,
          0.008357317002189238,
          0.2064592132024245,
          0.4391655589995188,
          0.020916571334425843,
          0.1437081490439556,
          0.00213558162331185,
          0.14266945053485877,
          0.02137910401767652,
          0.02132807594672247,
          0.3105512926573818,
          0.3174705398477257,
          0.3123895843243661,
          0.337926311223162,
          0.3042714309073257
         ]
        },
        {
         "customdata": [
          [
           "VeChainThor Authority",
           55454734800,
           "86712634466"
          ],
          [
           "SHA-256 + Hive",
           638382332.208514,
           "840000000"
          ],
          [
           "Proof-of-Authority",
           204479039,
           "252460800"
          ],
          [
           "ECC 256K1",
           1000000000,
           "1000000000"
          ],
          [
           "Leased POS",
           100000000,
           "100000000"
          ]
         ],
         "hovertemplate": "<b>%{hovertext}</b><br><br>Class=%{marker.color}<br>PC 1=%{x}<br>PC 2=%{y}<br>PC 3=%{z}<br>Algorithm=%{customdata[0]}<br>TotalCoinsMined=%{customdata[1]}<br>TotalCoinSupply=%{customdata[2]}<extra></extra>",
         "hovertext": [
          "Vechain",
          "LitecoinCash",
          "Poa Network",
          "Acute Angle Cloud",
          "Waves"
         ],
         "legendgroup": "3",
         "marker": {
          "color": [
           3,
           3,
           3,
           3,
           3
          ],
          "coloraxis": "coloraxis",
          "symbol": "square"
         },
         "mode": "markers",
         "name": "3",
         "scene": "scene",
         "showlegend": true,
         "type": "scatter3d",
         "x": [
          4.392354990122775,
          -0.3666276706276858,
          -0.3773559175161509,
          -0.346873669677293,
          -0.37797007978704683
         ],
         "y": [
          2.2372595520013254,
          3.6514312949883356,
          4.003215428392686,
          3.1754182482814146,
          2.0175686819359737
         ],
         "z": [
          9.979733075239942,
          15.65993233794723,
          9.778713553117248,
          20.20764851944154,
          12.099242594544444
         ]
        },
        {
         "customdata": [
          [
           "TRC10",
           989988713439.649,
           "990000000000"
          ]
         ],
         "hovertemplate": "<b>%{hovertext}</b><br><br>Class=%{marker.color}<br>PC 1=%{x}<br>PC 2=%{y}<br>PC 3=%{z}<br>Algorithm=%{customdata[0]}<br>TotalCoinsMined=%{customdata[1]}<br>TotalCoinSupply=%{customdata[2]}<extra></extra>",
         "hovertext": [
          "BitTorrent"
         ],
         "legendgroup": "2",
         "marker": {
          "color": [
           2
          ],
          "coloraxis": "coloraxis",
          "symbol": "x"
         },
         "mode": "markers",
         "name": "2",
         "scene": "scene",
         "showlegend": true,
         "type": "scatter3d",
         "x": [
          34.08217209437112
         ],
         "y": [
          1.5693738982548449
         ],
         "z": [
          -1.3368578447576918
         ]
        }
       ],
       "layout": {
        "coloraxis": {
         "colorbar": {
          "title": {
           "text": "Class"
          }
         },
         "colorscale": [
          [
           0,
           "#0d0887"
          ],
          [
           0.1111111111111111,
           "#46039f"
          ],
          [
           0.2222222222222222,
           "#7201a8"
          ],
          [
           0.3333333333333333,
           "#9c179e"
          ],
          [
           0.4444444444444444,
           "#bd3786"
          ],
          [
           0.5555555555555556,
           "#d8576b"
          ],
          [
           0.6666666666666666,
           "#ed7953"
          ],
          [
           0.7777777777777778,
           "#fb9f3a"
          ],
          [
           0.8888888888888888,
           "#fdca26"
          ],
          [
           1,
           "#f0f921"
          ]
         ]
        },
        "legend": {
         "title": {
          "text": "Class"
         },
         "tracegroupgap": 0,
         "x": 0,
         "y": 1
        },
        "margin": {
         "t": 60
        },
        "scene": {
         "domain": {
          "x": [
           0,
           1
          ],
          "y": [
           0,
           1
          ]
         },
         "xaxis": {
          "title": {
           "text": "PC 1"
          }
         },
         "yaxis": {
          "title": {
           "text": "PC 2"
          }
         },
         "zaxis": {
          "title": {
           "text": "PC 3"
          }
         }
        },
        "template": {
         "data": {
          "bar": [
           {
            "error_x": {
             "color": "#2a3f5f"
            },
            "error_y": {
             "color": "#2a3f5f"
            },
            "marker": {
             "line": {
              "color": "#E5ECF6",
              "width": 0.5
             },
             "pattern": {
              "fillmode": "overlay",
              "size": 10,
              "solidity": 0.2
             }
            },
            "type": "bar"
           }
          ],
          "barpolar": [
           {
            "marker": {
             "line": {
              "color": "#E5ECF6",
              "width": 0.5
             },
             "pattern": {
              "fillmode": "overlay",
              "size": 10,
              "solidity": 0.2
             }
            },
            "type": "barpolar"
           }
          ],
          "carpet": [
           {
            "aaxis": {
             "endlinecolor": "#2a3f5f",
             "gridcolor": "white",
             "linecolor": "white",
             "minorgridcolor": "white",
             "startlinecolor": "#2a3f5f"
            },
            "baxis": {
             "endlinecolor": "#2a3f5f",
             "gridcolor": "white",
             "linecolor": "white",
             "minorgridcolor": "white",
             "startlinecolor": "#2a3f5f"
            },
            "type": "carpet"
           }
          ],
          "choropleth": [
           {
            "colorbar": {
             "outlinewidth": 0,
             "ticks": ""
            },
            "type": "choropleth"
           }
          ],
          "contour": [
           {
            "colorbar": {
             "outlinewidth": 0,
             "ticks": ""
            },
            "colorscale": [
             [
              0,
              "#0d0887"
             ],
             [
              0.1111111111111111,
              "#46039f"
             ],
             [
              0.2222222222222222,
              "#7201a8"
             ],
             [
              0.3333333333333333,
              "#9c179e"
             ],
             [
              0.4444444444444444,
              "#bd3786"
             ],
             [
              0.5555555555555556,
              "#d8576b"
             ],
             [
              0.6666666666666666,
              "#ed7953"
             ],
             [
              0.7777777777777778,
              "#fb9f3a"
             ],
             [
              0.8888888888888888,
              "#fdca26"
             ],
             [
              1,
              "#f0f921"
             ]
            ],
            "type": "contour"
           }
          ],
          "contourcarpet": [
           {
            "colorbar": {
             "outlinewidth": 0,
             "ticks": ""
            },
            "type": "contourcarpet"
           }
          ],
          "heatmap": [
           {
            "colorbar": {
             "outlinewidth": 0,
             "ticks": ""
            },
            "colorscale": [
             [
              0,
              "#0d0887"
             ],
             [
              0.1111111111111111,
              "#46039f"
             ],
             [
              0.2222222222222222,
              "#7201a8"
             ],
             [
              0.3333333333333333,
              "#9c179e"
             ],
             [
              0.4444444444444444,
              "#bd3786"
             ],
             [
              0.5555555555555556,
              "#d8576b"
             ],
             [
              0.6666666666666666,
              "#ed7953"
             ],
             [
              0.7777777777777778,
              "#fb9f3a"
             ],
             [
              0.8888888888888888,
              "#fdca26"
             ],
             [
              1,
              "#f0f921"
             ]
            ],
            "type": "heatmap"
           }
          ],
          "heatmapgl": [
           {
            "colorbar": {
             "outlinewidth": 0,
             "ticks": ""
            },
            "colorscale": [
             [
              0,
              "#0d0887"
             ],
             [
              0.1111111111111111,
              "#46039f"
             ],
             [
              0.2222222222222222,
              "#7201a8"
             ],
             [
              0.3333333333333333,
              "#9c179e"
             ],
             [
              0.4444444444444444,
              "#bd3786"
             ],
             [
              0.5555555555555556,
              "#d8576b"
             ],
             [
              0.6666666666666666,
              "#ed7953"
             ],
             [
              0.7777777777777778,
              "#fb9f3a"
             ],
             [
              0.8888888888888888,
              "#fdca26"
             ],
             [
              1,
              "#f0f921"
             ]
            ],
            "type": "heatmapgl"
           }
          ],
          "histogram": [
           {
            "marker": {
             "pattern": {
              "fillmode": "overlay",
              "size": 10,
              "solidity": 0.2
             }
            },
            "type": "histogram"
           }
          ],
          "histogram2d": [
           {
            "colorbar": {
             "outlinewidth": 0,
             "ticks": ""
            },
            "colorscale": [
             [
              0,
              "#0d0887"
             ],
             [
              0.1111111111111111,
              "#46039f"
             ],
             [
              0.2222222222222222,
              "#7201a8"
             ],
             [
              0.3333333333333333,
              "#9c179e"
             ],
             [
              0.4444444444444444,
              "#bd3786"
             ],
             [
              0.5555555555555556,
              "#d8576b"
             ],
             [
              0.6666666666666666,
              "#ed7953"
             ],
             [
              0.7777777777777778,
              "#fb9f3a"
             ],
             [
              0.8888888888888888,
              "#fdca26"
             ],
             [
              1,
              "#f0f921"
             ]
            ],
            "type": "histogram2d"
           }
          ],
          "histogram2dcontour": [
           {
            "colorbar": {
             "outlinewidth": 0,
             "ticks": ""
            },
            "colorscale": [
             [
              0,
              "#0d0887"
             ],
             [
              0.1111111111111111,
              "#46039f"
             ],
             [
              0.2222222222222222,
              "#7201a8"
             ],
             [
              0.3333333333333333,
              "#9c179e"
             ],
             [
              0.4444444444444444,
              "#bd3786"
             ],
             [
              0.5555555555555556,
              "#d8576b"
             ],
             [
              0.6666666666666666,
              "#ed7953"
             ],
             [
              0.7777777777777778,
              "#fb9f3a"
             ],
             [
              0.8888888888888888,
              "#fdca26"
             ],
             [
              1,
              "#f0f921"
             ]
            ],
            "type": "histogram2dcontour"
           }
          ],
          "mesh3d": [
           {
            "colorbar": {
             "outlinewidth": 0,
             "ticks": ""
            },
            "type": "mesh3d"
           }
          ],
          "parcoords": [
           {
            "line": {
             "colorbar": {
              "outlinewidth": 0,
              "ticks": ""
             }
            },
            "type": "parcoords"
           }
          ],
          "pie": [
           {
            "automargin": true,
            "type": "pie"
           }
          ],
          "scatter": [
           {
            "fillpattern": {
             "fillmode": "overlay",
             "size": 10,
             "solidity": 0.2
            },
            "type": "scatter"
           }
          ],
          "scatter3d": [
           {
            "line": {
             "colorbar": {
              "outlinewidth": 0,
              "ticks": ""
             }
            },
            "marker": {
             "colorbar": {
              "outlinewidth": 0,
              "ticks": ""
             }
            },
            "type": "scatter3d"
           }
          ],
          "scattercarpet": [
           {
            "marker": {
             "colorbar": {
              "outlinewidth": 0,
              "ticks": ""
             }
            },
            "type": "scattercarpet"
           }
          ],
          "scattergeo": [
           {
            "marker": {
             "colorbar": {
              "outlinewidth": 0,
              "ticks": ""
             }
            },
            "type": "scattergeo"
           }
          ],
          "scattergl": [
           {
            "marker": {
             "colorbar": {
              "outlinewidth": 0,
              "ticks": ""
             }
            },
            "type": "scattergl"
           }
          ],
          "scattermapbox": [
           {
            "marker": {
             "colorbar": {
              "outlinewidth": 0,
              "ticks": ""
             }
            },
            "type": "scattermapbox"
           }
          ],
          "scatterpolar": [
           {
            "marker": {
             "colorbar": {
              "outlinewidth": 0,
              "ticks": ""
             }
            },
            "type": "scatterpolar"
           }
          ],
          "scatterpolargl": [
           {
            "marker": {
             "colorbar": {
              "outlinewidth": 0,
              "ticks": ""
             }
            },
            "type": "scatterpolargl"
           }
          ],
          "scatterternary": [
           {
            "marker": {
             "colorbar": {
              "outlinewidth": 0,
              "ticks": ""
             }
            },
            "type": "scatterternary"
           }
          ],
          "surface": [
           {
            "colorbar": {
             "outlinewidth": 0,
             "ticks": ""
            },
            "colorscale": [
             [
              0,
              "#0d0887"
             ],
             [
              0.1111111111111111,
              "#46039f"
             ],
             [
              0.2222222222222222,
              "#7201a8"
             ],
             [
              0.3333333333333333,
              "#9c179e"
             ],
             [
              0.4444444444444444,
              "#bd3786"
             ],
             [
              0.5555555555555556,
              "#d8576b"
             ],
             [
              0.6666666666666666,
              "#ed7953"
             ],
             [
              0.7777777777777778,
              "#fb9f3a"
             ],
             [
              0.8888888888888888,
              "#fdca26"
             ],
             [
              1,
              "#f0f921"
             ]
            ],
            "type": "surface"
           }
          ],
          "table": [
           {
            "cells": {
             "fill": {
              "color": "#EBF0F8"
             },
             "line": {
              "color": "white"
             }
            },
            "header": {
             "fill": {
              "color": "#C8D4E3"
             },
             "line": {
              "color": "white"
             }
            },
            "type": "table"
           }
          ]
         },
         "layout": {
          "annotationdefaults": {
           "arrowcolor": "#2a3f5f",
           "arrowhead": 0,
           "arrowwidth": 1
          },
          "autotypenumbers": "strict",
          "coloraxis": {
           "colorbar": {
            "outlinewidth": 0,
            "ticks": ""
           }
          },
          "colorscale": {
           "diverging": [
            [
             0,
             "#8e0152"
            ],
            [
             0.1,
             "#c51b7d"
            ],
            [
             0.2,
             "#de77ae"
            ],
            [
             0.3,
             "#f1b6da"
            ],
            [
             0.4,
             "#fde0ef"
            ],
            [
             0.5,
             "#f7f7f7"
            ],
            [
             0.6,
             "#e6f5d0"
            ],
            [
             0.7,
             "#b8e186"
            ],
            [
             0.8,
             "#7fbc41"
            ],
            [
             0.9,
             "#4d9221"
            ],
            [
             1,
             "#276419"
            ]
           ],
           "sequential": [
            [
             0,
             "#0d0887"
            ],
            [
             0.1111111111111111,
             "#46039f"
            ],
            [
             0.2222222222222222,
             "#7201a8"
            ],
            [
             0.3333333333333333,
             "#9c179e"
            ],
            [
             0.4444444444444444,
             "#bd3786"
            ],
            [
             0.5555555555555556,
             "#d8576b"
            ],
            [
             0.6666666666666666,
             "#ed7953"
            ],
            [
             0.7777777777777778,
             "#fb9f3a"
            ],
            [
             0.8888888888888888,
             "#fdca26"
            ],
            [
             1,
             "#f0f921"
            ]
           ],
           "sequentialminus": [
            [
             0,
             "#0d0887"
            ],
            [
             0.1111111111111111,
             "#46039f"
            ],
            [
             0.2222222222222222,
             "#7201a8"
            ],
            [
             0.3333333333333333,
             "#9c179e"
            ],
            [
             0.4444444444444444,
             "#bd3786"
            ],
            [
             0.5555555555555556,
             "#d8576b"
            ],
            [
             0.6666666666666666,
             "#ed7953"
            ],
            [
             0.7777777777777778,
             "#fb9f3a"
            ],
            [
             0.8888888888888888,
             "#fdca26"
            ],
            [
             1,
             "#f0f921"
            ]
           ]
          },
          "colorway": [
           "#636efa",
           "#EF553B",
           "#00cc96",
           "#ab63fa",
           "#FFA15A",
           "#19d3f3",
           "#FF6692",
           "#B6E880",
           "#FF97FF",
           "#FECB52"
          ],
          "font": {
           "color": "#2a3f5f"
          },
          "geo": {
           "bgcolor": "white",
           "lakecolor": "white",
           "landcolor": "#E5ECF6",
           "showlakes": true,
           "showland": true,
           "subunitcolor": "white"
          },
          "hoverlabel": {
           "align": "left"
          },
          "hovermode": "closest",
          "mapbox": {
           "style": "light"
          },
          "paper_bgcolor": "white",
          "plot_bgcolor": "#E5ECF6",
          "polar": {
           "angularaxis": {
            "gridcolor": "white",
            "linecolor": "white",
            "ticks": ""
           },
           "bgcolor": "#E5ECF6",
           "radialaxis": {
            "gridcolor": "white",
            "linecolor": "white",
            "ticks": ""
           }
          },
          "scene": {
           "xaxis": {
            "backgroundcolor": "#E5ECF6",
            "gridcolor": "white",
            "gridwidth": 2,
            "linecolor": "white",
            "showbackground": true,
            "ticks": "",
            "zerolinecolor": "white"
           },
           "yaxis": {
            "backgroundcolor": "#E5ECF6",
            "gridcolor": "white",
            "gridwidth": 2,
            "linecolor": "white",
            "showbackground": true,
            "ticks": "",
            "zerolinecolor": "white"
           },
           "zaxis": {
            "backgroundcolor": "#E5ECF6",
            "gridcolor": "white",
            "gridwidth": 2,
            "linecolor": "white",
            "showbackground": true,
            "ticks": "",
            "zerolinecolor": "white"
           }
          },
          "shapedefaults": {
           "line": {
            "color": "#2a3f5f"
           }
          },
          "ternary": {
           "aaxis": {
            "gridcolor": "white",
            "linecolor": "white",
            "ticks": ""
           },
           "baxis": {
            "gridcolor": "white",
            "linecolor": "white",
            "ticks": ""
           },
           "bgcolor": "#E5ECF6",
           "caxis": {
            "gridcolor": "white",
            "linecolor": "white",
            "ticks": ""
           }
          },
          "title": {
           "x": 0.05
          },
          "xaxis": {
           "automargin": true,
           "gridcolor": "white",
           "linecolor": "white",
           "ticks": "",
           "title": {
            "standoff": 15
           },
           "zerolinecolor": "white",
           "zerolinewidth": 2
          },
          "yaxis": {
           "automargin": true,
           "gridcolor": "white",
           "linecolor": "white",
           "ticks": "",
           "title": {
            "standoff": 15
           },
           "zerolinecolor": "white",
           "zerolinewidth": 2
          }
         }
        }
       }
      }
     },
     "metadata": {},
     "output_type": "display_data"
    }
   ],
   "source": [
    "# Creating a 3D-Scatter with the PCA data and the clusters\n",
    "fig = px.scatter_3d(\n",
    "    clustered_df, \n",
    "    x=\"PC 1\", \n",
    "    y=\"PC 2\", \n",
    "    z=\"PC 3\", \n",
    "    color=\"Class\", \n",
    "    symbol=\"Class\", \n",
    "    hover_name=\"CoinName\", \n",
    "    hover_data=[\"Algorithm\", \"TotalCoinsMined\", \"TotalCoinSupply\"])\n",
    "fig.update_layout(legend=dict(x=0, y=1))\n",
    "fig.show()"
   ]
  },
  {
   "cell_type": "code",
   "execution_count": 274,
   "metadata": {},
   "outputs": [
    {
     "data": {},
     "metadata": {},
     "output_type": "display_data"
    },
    {
     "data": {
      "application/vnd.holoviews_exec.v0+json": "",
      "text/html": [
       "<div id='1418'>\n",
       "\n",
       "\n",
       "\n",
       "\n",
       "\n",
       "  <div class=\"bk-root\" id=\"a2be54e7-e19d-4347-903d-8a889cd43e16\" data-root-id=\"1418\"></div>\n",
       "</div>\n",
       "<script type=\"application/javascript\">(function(root) {\n",
       "  function embed_document(root) {\n",
       "    var docs_json = {\"19302a44-cfd8-45d8-b233-ecb967f56b25\":{\"defs\":[{\"extends\":null,\"module\":null,\"name\":\"ReactiveHTML1\",\"overrides\":[],\"properties\":[]},{\"extends\":null,\"module\":null,\"name\":\"FlexBox1\",\"overrides\":[],\"properties\":[{\"default\":\"flex-start\",\"kind\":null,\"name\":\"align_content\"},{\"default\":\"flex-start\",\"kind\":null,\"name\":\"align_items\"},{\"default\":\"row\",\"kind\":null,\"name\":\"flex_direction\"},{\"default\":\"wrap\",\"kind\":null,\"name\":\"flex_wrap\"},{\"default\":\"flex-start\",\"kind\":null,\"name\":\"justify_content\"}]},{\"extends\":null,\"module\":null,\"name\":\"GridStack1\",\"overrides\":[],\"properties\":[{\"default\":\"warn\",\"kind\":null,\"name\":\"mode\"},{\"default\":null,\"kind\":null,\"name\":\"ncols\"},{\"default\":null,\"kind\":null,\"name\":\"nrows\"},{\"default\":true,\"kind\":null,\"name\":\"allow_resize\"},{\"default\":true,\"kind\":null,\"name\":\"allow_drag\"},{\"default\":[],\"kind\":null,\"name\":\"state\"}]},{\"extends\":null,\"module\":null,\"name\":\"click1\",\"overrides\":[],\"properties\":[{\"default\":\"\",\"kind\":null,\"name\":\"terminal_output\"},{\"default\":\"\",\"kind\":null,\"name\":\"debug_name\"},{\"default\":0,\"kind\":null,\"name\":\"clears\"}]},{\"extends\":null,\"module\":null,\"name\":\"TemplateActions1\",\"overrides\":[],\"properties\":[{\"default\":0,\"kind\":null,\"name\":\"open_modal\"},{\"default\":0,\"kind\":null,\"name\":\"close_modal\"}]},{\"extends\":null,\"module\":null,\"name\":\"MaterialTemplateActions1\",\"overrides\":[],\"properties\":[{\"default\":0,\"kind\":null,\"name\":\"open_modal\"},{\"default\":0,\"kind\":null,\"name\":\"close_modal\"}]}],\"roots\":{\"references\":[{\"attributes\":{},\"id\":\"1443\",\"type\":\"StringEditor\"},{\"attributes\":{},\"id\":\"1428\",\"type\":\"StringEditor\"},{\"attributes\":{},\"id\":\"1447\",\"type\":\"NumberFormatter\"},{\"attributes\":{},\"id\":\"1455\",\"type\":\"UnionRenderers\"},{\"attributes\":{\"margin\":[5,5,5,5],\"name\":\"HSpacer02534\",\"sizing_mode\":\"stretch_width\"},\"id\":\"1419\",\"type\":\"Spacer\"},{\"attributes\":{\"editor\":{\"id\":\"1443\"},\"field\":\"TotalCoinSupply\",\"formatter\":{\"id\":\"1442\"},\"title\":\"TotalCoinSupply\"},\"id\":\"1444\",\"type\":\"TableColumn\"},{\"attributes\":{\"source\":{\"id\":\"1420\"}},\"id\":\"1454\",\"type\":\"CDSView\"},{\"attributes\":{\"editor\":{\"id\":\"1448\"},\"field\":\"Class\",\"formatter\":{\"id\":\"1447\"},\"title\":\"Class\"},\"id\":\"1449\",\"type\":\"TableColumn\"},{\"attributes\":{},\"id\":\"1433\",\"type\":\"StringEditor\"},{\"attributes\":{},\"id\":\"1421\",\"type\":\"Selection\"},{\"attributes\":{},\"id\":\"1438\",\"type\":\"NumberEditor\"},{\"attributes\":{\"columns\":[{\"id\":\"1424\"},{\"id\":\"1429\"},{\"id\":\"1434\"},{\"id\":\"1439\"},{\"id\":\"1444\"},{\"id\":\"1449\"}],\"height\":300,\"reorderable\":false,\"source\":{\"id\":\"1420\"},\"view\":{\"id\":\"1454\"},\"width\":700},\"id\":\"1452\",\"type\":\"DataTable\"},{\"attributes\":{\"editor\":{\"id\":\"1428\"},\"field\":\"Algorithm\",\"formatter\":{\"id\":\"1427\"},\"title\":\"Algorithm\"},\"id\":\"1429\",\"type\":\"TableColumn\"},{\"attributes\":{\"children\":[{\"id\":\"1419\"},{\"id\":\"1452\"},{\"id\":\"1459\"}],\"margin\":[0,0,0,0],\"name\":\"Row02530\",\"tags\":[\"embedded\"]},\"id\":\"1418\",\"type\":\"Row\"},{\"attributes\":{},\"id\":\"1448\",\"type\":\"IntEditor\"},{\"attributes\":{},\"id\":\"1422\",\"type\":\"StringFormatter\"},{\"attributes\":{},\"id\":\"1432\",\"type\":\"StringFormatter\"},{\"attributes\":{\"margin\":[5,5,5,5],\"name\":\"HSpacer02535\",\"sizing_mode\":\"stretch_width\"},\"id\":\"1459\",\"type\":\"Spacer\"},{\"attributes\":{\"data\":{\"Algorithm\":[\"Scrypt\",\"Scrypt\",\"X13\",\"SHA-256\",\"Ethash\",\"Scrypt\",\"X11\",\"CryptoNight-V7\",\"Ethash\",\"Equihash\",\"SHA-512\",\"Multiple\",\"SHA-256\",\"SHA-256\",\"Scrypt\",\"X15\",\"X11\",\"Scrypt\",\"Scrypt\",\"Scrypt\",\"Multiple\",\"Scrypt\",\"SHA-256\",\"Scrypt\",\"Scrypt\",\"Scrypt\",\"Quark\",\"Groestl\",\"Scrypt\",\"Scrypt\",\"Scrypt\",\"Scrypt\",\"Scrypt\",\"X11\",\"Scrypt\",\"Groestl\",\"Multiple\",\"SHA-256\",\"Scrypt\",\"Scrypt\",\"Scrypt\",\"Scrypt\",\"PoS\",\"Scrypt\",\"Scrypt\",\"NeoScrypt\",\"Scrypt\",\"Scrypt\",\"Scrypt\",\"Scrypt\",\"X11\",\"Scrypt\",\"X11\",\"SHA-256\",\"Scrypt\",\"Scrypt\",\"Scrypt\",\"SHA3\",\"Scrypt\",\"HybridScryptHash256\",\"Scrypt\",\"Scrypt\",\"SHA-256\",\"Scrypt\",\"X13\",\"Scrypt\",\"SHA-256\",\"Scrypt\",\"X13\",\"NeoScrypt\",\"Scrypt\",\"Scrypt\",\"Scrypt\",\"Scrypt\",\"Scrypt\",\"Scrypt\",\"X11\",\"X11\",\"SHA-256\",\"Multiple\",\"SHA-256\",\"PHI1612\",\"X11\",\"SHA-256\",\"SHA-256\",\"SHA-256\",\"X11\",\"Scrypt\",\"Scrypt\",\"Scrypt\",\"Scrypt\",\"Lyra2REv2\",\"Scrypt\",\"X11\",\"Multiple\",\"SHA-256\",\"X13\",\"Scrypt\",\"CryptoNight\",\"CryptoNight\",\"Shabal256\",\"Counterparty\",\"Scrypt\",\"SHA-256\",\"Groestl\",\"Scrypt\",\"Scrypt\",\"Scrypt\",\"X13\",\"Scrypt\",\"Scrypt\",\"Scrypt\",\"Scrypt\",\"X13\",\"Scrypt\",\"Stanford Folding\",\"X11\",\"Multiple\",\"QuBit\",\"Scrypt\",\"Scrypt\",\"Scrypt\",\"M7 POW\",\"Scrypt\",\"SHA-256\",\"Scrypt\",\"X11\",\"SHA3\",\"X11\",\"Lyra2RE\",\"SHA-256\",\"QUAIT\",\"X11\",\"X11\",\"Scrypt\",\"Scrypt\",\"Scrypt\",\"Ethash\",\"X13\",\"Blake2b\",\"SHA-256\",\"X15\",\"X11\",\"SHA-256\",\"BLAKE256\",\"Scrypt\",\"1GB AES Pattern Search\",\"SHA-256\",\"X11\",\"Scrypt\",\"SHA-256\",\"SHA-256\",\"NIST5\",\"Scrypt\",\"Scrypt\",\"X11\",\"Dagger\",\"Scrypt\",\"X11GOST\",\"X11\",\"Scrypt\",\"SHA-256\",\"Scrypt\",\"PoS\",\"Scrypt\",\"X11\",\"X11\",\"SHA-256\",\"SHA-256\",\"NIST5\",\"X11\",\"Scrypt\",\"POS 3.0\",\"Scrypt\",\"Scrypt\",\"Scrypt\",\"X13\",\"X11\",\"X11\",\"Equihash\",\"X11\",\"Scrypt\",\"CryptoNight\",\"SHA-256\",\"SHA-256\",\"X11\",\"Scrypt\",\"Multiple\",\"Scrypt\",\"Scrypt\",\"Scrypt\",\"SHA-256\",\"Scrypt\",\"Scrypt\",\"SHA-256D\",\"PoS\",\"Scrypt\",\"X11\",\"Lyra2Z\",\"PoS\",\"X13\",\"X14\",\"PoS\",\"SHA-256D\",\"Ethash\",\"Equihash\",\"DPoS\",\"X11\",\"Scrypt\",\"X11\",\"X13\",\"X11\",\"PoS\",\"Scrypt\",\"Scrypt\",\"X11\",\"PoS\",\"X11\",\"SHA-256\",\"Scrypt\",\"X11\",\"Scrypt\",\"Scrypt\",\"X11\",\"CryptoNight\",\"Scrypt\",\"Scrypt\",\"Scrypt\",\"Scrypt\",\"Quark\",\"QuBit\",\"Scrypt\",\"CryptoNight\",\"Lyra2RE\",\"Scrypt\",\"SHA-256\",\"X11\",\"Scrypt\",\"X11\",\"Scrypt\",\"CryptoNight-V7\",\"Scrypt\",\"Scrypt\",\"Scrypt\",\"X13\",\"X11\",\"Equihash\",\"Scrypt\",\"Scrypt\",\"Lyra2RE\",\"Scrypt\",\"Dagger-Hashimoto\",\"X11\",\"Blake2S\",\"X11\",\"Scrypt\",\"PoS\",\"X11\",\"NIST5\",\"PoS\",\"X11\",\"Scrypt\",\"Scrypt\",\"Scrypt\",\"SHA-256\",\"X11\",\"Scrypt\",\"Scrypt\",\"SHA-256\",\"PoS\",\"Scrypt\",\"X15\",\"SHA-256\",\"Scrypt\",\"POS 3.0\",\"CryptoNight-V7\",\"536\",\"Argon2d\",\"Blake2b\",\"Cloverhash\",\"CryptoNight\",\"NIST5\",\"X11\",\"NIST5\",\"Skein\",\"Scrypt\",\"X13\",\"Scrypt\",\"X11\",\"X11\",\"Scrypt\",\"CryptoNight\",\"X13\",\"Time Travel\",\"Scrypt\",\"Keccak\",\"SkunkHash v2 Raptor\",\"X11\",\"Skein\",\"SHA-256\",\"X11\",\"Scrypt\",\"VeChainThor Authority\",\"Scrypt\",\"PoS\",\"Scrypt\",\"Scrypt\",\"Scrypt\",\"Scrypt\",\"Scrypt\",\"Scrypt\",\"Scrypt\",\"CryptoNight\",\"SHA-512\",\"Ouroboros\",\"X11\",\"Equihash\",\"NeoScrypt\",\"X11\",\"Scrypt\",\"NeoScrypt\",\"Lyra2REv2\",\"Equihash\",\"Scrypt\",\"SHA-256\",\"NIST5\",\"PHI1612\",\"Dagger\",\"Scrypt\",\"Quark\",\"Scrypt\",\"POS 2.0\",\"Scrypt\",\"SHA-256\",\"X11\",\"NeoScrypt\",\"Ethash\",\"NeoScrypt\",\"X11\",\"DPoS\",\"NIST5\",\"X13\",\"Multiple\",\"Scrypt\",\"CryptoNight\",\"CryptoNight\",\"Ethash\",\"NIST5\",\"Quark\",\"X11\",\"CryptoNight-V7\",\"Scrypt\",\"Scrypt\",\"Scrypt\",\"X11\",\"BLAKE256\",\"X11\",\"NeoScrypt\",\"Quark\",\"NeoScrypt\",\"Scrypt\",\"Scrypt\",\"Scrypt\",\"X11\",\"X11\",\"SHA-256\",\"C11\",\"POS 3.0\",\"Ethash\",\"Scrypt\",\"CryptoNight\",\"SkunkHash\",\"Scrypt\",\"CryptoNight\",\"Scrypt\",\"Dagger\",\"Lyra2REv2\",\"X13\",\"Proof-of-BibleHash\",\"SHA-256 + Hive\",\"Scrypt\",\"Scrypt\",\"X11\",\"C11\",\"Proof-of-Authority\",\"X11\",\"XEVAN\",\"Scrypt\",\"VBFT\",\"Ethash\",\"CryptoNight\",\"Scrypt\",\"IMesh\",\"NIST5\",\"Scrypt\",\"Scrypt\",\"Equihash\",\"Scrypt\",\"Lyra2Z\",\"Green Protocol\",\"PoS\",\"Scrypt\",\"Semux BFT consensus\",\"X11\",\"Quark\",\"PoS\",\"CryptoNight\",\"X16R\",\"Scrypt\",\"NIST5\",\"Lyra2RE\",\"XEVAN\",\"Tribus\",\"Scrypt\",\"Lyra2Z\",\"CryptoNight\",\"CryptoNight Heavy\",\"CryptoNight\",\"Scrypt\",\"Scrypt\",\"Jump Consistent Hash\",\"SHA-256D\",\"CryptoNight\",\"Scrypt\",\"X15\",\"Scrypt\",\"Quark\",\"SHA-256\",\"DPoS\",\"X16R\",\"HMQ1725\",\"X11\",\"X16R\",\"Quark\",\"Quark\",\"Scrypt\",\"Lyra2REv2\",\"Quark\",\"Scrypt\",\"Scrypt\",\"CryptoNight-V7\",\"Cryptonight-GPU\",\"XEVAN\",\"CryptoNight Heavy\",\"X11\",\"X11\",\"Scrypt\",\"PoS\",\"SHA-256\",\"Keccak\",\"X11\",\"X11\",\"Scrypt\",\"SHA-512\",\"X16R\",\"ECC 256K1\",\"Equihash\",\"XEVAN\",\"Lyra2Z\",\"SHA-256\",\"XEVAN\",\"X11\",\"CryptoNight\",\"Quark\",\"Blake\",\"Blake\",\"Equihash\",\"Exosis\",\"Scrypt\",\"Scrypt\",\"Equihash\",\"Quark\",\"Equihash\",\"Quark\",\"Scrypt\",\"QuBit\",\"X11\",\"Scrypt\",\"XEVAN\",\"SHA-256D\",\"X11\",\"SHA-256\",\"X13\",\"SHA-256\",\"X11\",\"DPoS\",\"Scrypt\",\"Scrypt\",\"X11\",\"NeoScrypt\",\"Scrypt\",\"Blake\",\"Scrypt\",\"SHA-256\",\"Scrypt\",\"X11\",\"Scrypt\",\"Scrypt\",\"SHA-256\",\"X11\",\"SHA-256\",\"Scrypt\",\"Scrypt\",\"Scrypt\",\"Groestl\",\"X11\",\"Scrypt\",\"PoS\",\"Scrypt\",\"Scrypt\",\"X11\",\"SHA-256\",\"DPoS\",\"Scrypt\",\"Scrypt\",\"NeoScrypt\",\"Multiple\",\"X13\",\"Equihash+Scrypt\",\"DPoS\",\"Ethash\",\"DPoS\",\"SHA-256\",\"Leased POS\",\"PoS\",\"TRC10\",\"PoS\",\"SHA-256\",\"Scrypt\",\"CryptoNight\",\"Equihash\",\"Scrypt\"],\"Class\":{\"__ndarray__\":\"AAAAAAAAAAAAAAAAAQAAAAEAAAABAAAAAAAAAAEAAAABAAAAAQAAAAAAAAABAAAAAAAAAAAAAAABAAAAAAAAAAEAAAABAAAAAAAAAAAAAAABAAAAAQAAAAEAAAABAAAAAQAAAAAAAAABAAAAAQAAAAEAAAAAAAAAAQAAAAAAAAABAAAAAQAAAAAAAAAAAAAAAQAAAAEAAAABAAAAAQAAAAEAAAABAAAAAAAAAAAAAAABAAAAAQAAAAEAAAABAAAAAQAAAAAAAAAAAAAAAQAAAAAAAAABAAAAAQAAAAEAAAABAAAAAAAAAAEAAAABAAAAAAAAAAEAAAAAAAAAAAAAAAAAAAABAAAAAQAAAAEAAAAAAAAAAAAAAAAAAAAAAAAAAAAAAAEAAAABAAAAAQAAAAAAAAAAAAAAAQAAAAAAAAABAAAAAAAAAAAAAAABAAAAAQAAAAEAAAABAAAAAAAAAAAAAAABAAAAAAAAAAEAAAABAAAAAAAAAAAAAAABAAAAAAAAAAAAAAABAAAAAQAAAAAAAAAAAAAAAQAAAAAAAAAAAAAAAQAAAAAAAAABAAAAAAAAAAEAAAAAAAAAAQAAAAAAAAAAAAAAAQAAAAEAAAAAAAAAAQAAAAEAAAABAAAAAAAAAAEAAAABAAAAAQAAAAEAAAABAAAAAAAAAAAAAAABAAAAAQAAAAEAAAAAAAAAAQAAAAAAAAABAAAAAQAAAAAAAAABAAAAAAAAAAEAAAAAAAAAAAAAAAEAAAABAAAAAAAAAAEAAAABAAAAAAAAAAAAAAABAAAAAAAAAAEAAAAAAAAAAAAAAAAAAAABAAAAAQAAAAEAAAABAAAAAAAAAAAAAAAAAAAAAAAAAAAAAAABAAAAAQAAAAAAAAAAAAAAAAAAAAAAAAAAAAAAAQAAAAAAAAAAAAAAAAAAAAAAAAAAAAAAAQAAAAAAAAABAAAAAAAAAAAAAAABAAAAAAAAAAEAAAAAAAAAAAAAAAEAAAAAAAAAAQAAAAAAAAABAAAAAAAAAAEAAAAAAAAAAAAAAAAAAAAAAAAAAQAAAAAAAAAAAAAAAAAAAAAAAAAAAAAAAQAAAAEAAAAAAAAAAAAAAAEAAAABAAAAAAAAAAAAAAAAAAAAAAAAAAAAAAABAAAAAAAAAAAAAAAAAAAAAAAAAAAAAAAAAAAAAAAAAAAAAAABAAAAAAAAAAAAAAAAAAAAAAAAAAAAAAAAAAAAAQAAAAEAAAABAAAAAAAAAAAAAAAAAAAAAAAAAAEAAAAAAAAAAQAAAAAAAAAAAAAAAQAAAAAAAAABAAAAAQAAAAAAAAABAAAAAQAAAAAAAAABAAAAAAAAAAAAAAAAAAAAAQAAAAAAAAAAAAAAAQAAAAAAAAAAAAAAAAAAAAAAAAAAAAAAAAAAAAAAAAABAAAAAAAAAAEAAAAAAAAAAAAAAAAAAAAAAAAAAQAAAAAAAAABAAAAAAAAAAEAAAABAAAAAQAAAAEAAAAAAAAAAQAAAAAAAAAAAAAAAQAAAAAAAAABAAAAAQAAAAEAAAAAAAAAAQAAAAAAAAABAAAAAQAAAAEAAAAAAAAAAQAAAAAAAAABAAAAAAAAAAAAAAADAAAAAQAAAAAAAAABAAAAAQAAAAEAAAABAAAAAQAAAAAAAAAAAAAAAQAAAAAAAAAAAAAAAAAAAAEAAAAAAAAAAQAAAAAAAAABAAAAAAAAAAEAAAAAAAAAAAAAAAAAAAAAAAAAAQAAAAAAAAAAAAAAAQAAAAAAAAAAAAAAAAAAAAEAAAABAAAAAQAAAAEAAAAAAAAAAAAAAAAAAAAAAAAAAQAAAAAAAAABAAAAAQAAAAEAAAAAAAAAAAAAAAEAAAABAAAAAAAAAAAAAAABAAAAAAAAAAEAAAABAAAAAQAAAAAAAAABAAAAAQAAAAAAAAAAAAAAAAAAAAEAAAABAAAAAQAAAAAAAAABAAAAAAAAAAEAAAABAAAAAAAAAAEAAAABAAAAAQAAAAEAAAAAAAAAAAAAAAMAAAABAAAAAQAAAAEAAAAAAAAAAwAAAAAAAAAAAAAAAAAAAAAAAAABAAAAAQAAAAEAAAABAAAAAAAAAAAAAAAAAAAAAQAAAAAAAAABAAAAAAAAAAAAAAAAAAAAAAAAAAEAAAAAAAAAAAAAAAEAAAAAAAAAAAAAAAEAAAABAAAAAAAAAAEAAAAAAAAAAQAAAAEAAAABAAAAAQAAAAAAAAAAAAAAAQAAAAAAAAABAAAAAAAAAAAAAAAAAAAAAAAAAAAAAAAAAAAAAQAAAAEAAAABAAAAAAAAAAAAAAAAAAAAAAAAAAAAAAAAAAAAAQAAAAAAAAABAAAAAQAAAAEAAAABAAAAAAAAAAAAAAAAAAAAAAAAAAEAAAAAAAAAAAAAAAEAAAAAAAAAAAAAAAEAAAADAAAAAQAAAAAAAAABAAAAAQAAAAAAAAAAAAAAAQAAAAAAAAABAAAAAQAAAAAAAAABAAAAAQAAAAAAAAABAAAAAAAAAAEAAAAAAAAAAAAAAAEAAAAAAAAAAAAAAAAAAAAAAAAAAAAAAAEAAAABAAAAAQAAAAAAAAAAAAAAAAAAAAEAAAAAAAAAAQAAAAAAAAABAAAAAAAAAAAAAAAAAAAAAAAAAAEAAAAAAAAAAAAAAAAAAAABAAAAAAAAAAEAAAAAAAAAAQAAAAAAAAAAAAAAAAAAAAEAAAABAAAAAAAAAAAAAAAAAAAAAAAAAAAAAAAAAAAAAQAAAAAAAAABAAAAAAAAAAEAAAAAAAAAAAAAAAMAAAAAAAAAAgAAAAAAAAAAAAAAAAAAAAEAAAABAAAAAAAAAA==\",\"dtype\":\"int32\",\"order\":\"little\",\"shape\":[532]},\"CoinName\":[\"42 Coin\",\"404Coin\",\"EliteCoin\",\"Bitcoin\",\"Ethereum\",\"Litecoin\",\"Dash\",\"Monero\",\"Ethereum Classic\",\"ZCash\",\"Bitshares\",\"DigiByte\",\"BitcoinDark\",\"PayCoin\",\"ProsperCoin\",\"KoboCoin\",\"Spreadcoin\",\"Argentum\",\"Aurora Coin\",\"BlueCoin\",\"MyriadCoin\",\"MoonCoin\",\"ZetaCoin\",\"SexCoin\",\"Quatloo\",\"EnergyCoin\",\"QuarkCoin\",\"Riecoin\",\"Digitalcoin \",\"BitBar\",\"Catcoin\",\"CryptoBullion\",\"CannaCoin\",\"CryptCoin\",\"CasinoCoin\",\"Diamond\",\"Verge\",\"DevCoin\",\"EarthCoin\",\"E-Gulden\",\"Einsteinium\",\"Emerald\",\"Exclusive Coin\",\"FlutterCoin\",\"Franko\",\"FeatherCoin\",\"GrandCoin\",\"GlobalCoin\",\"GoldCoin\",\"HoboNickels\",\"HyperStake\",\"Infinite Coin\",\"IOCoin\",\"IXcoin\",\"KrugerCoin\",\"LuckyCoin\",\"Litebar \",\"MaxCoin\",\"MegaCoin\",\"MediterraneanCoin\",\"MintCoin\",\"MinCoin\",\"MazaCoin\",\"Nautilus Coin\",\"NavCoin\",\"NobleCoin\",\"Namecoin\",\"NyanCoin\",\"OpalCoin\",\"Orbitcoin\",\"PotCoin\",\"PhoenixCoin\",\"Reddcoin\",\"RonPaulCoin\",\"StableCoin\",\"SmartCoin\",\"SuperCoin\",\"SyncCoin\",\"SysCoin\",\"TeslaCoin\",\"TigerCoin\",\"TittieCoin\",\"TorCoin\",\"TerraCoin\",\"UnbreakableCoin\",\"Unobtanium\",\"UroCoin\",\"UnitaryStatus Dollar\",\"UltraCoin\",\"ViaCoin\",\"VeriCoin\",\"Vertcoin\",\"WorldCoin\",\"X11 Coin\",\"Crypti\",\"JouleCoin\",\"StealthCoin\",\"ZCC Coin\",\"ByteCoin\",\"DigitalNote \",\"BurstCoin\",\"StorjCoin\",\"MonaCoin\",\"Neutron\",\"FairCoin\",\"Gulden\",\"RubyCoin\",\"PesetaCoin\",\"Kore\",\"Wild Beast Coin\",\"Dnotes\",\"Flo\",\"8BIT Coin\",\"Sativa Coin\",\"ArtByte\",\"Folding Coin\",\"Ucoin\",\"Unitus\",\"CypherPunkCoin\",\"OmniCron\",\"Vtorrent\",\"GreenCoin\",\"Cryptonite\",\"MasterCoin\",\"SoonCoin\",\"1Credit\",\"IslaCoin\",\"Nexus\",\"MarsCoin \",\"Crypto\",\"Anarchists Prime\",\"Droidz\",\"BowsCoin\",\"Squall Coin\",\"Song Coin\",\"BitZeny\",\"Diggits\",\"Expanse\",\"Paycon\",\"Siacoin\",\"Emercoin\",\"EverGreenCoin\",\"MindCoin\",\"I0coin\",\"Decred\",\"Revolution VR\",\"HOdlcoin\",\"EDRCoin\",\"Hitcoin\",\"Gamecredits\",\"DubaiCoin\",\"CarpeDiemCoin\",\"PWR Coin\",\"BillaryCoin\",\"GPU Coin\",\"Adzcoin\",\"SoilCoin\",\"YoCoin\",\"SibCoin\",\"EuropeCoin\",\"ZeitCoin\",\"SwingCoin\",\"SafeExchangeCoin\",\"Nebuchadnezzar\",\"Francs\",\"BolivarCoin\",\"Ratecoin\",\"Revenu\",\"Clockcoin\",\"VIP Tokens\",\"BitSend\",\"Omni\",\"Let it Ride\",\"PutinCoin\",\"iBankCoin\",\"Frankywillcoin\",\"MudraCoin\",\"PizzaCoin\",\"Lutetium Coin\",\"Komodo\",\"GoldBlocks\",\"CarterCoin\",\"Karbo\",\"BitTokens\",\"ZayedCoin\",\"MustangCoin\",\"ZoneCoin\",\"Circuits of Value\",\"RootCoin\",\"DopeCoin\",\"BitCurrency\",\"DollarCoin\",\"Swiscoin\",\"Shilling\",\"BuzzCoin\",\"Opair\",\"PesoBit\",\"Halloween Coin\",\"ZCoin\",\"CoffeeCoin\",\"RoyalCoin\",\"GanjaCoin V2\",\"TeamUP\",\"LanaCoin\",\"Elementrem\",\"ZClassic\",\"ARK\",\"InsaneCoin\",\"KiloCoin\",\"ArtexCoin\",\"EmberCoin\",\"XenixCoin\",\"FreeCoin\",\"PLNCoin\",\"AquariusCoin\",\"Kurrent\",\"Creatio\",\"Eternity\",\"Eurocoin\",\"BitcoinFast\",\"Stakenet\",\"BitConnect Coin\",\"MoneyCoin\",\"Enigma\",\"Cannabis Industry Coin\",\"Russiacoin\",\"PandaCoin\",\"GameUnits\",\"GAKHcoin\",\"Allsafe\",\"LiteCreed\",\"OsmiumCoin\",\"Bikercoins\",\"HexxCoin\",\"Klingon Empire Darsek\",\"Internet of People\",\"KushCoin\",\"Printerium\",\"PacCoin\",\"Impeach\",\"Citadel\",\"Zilbercoin\",\"FirstCoin\",\"BeaverCoin\",\"FindCoin\",\"VaultCoin\",\"Zero\",\"OpenChat\",\"Canada eCoin\",\"Zoin\",\"RenosCoin\",\"DubaiCoin\",\"VirtacoinPlus\",\"TajCoin\",\"Impact\",\"EB3coin\",\"Atmos\",\"HappyCoin\",\"Coinonat\",\"MacronCoin\",\"Condensate\",\"Independent Money System\",\"ArgusCoin\",\"LomoCoin\",\"ProCurrency\",\"GoldReserve\",\"BenjiRolls\",\"GrowthCoin\",\"ILCoin\",\"Phreak\",\"Degas Coin\",\"HTML5 Coin\",\"Ultimate Secure Cash\",\"EquiTrader\",\"QTUM\",\"Quantum Resistant Ledger\",\"Espers\",\"Dynamic\",\"Nano\",\"ChanCoin\",\"Dinastycoin\",\"Denarius\",\"DigitalPrice\",\"Virta Unique Coin\",\"Bitcoin Planet\",\"Unify\",\"BritCoin\",\"SocialCoin\",\"ArcticCoin\",\"DAS\",\"Linda\",\"LeviarCoin\",\"DeepOnion\",\"Bitcore\",\"gCn Coin\",\"SmartCash\",\"Signatum\",\"Onix\",\"Cream\",\"Bitcoin Cash\",\"Monoeci\",\"Draftcoin\",\"Vechain\",\"Sojourn Coin\",\"Stakecoin\",\"NewYorkCoin\",\"FrazCoin\",\"Kronecoin\",\"AdCoin\",\"Linx\",\"CoinonatX\",\"Ethereum Dark\",\"Sumokoin\",\"Obsidian\",\"Cardano\",\"Regalcoin\",\"BitcoinZ\",\"TrezarCoin\",\"Elements\",\"TerraNovaCoin\",\"VIVO Coin\",\"Rupee\",\"Bitcoin Gold\",\"WomenCoin\",\"Theresa May Coin\",\"NamoCoin\",\"LUXCoin\",\"Pirl\",\"Xios\",\"Bitcloud 2.0\",\"eBoost\",\"KekCoin\",\"BlackholeCoin\",\"Infinity Economics\",\"Pura\",\"Innova\",\"Ellaism\",\"GoByte\",\"Magnet\",\"Lamden Tau\",\"Electra\",\"Bitcoin Diamond\",\"SHIELD\",\"Cash & Back Coin\",\"UltraNote\",\"BitCoal\",\"DaxxCoin\",\"Bulwark\",\"Kalkulus\",\"AC3\",\"Lethean\",\"GermanCoin\",\"LiteCoin Ultra\",\"PopularCoin\",\"PhantomX\",\"Photon\",\"Sucre\",\"SparksPay\",\"Digiwage\",\"GunCoin\",\"IrishCoin\",\"Trollcoin\",\"Litecoin Plus\",\"Monkey Project\",\"Pioneer Coin\",\"UnitedBitcoin\",\"Interzone\",\"TokenPay\",\"1717 Masonic Commemorative Token\",\"My Big Coin\",\"TurtleCoin\",\"MUNcoin\",\"Unified Society USDEX\",\"Niobio Cash\",\"ShareChain\",\"Travelflex\",\"KREDS\",\"Tokyo Coin\",\"BiblePay\",\"LitecoinCash\",\"BitFlip\",\"LottoCoin\",\"Crypto Improvement Fund\",\"Stipend\",\"Poa Network\",\"Pushi\",\"Ellerium\",\"Velox\",\"Ontology\",\"Callisto Network\",\"BitTube\",\"Poseidon\",\"Aidos Kuneen\",\"Bitspace\",\"Briacoin\",\"Ignition\",\"Bitrolium\",\"MedicCoin\",\"Alpenschillling\",\"Bitcoin Green\",\"Deviant Coin\",\"Abjcoin\",\"Semux\",\"FuturoCoin\",\"Carebit\",\"Zealium\",\"Monero Classic\",\"Proton\",\"iDealCash\",\"Jumpcoin\",\"Infinex\",\"Bitcoin Incognito\",\"KEYCO\",\"HollyWoodCoin\",\"GINcoin\",\"PlatinCoin\",\"Loki\",\"Newton Coin\",\"Swisscoin\",\"Xt3ch\",\"MassGrid\",\"TheVig\",\"PluraCoin\",\"EmaratCoin\",\"Dekado\",\"Lynx\",\"Poseidon Quark\",\"BitcoinWSpectrum\",\"Muse\",\"Motion\",\"PlusOneCoin\",\"Axe\",\"Trivechain\",\"Dystem\",\"Giant\",\"Peony Coin\",\"Absolute Coin\",\"Vitae\",\"HexCoin\",\"TPCash\",\"Webchain\",\"Ryo\",\"Urals Coin\",\"Qwertycoin\",\"ARENON\",\"EUNO\",\"MMOCoin\",\"Ketan\",\"Project Pai\",\"XDNA\",\"PAXEX\",\"Azart\",\"ThunderStake\",\"Kcash\",\"Xchange\",\"Acute Angle Cloud\",\"CrypticCoin\",\"Bettex coin\",\"Actinium\",\"Bitcoin SV\",\"BitMoney\",\"Junson Ming Chan Coin\",\"FREDEnergy\",\"HerbCoin\",\"Universal Molecule\",\"Lithium\",\"PirateCash\",\"Exosis\",\"Block-Logic\",\"Oduwa\",\"Beam\",\"Galilel\",\"Bithereum\",\"Crypto Sports\",\"Credit\",\"SLICE\",\"Dash Platinum\",\"Nasdacoin\",\"Beetle Coin\",\"Titan Coin\",\"Award\",\"BLAST\",\"Bitcoin Rhodium\",\"GlobalToken\",\"Insane Coin\",\"ALAX\",\"LiteDoge\",\"SolarCoin\",\"TruckCoin\",\"UFO Coin\",\"OrangeCoin\",\"BlakeCoin\",\"BitstarCoin\",\"NeosCoin\",\"HyperCoin\",\"PinkCoin\",\"Crypto Escudo\",\"AudioCoin\",\"IncaKoin\",\"Piggy Coin\",\"Crown Coin\",\"Genstake\",\"SmileyCoin\",\"XiaoMiCoin\",\"Groestlcoin\",\"CapriCoin\",\" ClubCoin\",\"Radium\",\"Bata\",\"Pakcoin\",\"Creditbit \",\"OKCash\",\"Lisk\",\"HiCoin\",\"WhiteCoin\",\"FriendshipCoin\",\"JoinCoin\",\"Triangles Coin\",\"Vollar\",\"EOS\",\"Reality Clash\",\"Oxycoin\",\"TigerCash\",\"Waves\",\"Particl\",\"BitTorrent\",\"Nxt\",\"ZEPHYR\",\"Gapcoin\",\"Beldex\",\"Horizen\",\"BitcoinPlus\"],\"ProofType\":[\"PoW/PoS\",\"PoW/PoS\",\"PoW/PoS\",\"PoW\",\"PoW\",\"PoW\",\"PoW/PoS\",\"PoW\",\"PoW\",\"PoW\",\"PoS\",\"PoW\",\"PoW/PoS\",\"PoS\",\"PoW\",\"PoW/PoS\",\"PoW\",\"PoW\",\"PoW/PoS\",\"PoW/PoS\",\"PoW\",\"PoW\",\"PoW\",\"PoW\",\"PoW\",\"PoW/PoS\",\"PoW\",\"PoW\",\"PoW\",\"PoW/PoS\",\"PoW\",\"PoW/PoS\",\"PoW\",\"PoW\",\"PoC\",\"PoW/PoS\",\"PoW\",\"PoW\",\"PoW\",\"PoW\",\"PoW\",\"PoW\",\"PoS\",\"PoS/PoW/PoT\",\"PoW\",\"PoW\",\"PoW\",\"PoW\",\"PoW\",\"PoW/PoS\",\"PoS\",\"PoW\",\"PoW/PoS\",\"PoW\",\"PoW\",\"PoW\",\"PoW\",\"PoW/PoS\",\"PoW\",\"PoW\",\"PoS\",\"PoW\",\"PoW/PoS\",\"PoS\",\"PoW/PoS\",\"PoW\",\"PoW\",\"PoW\",\"PoW/PoS\",\"PoW/PoS\",\"PoW/PoS\",\"PoW/PoS\",\"PoW/PoS\",\"PoW\",\"PoW\",\"PoW\",\"PoS\",\"PoW/PoS\",\"PoW\",\"PoS\",\"PoW\",\"PoS\",\"PoW/PoS\",\"PoW\",\"PoW\",\"PoW\",\"PoW\",\"PoW/PoS\",\"PoW/PoS\",\"PoW\",\"PoST\",\"PoW\",\"PoW\",\"PoW/PoS\",\"PoS\",\"PoW\",\"PoW/PoS\",\"PoW/PoS\",\"PoW\",\"PoW\",\"PoC\",\"PoS\",\"PoW\",\"PoW/PoS\",\"PoW/PoS\",\"PoW\",\"PoS\",\"PoW\",\"PoW/PoS\",\"PoW\",\"PoS\",\"PoW\",\"PoW/PoS\",\"PoW/PoS\",\"PoW\",\"PoW\",\"PoS\",\"PoW\",\"PoW\",\"PoW\",\"PoW/PoS\",\"PoW\",\"PoW\",\"PoW\",\"PoW\",\"PoW\",\"PoW/PoS\",\"PoW/nPoS\",\"PoW\",\"PoW\",\"PoW\",\"PoW/PoS\",\"PoW\",\"PoS/PoW\",\"PoW\",\"PoW\",\"PoS\",\"PoW\",\"PoW/PoS\",\"PoW\",\"PoW/PoS\",\"PoW/PoS\",\"PoW\",\"PoW\",\"PoW/PoS\",\"PoW\",\"PoW\",\"PoW/PoS\",\"PoW/PoS\",\"PoW\",\"PoW/PoS\",\"PoW\",\"PoW/PoS\",\"PoW/PoS\",\"PoS\",\"PoW\",\"PoW\",\"PoW\",\"PoW\",\"PoW/PoS\",\"PoS\",\"PoW/PoS\",\"PoC\",\"PoS\",\"PoW\",\"PoW\",\"PoW/PoS\",\"PoW/PoS\",\"PoW/PoS\",\"PoW/PoS\",\"PoW/PoS\",\"PoW\",\"PoS\",\"PoW/PoS\",\"PoW/PoS\",\"PoW/PoS\",\"PoS\",\"PoW\",\"PoS\",\"dPoW/PoW\",\"PoW/PoS\",\"PoW/PoS\",\"PoW\",\"PoW/PoS\",\"PoW\",\"PoW/PoS\",\"PoW/PoS\",\"PoW\",\"PoW/PoS\",\"PoW\",\"PoS\",\"PoW\",\"PoW/PoW\",\"PoW\",\"PoW/PoS\",\"PoS\",\"PoW/PoS\",\"PoW/PoS\",\"PoW\",\"PoS\",\"PoS\",\"PoW/PoS\",\"PoS\",\"PoW/PoS\",\"PoW\",\"PoW\",\"DPoS\",\"PoW/PoS\",\"PoW\",\"PoW\",\"PoW/PoS\",\"PoW/PoS\",\"PoS\",\"PoW/PoS\",\"PoW/PoS\",\"PoW\",\"PoS\",\"PoW/PoS\",\"PoW/PoS\",\"PoW/PoS\",\"TPoS\",\"PoW/PoS\",\"PoW/PoS\",\"PoW/PoS\",\"PoW\",\"PoW/PoS\",\"PoS\",\"PoW/PoS\",\"PoW/PoS\",\"PoS\",\"PoW/PoS\",\"PoW\",\"PoW\",\"PoW\",\"PoW/PoS\",\"PoW/PoS\",\"PoW/PoS\",\"PoW/PoS\",\"PoW\",\"PoW/PoS\",\"PoW\",\"PoS\",\"PoW/PoS \",\"PoW\",\"PoS\",\"PoW\",\"PoW\",\"PoW/PoS\",\"PoW\",\"PoW\",\"PoS\",\"PoW\",\"PoW/PoS\",\"PoW/PoS\",\"PoW/PoS\",\"PoW\",\"PoS\",\"PoW/PoS\",\"PoW\",\"PoS\",\"PoW/PoS\",\"PoW/PoS\",\"PoW/PoS\",\"PoW/PoS\",\"PoS\",\"PoW/PoS\",\"PoW\",\"PoS\",\"PoW\",\"PoS\",\"PoW/PoS\",\"PoW/PoS\",\"PoS\",\"PoW\",\"PoS\",\"PoW\",\"PoW/PoS\",\"PoW\",\"PoW\",\"PoW\",\"PoW\",\"PoW/PoS\",\"PoW\",\"PoW/PoS\",\"PoW/PoS\",\"PoW\",\"PoW/PoS\",\"PoW\",\"PoW\",\"PoW\",\"PoW/PoS\",\"PoW\",\"PoW/PoS\",\"PoW\",\"PoW\",\"PoW\",\"PoS\",\"PoW\",\"PoW/PoS\",\"PoW\",\"PoW/PoS\",\"PoS\",\"Proof of Authority\",\"PoW\",\"PoS\",\"PoW\",\"PoW\",\"PoW\",\"PoW\",\"PoW\",\"PoW/PoS\",\"PoW/PoS\",\"PoW\",\"PoS\",\"PoS\",\"PoW/PoS\",\"PoW\",\"PoW/PoS\",\"PoW\",\"PoW/PoS\",\"PoW\",\"PoS\",\"PoW\",\"PoW/PoS\",\"PoW/PoS\",\"PoW/PoS\",\"PoW/PoS\",\"PoW\",\"PoW/PoS\",\"PoW/PoS\",\"PoW\",\"PoS\",\"PoW/PoS\",\"PoS\",\"PoW\",\"PoW\",\"PoW\",\"PoW\",\"PoW/PoS\",\"DPoS\",\"PoW/PoS\",\"PoW/PoS\",\"PoW\",\"PoW/PoS\",\"PoW\",\"PoW\",\"PoW\",\"PoS\",\"PoS\",\"PoW\",\"PoW\",\"PoW/PoS\",\"PoW/PoS\",\"PoW\",\"PoW/PoS\",\"PoW\",\"PoW\",\"PoW\",\"PoS\",\"PoW\",\"PoW\",\"PoW/PoS\",\"PoW/PoS\",\"PoS\",\"PoW\",\"PoW\",\"PoW\",\"PoS\",\"PoS\",\"PoW and PoS\",\"PoW\",\"PoW\",\"PoW/PoS\",\"PoW\",\"PoW\",\"PoW\",\"PoW\",\"PoS\",\"POBh\",\"PoW + Hive\",\"PoW\",\"PoW\",\"PoW\",\"PoW/PoS\",\"PoA\",\"PoW/PoS\",\"PoW/PoS\",\"PoS\",\"PoS\",\"PoW\",\"PoW\",\"PoW\",\"PoW\",\"PoW/PoS\",\"PoW/PoS\",\"PoW/PoS\",\"PoW\",\"PoS\",\"PoW\",\"PoS\",\"PoS\",\"PoW/PoS\",\"DPoS\",\"PoW\",\"PoW/PoS\",\"PoS\",\"PoW\",\"PoS\",\"PoW/PoS\",\"PoW\",\"PoW\",\"PoS/PoW\",\"PoW\",\"PoS\",\"PoW\",\"PoW\",\"PoW\",\"PoW\",\"PoW/PoS\",\"PoS\",\"PoW\",\"PoW/PoS\",\"PoW\",\"PoW/PoS\",\"PoS\",\"HPoW\",\"PoS\",\"PoS\",\"PoS\",\"PoW\",\"PoW\",\"PoW\",\"PoW/PoS\",\"PoS\",\"PoW/PoS\",\"PoS\",\"PoW/PoS\",\"PoS\",\"PoW\",\"PoW/PoS\",\"PoW\",\"PoW\",\"PoW\",\"PoW\",\"PoS\",\"PoW/PoS\",\"PoS\",\"PoS\",\"PoW\",\"PoW/PoS\",\"PoS\",\"PoW\",\"PoW/PoS\",\"Zero-Knowledge Proof\",\"PoW\",\"DPOS\",\"PoW\",\"PoS\",\"PoW\",\"PoW\",\"Pos\",\"PoS\",\"PoW\",\"PoW/PoS\",\"PoW\",\"PoW\",\"PoS\",\"PoW\",\"PoW\",\"PoW/PoS\",\"PoW\",\"PoW/PoS\",\"PoW\",\"PoS\",\"PoW/PoS\",\"PoW\",\"PoS\",\"PoW/PoS\",\"PoW/PoS\",\"PoW/PoS\",\"PoW/PoS\",\"PoW\",\"PoW\",\"PoW\",\"PoW/PoS\",\"DPoS\",\"PoW/PoS\",\"PoW\",\"PoW/PoS\",\"PoW\",\"PoW/PoS\",\"PoW\",\"PoW/PoS\",\"PoS\",\"PoW/PoS\",\"PoW/PoS\",\"PoW\",\"PoW/PoS\",\"PoW/PoS\",\"PoW/PoS\",\"PoW\",\"PoW/PoS\",\"PoW\",\"PoW/PoS\",\"PoW\",\"PoW/PoS\",\"PoW/PoS\",\"PoS\",\"PoW\",\"PoW\",\"Proof of Trust\",\"PoW/PoS\",\"DPoS\",\"PoS\",\"PoW/PoS\",\"PoW/PoS\",\"PoW\",\"PoW/PoS\",\"PoW\",\"DPoS\",\"PoW\",\"DPoS\",\"PoS\",\"LPoS\",\"PoS\",\"DPoS\",\"PoS/LPoS\",\"DPoS\",\"PoW/PoS\",\"PoW\",\"PoW\",\"PoS\"],\"TotalCoinSupply\":[\"42\",\"532000000\",\"314159265359\",\"21000000\",\"0\",\"84000000\",\"22000000\",\"0\",\"210000000\",\"21000000\",\"3600570502\",\"21000000000\",\"22000000\",\"12500000\",\"21000000\",\"350000000\",\"20000000\",\"64000000\",\"16768584\",\"0\",\"2000000000\",\"384000000000\",\"169795588\",\"250000000\",\"100000000\",\"0\",\"247000000\",\"84000000\",\"48166000\",\"500000\",\"21000000 \",\"1000000\",\"13140000\",\"18000000\",\"40000000000\",\"4380000\",\"16555000000\",\"21000000000\",\"13500000000\",\"21000000 \",\"299792458\",\"32000000\",\"0\",\"0\",\"11235813\",\"336000000\",\"1420609614\",\"70000000\",\"72245700\",\"120000000\",\"0\",\"90600000000\",\"22000000\",\"21000000\",\"265420800\",\"20000000\",\"1350000\",\"100000000\",\"42000000\",\"200000000\",\"0\",\"10000000\",\"2419200000\",\"16180000\",\"0\",\"15000000000\",\"21000000\",\"337000000\",\"0\",\"3770000\",\"420000000\",\"98000000\",\"0\",\"21000000\",\"250000000\",\"51200000\",\"0\",\"1000\",\"888000000\",\"100000000\",\"47011968\",\"2300000000\",\"10000000\",\"42000000\",\"80000000\",\"250000\",\"0\",\"1600000000\",\"100000000\",\"23000000\",\"0\",\"84000000\",\"265420800\",\"5500000\",\"0\",\"45000000\",\"0\",\"1000000000\",\"184467440735\",\"10000000000\",\"2158812800\",\"500000000\",\"105120000\",\"68000000\",\"0\",\"1680000000\",\"0\",\"166386000\",\"12000000\",\"2628000\",\"500000000\",\"160000000\",\"0\",\"10000000\",\"1000000000\",\"1000000000\",\"20000000\",\"0\",\"0\",\"3371337\",\"20000000\",\"10000000000\",\"1840000000\",\"619478\",\"21000000\",\"92000000000\",\"0\",\"78000000\",\"33000000\",\"65789100\",\"53760000\",\"5060000\",\"21000000\",\"0\",\"210240000\",\"250000000\",\"100000000\",\"16906397\",\"50000000\",\"0\",\"1000000000\",\"26298000\",\"16000000\",\"21000000\",\"21000000\",\"210000000\",\"81962100\",\"22000000\",\"26550000000\",\"84000000\",\"10500000\",\"21626280000 \",\"0\",\"42000000\",\"221052632\",\"84000000\",\"30000000\",\"168351300\",\"24000000\",\"384000000\",\" 99000000000\",\"40000000\",\"2147483647\",\"20000000\",\"20000000\",\"25000000\",\"75000000\",\"222725000\",\"525000000\",\"90000000\",\"139000000\",\"616448\",\"33500000\",\"2000000000\",\"44333333\",\"100000000\",\"200000000\",\"25000000\",\"657000000\",\"200000000\",\"50000000\",\"90000000\",\"10000000\",\"21000000\",\"9736000\",\"3000000\",\"21000000\",\"1200000000\",\"0\",\"200000000\",\"0\",\"10638298\",\"3100000000\",\"30000000\",\"20000000000\",\"74000000\",\"0\",\"1500000000\",\"21400000\",\"39999898\",\"2500124\",\"100000000\",\"301000000\",\"7506000000\",\"26205539\",\"21000000\",\"125000000\",\"30000000\",\"10000000000\",\"500000000\",\"850000000\",\"3853326.77707314\",\"50000000\",\"38540000 \",\"42000000\",\"228000000\",\"20000000\",\"60000000\",\"20000000\",\"33000000\",\"76500000\",\"28000000\",\"650659833\",\"5000000\",\"21000000\",\"144000000\",\"32514916898\",\"13000000\",\"3315789\",\"15000000\",\"78835200\",\"2714286\",\"25000000\",\"9999999\",\"500000000\",\"21000000\",\"9354000\",\"20000000\",\"100000000000\",\"21933333\",\"185000000\",\"55000000\",\"110000000\",\"3360000\",\"14524851.4827\",\"1000000000\",\"17000000\",\"1000000000\",\"100000000 \",\"21000000\",\"34426423\",\"2232901\",\"100000000\",\"36900000\",\"110000000\",\"4000000000\",\"110290030\",\"100000000\",\"48252000\",\"400000000\",\"500000000\",\"21212121\",\"28600000\",\"1000000000\",\"75000000000\",\"40000000\",\"35520400\",\"2000000000\",\"2500000000\",\"30000000\",\"105000000\",\"90000000000\",\"200084200\",\"72000000\",\"100000000\",\"105000000\",\"50000000000\",\"0\",\"340282367\",\"30000000\",\"2000000000\",\"10000000\",\"100000000\",\"120000000\",\"100000000\",\"19276800\",\"30000000\",\" 75000000\",\"60000000\",\"18900000\",\"50000000000\",\"54000000\",\"18898187.6216583\",\"21000000\",\"200000000000\",\"5000000000\",\"137500000\",\"1100000000\",\"100000000\",\"21000000\",\"9507271\",\"17405891.19707116\",\"86712634466\",\"10500000000\",\"61599965\",\"0\",\"20000000\",\"84000000\",\"100000000\",\"100000000\",\"48252000\",\"4200000\",\"88888888\",\"91388946\",\"45000000000\",\"27000000\",\"21000000000\",\"400000000\",\"1800000000\",\"15733333\",\"27000000\",\"24000000\",\"21000000\",\"25000000000\",\"100000000\",\"1200000000\",\"60000000\",\"156306732.71\",\"21000000\",\"200000000\",\"100000000\",\"21000000\",\"14788275.991\",\"9000000000\",\"350000000\",\"45000000\",\"280000000\",\"31800000\",\"144000000\",\"500000000\",\"30000000000\",\"210000000\",\"660000000\",\"210000000\",\"85000000000\",\"12500000\",\"10000000000\",\"27716121\",\"20000000\",\"550000000\",\"999481516\",\"50000000000\",\"150000000\",\"4999999999\",\"50000000\",\" 90000000000\",\"19800000\",\"21000000\",\"120000000\",\"500000000\",\"64000000\",\"900000000\",\"4000000\",\"21000000\",\"23000000\",\"20166000\",\"23000000\",\"25000000\",\"1618033\",\"30000000\",\"1000000000000\",\"16600000\",\"232000000\",\"336000000\",\"10000000000\",\"100000000\",\"1100000000\",\"800000000\",\"5200000000\",\"840000000\",\"40000000\",\"18406979840\",\"500000000\",\"19340594\",\"252460800\",\"25000000\",\"60000000\",\"124000000\",\"1000000000\",\"6500000000\",\"1000000000\",\"21000000\",\"25000000\",\"50000000\",\"3000000\",\"5000000\",\"70000000\",\"500000000\",\"300000000\",\"21000000\",\"88000000\",\"30000000\",\"100000000\",\"100000000\",\"200000000\",\"80000000\",\"18400000\",\"45000000\",\"5121951220\",\"21000000\",\"26280000\",\"21000000\",\"18000000\",\"26000000\",\"10500000\",\"600000518\",\"150000000\",\"184000000000\",\"10200000000\",\"44000000\",\"168000000\",\"100000000\",\"1000000000\",\"84000000\",\"90000000\",\"92000000000\",\"650000000 \",\"100262205\",\"18081806 \",\"22075700\",\"21000000\",\"21000000\",\"82546564\",\"21000000\",\"5151000\",\"16880000000\",\"52500000\",\"100000000\",\"22105263\",\"1000000000\",\"1750000000\",\"88188888\",\"210000000\",\"184470000000\",\"55000000\",\"50000000\",\"260000000\",\"210000000\",\"2100000000\",\"366000000\",\"100000000\",\"25000000\",\"18000000000\",\"1000000000\",\"100000000\",\"1000000000\",\"7600000000\",\"50000000\",\"84000000\",\"21000000\",\"70000000000\",\"0\",\"8080000000\",\"54000000\",\"105120001.44\",\"25228800\",\"105000000\",\"21000000\",\"120000000\",\"21000000\",\"262800000\",\"19035999\",\"30886000\",\"13370000\",\"74800000000\",\"100000000\",\"19700000\",\"84000000\",\"500000000\",\"5000000000\",\"420000000\",\"64000000\",\"2100000\",\"168000000\",\"30000000\",\"1000000000\",\"35000000000\",\"98100000000\",\"0\",\"4000000000\",\"200000000\",\"7000000000\",\"54256119\",\"21000000\",\"0\",\"500000000\",\"1000000000\",\"10500000000\",\"190000000\",\"1000000000\",\"42000000\",\"15000000\",\"50000000000\",\"400000000\",\"105000000\",\"208000000\",\"160000000\",\"9000000\",\"5000000\",\"182000000\",\"16504333\",\"105000000\",\"159918400\",\"10008835635\",\"300000000\",\"60168145\",\"2800000\",\"120000\",\"2100000000\",\"0\",\"24487944\",\"0\",\"1000000000\",\"100000000\",\"8634140\",\"990000000000\",\"1000000000\",\"2000000000\",\"250000000\",\"1400222610\",\"21000000\",\"1000000\"],\"TotalCoinsMined\":{\"__ndarray__\":\"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\",\"dtype\":\"float64\",\"order\":\"little\",\"shape\":[532]}},\"selected\":{\"id\":\"1421\"},\"selection_policy\":{\"id\":\"1455\"}},\"id\":\"1420\",\"type\":\"ColumnDataSource\"},{\"attributes\":{\"editor\":{\"id\":\"1433\"},\"field\":\"ProofType\",\"formatter\":{\"id\":\"1432\"},\"title\":\"ProofType\"},\"id\":\"1434\",\"type\":\"TableColumn\"},{\"attributes\":{\"format\":\"0,0.0[00000]\"},\"id\":\"1437\",\"type\":\"NumberFormatter\"},{\"attributes\":{},\"id\":\"1423\",\"type\":\"StringEditor\"},{\"attributes\":{\"editor\":{\"id\":\"1438\"},\"field\":\"TotalCoinsMined\",\"formatter\":{\"id\":\"1437\"},\"title\":\"TotalCoinsMined\"},\"id\":\"1439\",\"type\":\"TableColumn\"},{\"attributes\":{\"editor\":{\"id\":\"1423\"},\"field\":\"CoinName\",\"formatter\":{\"id\":\"1422\"},\"title\":\"CoinName\"},\"id\":\"1424\",\"type\":\"TableColumn\"},{\"attributes\":{},\"id\":\"1427\",\"type\":\"StringFormatter\"},{\"attributes\":{},\"id\":\"1442\",\"type\":\"StringFormatter\"}],\"root_ids\":[\"1418\"]},\"title\":\"Bokeh Application\",\"version\":\"2.4.1\"}};\n",
       "    var render_items = [{\"docid\":\"19302a44-cfd8-45d8-b233-ecb967f56b25\",\"root_ids\":[\"1418\"],\"roots\":{\"1418\":\"a2be54e7-e19d-4347-903d-8a889cd43e16\"}}];\n",
       "    root.Bokeh.embed.embed_items_notebook(docs_json, render_items);\n",
       "  }\n",
       "  if (root.Bokeh !== undefined && root.Bokeh.Panel !== undefined) {\n",
       "    embed_document(root);\n",
       "  } else {\n",
       "    var attempts = 0;\n",
       "    var timer = setInterval(function(root) {\n",
       "      if (root.Bokeh !== undefined && root.Bokeh.Panel !== undefined) {\n",
       "        clearInterval(timer);\n",
       "        embed_document(root);\n",
       "      } else if (document.readyState == \"complete\") {\n",
       "        attempts++;\n",
       "        if (attempts > 200) {\n",
       "          clearInterval(timer);\n",
       "          console.log(\"Bokeh: ERROR: Unable to run BokehJS code because BokehJS library is missing\");\n",
       "        }\n",
       "      }\n",
       "    }, 25, root)\n",
       "  }\n",
       "})(window);</script>"
      ],
      "text/plain": [
       ":Table   [CoinName,Algorithm,ProofType,TotalCoinsMined,TotalCoinSupply,Class]"
      ]
     },
     "execution_count": 274,
     "metadata": {
      "application/vnd.holoviews_exec.v0+json": {
       "id": "1418"
      }
     },
     "output_type": "execute_result"
    }
   ],
   "source": [
    "# Create a table with tradable cryptocurrencies.\n",
    "clustered_df.hvplot.table(columns=['CoinName', \n",
    "                                   'Algorithm', \n",
    "                                   'ProofType', \n",
    "                                   'TotalCoinsMined', \n",
    "                                   'TotalCoinSupply', \n",
    "                                   'Class'], sortable=True, selectable=True)"
   ]
  },
  {
   "cell_type": "code",
   "execution_count": 275,
   "metadata": {},
   "outputs": [
    {
     "data": {
      "text/plain": [
       "532"
      ]
     },
     "execution_count": 275,
     "metadata": {},
     "output_type": "execute_result"
    }
   ],
   "source": [
    "# Print the total number of tradable cryptocurrencies.\n",
    "clustered_df['CoinName'].count()"
   ]
  },
  {
   "cell_type": "code",
   "execution_count": 276,
   "metadata": {},
   "outputs": [
    {
     "data": {
      "text/plain": [
       "array([[4.20000000e-11, 0.00000000e+00],\n",
       "       [5.32000000e-04, 1.06585544e-03],\n",
       "       [3.14159265e-01, 2.95755135e-02],\n",
       "       ...,\n",
       "       [1.40022261e-03, 9.90135079e-04],\n",
       "       [2.10000000e-05, 7.37028150e-06],\n",
       "       [1.00000000e-06, 1.29582282e-07]])"
      ]
     },
     "execution_count": 276,
     "metadata": {},
     "output_type": "execute_result"
    }
   ],
   "source": [
    "# Scaling data to create the scatter plot with tradable cryptocurrencies.\n",
    "cluster_df = clustered_df[['TotalCoinSupply', 'TotalCoinsMined']]\n",
    "X_minmax = MinMaxScaler().fit_transform(cluster_df)\n",
    "X_minmax"
   ]
  },
  {
   "cell_type": "code",
   "execution_count": 277,
   "metadata": {},
   "outputs": [
    {
     "data": {
      "text/html": [
       "<div>\n",
       "<style scoped>\n",
       "    .dataframe tbody tr th:only-of-type {\n",
       "        vertical-align: middle;\n",
       "    }\n",
       "\n",
       "    .dataframe tbody tr th {\n",
       "        vertical-align: top;\n",
       "    }\n",
       "\n",
       "    .dataframe thead th {\n",
       "        text-align: right;\n",
       "    }\n",
       "</style>\n",
       "<table border=\"1\" class=\"dataframe\">\n",
       "  <thead>\n",
       "    <tr style=\"text-align: right;\">\n",
       "      <th></th>\n",
       "      <th>TotalCoinSupply_scaled</th>\n",
       "      <th>TotalCoinsMined_scaled</th>\n",
       "      <th>CoinName</th>\n",
       "      <th>Class</th>\n",
       "    </tr>\n",
       "  </thead>\n",
       "  <tbody>\n",
       "    <tr>\n",
       "      <th>42</th>\n",
       "      <td>4.200000e-11</td>\n",
       "      <td>0.000000</td>\n",
       "      <td>42 Coin</td>\n",
       "      <td>0</td>\n",
       "    </tr>\n",
       "    <tr>\n",
       "      <th>404</th>\n",
       "      <td>5.320000e-04</td>\n",
       "      <td>0.001066</td>\n",
       "      <td>404Coin</td>\n",
       "      <td>0</td>\n",
       "    </tr>\n",
       "    <tr>\n",
       "      <th>1337</th>\n",
       "      <td>3.141593e-01</td>\n",
       "      <td>0.029576</td>\n",
       "      <td>EliteCoin</td>\n",
       "      <td>0</td>\n",
       "    </tr>\n",
       "    <tr>\n",
       "      <th>BTC</th>\n",
       "      <td>2.100000e-05</td>\n",
       "      <td>0.000018</td>\n",
       "      <td>Bitcoin</td>\n",
       "      <td>1</td>\n",
       "    </tr>\n",
       "    <tr>\n",
       "      <th>ETH</th>\n",
       "      <td>0.000000e+00</td>\n",
       "      <td>0.000109</td>\n",
       "      <td>Ethereum</td>\n",
       "      <td>1</td>\n",
       "    </tr>\n",
       "    <tr>\n",
       "      <th>LTC</th>\n",
       "      <td>8.400000e-05</td>\n",
       "      <td>0.000064</td>\n",
       "      <td>Litecoin</td>\n",
       "      <td>1</td>\n",
       "    </tr>\n",
       "    <tr>\n",
       "      <th>DASH</th>\n",
       "      <td>2.200000e-05</td>\n",
       "      <td>0.000009</td>\n",
       "      <td>Dash</td>\n",
       "      <td>0</td>\n",
       "    </tr>\n",
       "    <tr>\n",
       "      <th>XMR</th>\n",
       "      <td>0.000000e+00</td>\n",
       "      <td>0.000017</td>\n",
       "      <td>Monero</td>\n",
       "      <td>1</td>\n",
       "    </tr>\n",
       "    <tr>\n",
       "      <th>ETC</th>\n",
       "      <td>2.100000e-04</td>\n",
       "      <td>0.000115</td>\n",
       "      <td>Ethereum Classic</td>\n",
       "      <td>1</td>\n",
       "    </tr>\n",
       "    <tr>\n",
       "      <th>ZEC</th>\n",
       "      <td>2.100000e-05</td>\n",
       "      <td>0.000007</td>\n",
       "      <td>ZCash</td>\n",
       "      <td>1</td>\n",
       "    </tr>\n",
       "  </tbody>\n",
       "</table>\n",
       "</div>"
      ],
      "text/plain": [
       "      TotalCoinSupply_scaled  TotalCoinsMined_scaled          CoinName  Class\n",
       "42              4.200000e-11                0.000000           42 Coin      0\n",
       "404             5.320000e-04                0.001066           404Coin      0\n",
       "1337            3.141593e-01                0.029576         EliteCoin      0\n",
       "BTC             2.100000e-05                0.000018           Bitcoin      1\n",
       "ETH             0.000000e+00                0.000109          Ethereum      1\n",
       "LTC             8.400000e-05                0.000064          Litecoin      1\n",
       "DASH            2.200000e-05                0.000009              Dash      0\n",
       "XMR             0.000000e+00                0.000017            Monero      1\n",
       "ETC             2.100000e-04                0.000115  Ethereum Classic      1\n",
       "ZEC             2.100000e-05                0.000007             ZCash      1"
      ]
     },
     "execution_count": 277,
     "metadata": {},
     "output_type": "execute_result"
    }
   ],
   "source": [
    "# Create a new DataFrame that has the scaled data with the clustered_df DataFrame index.\n",
    "index_values = (clustered_df.index.tolist())\n",
    "plot_df = pd.DataFrame(\n",
    "    data = X_minmax, columns=[\"TotalCoinSupply_scaled\", \n",
    "                              \"TotalCoinsMined_scaled\"], index = index_values)\n",
    "\n",
    "# Add the \"CoinName\" column from the clustered_df DataFrame to the new DataFrame.\n",
    "plot_df = plot_df.join(Names_df, how='inner')\n",
    "\n",
    "# Add the \"Class\" column from the clustered_df DataFrame to the new DataFrame. \n",
    "class_df = clustered_df['Class']\n",
    "plot_df = plot_df.join(class_df, how='inner')\n",
    "\n",
    "plot_df.head(10)"
   ]
  },
  {
   "cell_type": "code",
   "execution_count": 278,
   "metadata": {},
   "outputs": [
    {
     "data": {},
     "metadata": {},
     "output_type": "display_data"
    },
    {
     "data": {
      "application/vnd.holoviews_exec.v0+json": "",
      "text/html": [
       "<div id='1471'>\n",
       "\n",
       "\n",
       "\n",
       "\n",
       "\n",
       "  <div class=\"bk-root\" id=\"34e826be-874a-4012-bb51-7b98bd949091\" data-root-id=\"1471\"></div>\n",
       "</div>\n",
       "<script type=\"application/javascript\">(function(root) {\n",
       "  function embed_document(root) {\n",
       "    var docs_json = {\"d1e4d6e4-42b1-42cc-99fb-76c8d874f510\":{\"defs\":[{\"extends\":null,\"module\":null,\"name\":\"ReactiveHTML1\",\"overrides\":[],\"properties\":[]},{\"extends\":null,\"module\":null,\"name\":\"FlexBox1\",\"overrides\":[],\"properties\":[{\"default\":\"flex-start\",\"kind\":null,\"name\":\"align_content\"},{\"default\":\"flex-start\",\"kind\":null,\"name\":\"align_items\"},{\"default\":\"row\",\"kind\":null,\"name\":\"flex_direction\"},{\"default\":\"wrap\",\"kind\":null,\"name\":\"flex_wrap\"},{\"default\":\"flex-start\",\"kind\":null,\"name\":\"justify_content\"}]},{\"extends\":null,\"module\":null,\"name\":\"GridStack1\",\"overrides\":[],\"properties\":[{\"default\":\"warn\",\"kind\":null,\"name\":\"mode\"},{\"default\":null,\"kind\":null,\"name\":\"ncols\"},{\"default\":null,\"kind\":null,\"name\":\"nrows\"},{\"default\":true,\"kind\":null,\"name\":\"allow_resize\"},{\"default\":true,\"kind\":null,\"name\":\"allow_drag\"},{\"default\":[],\"kind\":null,\"name\":\"state\"}]},{\"extends\":null,\"module\":null,\"name\":\"click1\",\"overrides\":[],\"properties\":[{\"default\":\"\",\"kind\":null,\"name\":\"terminal_output\"},{\"default\":\"\",\"kind\":null,\"name\":\"debug_name\"},{\"default\":0,\"kind\":null,\"name\":\"clears\"}]},{\"extends\":null,\"module\":null,\"name\":\"TemplateActions1\",\"overrides\":[],\"properties\":[{\"default\":0,\"kind\":null,\"name\":\"open_modal\"},{\"default\":0,\"kind\":null,\"name\":\"close_modal\"}]},{\"extends\":null,\"module\":null,\"name\":\"MaterialTemplateActions1\",\"overrides\":[],\"properties\":[{\"default\":0,\"kind\":null,\"name\":\"open_modal\"},{\"default\":0,\"kind\":null,\"name\":\"close_modal\"}]}],\"roots\":{\"references\":[{\"attributes\":{\"coordinates\":null,\"data_source\":{\"id\":\"1558\"},\"glyph\":{\"id\":\"1561\"},\"group\":null,\"hover_glyph\":null,\"muted_glyph\":{\"id\":\"1563\"},\"nonselection_glyph\":{\"id\":\"1562\"},\"selection_glyph\":{\"id\":\"1581\"},\"view\":{\"id\":\"1565\"}},\"id\":\"1564\",\"type\":\"GlyphRenderer\"},{\"attributes\":{\"angle\":{\"value\":0.0},\"fill_alpha\":{\"value\":1.0},\"fill_color\":{\"value\":\"#6d904f\"},\"hatch_alpha\":{\"value\":1.0},\"hatch_color\":{\"value\":\"#6d904f\"},\"hatch_scale\":{\"value\":12.0},\"hatch_weight\":{\"value\":1.0},\"line_alpha\":{\"value\":1.0},\"line_cap\":{\"value\":\"butt\"},\"line_color\":{\"value\":\"#6d904f\"},\"line_dash\":{\"value\":[]},\"line_dash_offset\":{\"value\":0},\"line_join\":{\"value\":\"bevel\"},\"line_width\":{\"value\":1},\"marker\":{\"value\":\"circle\"},\"size\":{\"value\":5.477225575051661},\"x\":{\"field\":\"TotalCoinsMined_scaled\"},\"y\":{\"field\":\"TotalCoinSupply_scaled\"}},\"id\":\"1607\",\"type\":\"Scatter\"},{\"attributes\":{},\"id\":\"1493\",\"type\":\"BasicTicker\"},{\"attributes\":{\"margin\":[5,5,5,5],\"name\":\"HSpacer02777\",\"sizing_mode\":\"stretch_width\"},\"id\":\"1752\",\"type\":\"Spacer\"},{\"attributes\":{\"callback\":null,\"renderers\":[{\"id\":\"1521\"},{\"id\":\"1542\"},{\"id\":\"1564\"},{\"id\":\"1588\"}],\"tags\":[\"hv_created\"],\"tooltips\":[[\"Class\",\"@{Class}\"],[\"TotalCoinsMined_scaled\",\"@{TotalCoinsMined_scaled}\"],[\"TotalCoinSupply_scaled\",\"@{TotalCoinSupply_scaled}\"]]},\"id\":\"1475\",\"type\":\"HoverTool\"},{\"attributes\":{\"angle\":{\"value\":0.0},\"fill_alpha\":{\"value\":1.0},\"fill_color\":{\"value\":\"#e5ae38\"},\"hatch_alpha\":{\"value\":1.0},\"hatch_color\":{\"value\":\"#e5ae38\"},\"hatch_scale\":{\"value\":12.0},\"hatch_weight\":{\"value\":1.0},\"line_alpha\":{\"value\":1.0},\"line_cap\":{\"value\":\"butt\"},\"line_color\":{\"value\":\"#e5ae38\"},\"line_dash\":{\"value\":[]},\"line_dash_offset\":{\"value\":0},\"line_join\":{\"value\":\"bevel\"},\"line_width\":{\"value\":1},\"marker\":{\"value\":\"circle\"},\"size\":{\"value\":5.477225575051661},\"x\":{\"field\":\"TotalCoinsMined_scaled\"},\"y\":{\"field\":\"TotalCoinSupply_scaled\"}},\"id\":\"1581\",\"type\":\"Scatter\"},{\"attributes\":{\"fill_color\":{\"value\":\"#6d904f\"},\"hatch_color\":{\"value\":\"#6d904f\"},\"line_color\":{\"value\":\"#6d904f\"},\"size\":{\"value\":5.477225575051661},\"x\":{\"field\":\"TotalCoinsMined_scaled\"},\"y\":{\"field\":\"TotalCoinSupply_scaled\"}},\"id\":\"1585\",\"type\":\"Scatter\"},{\"attributes\":{\"end\":1.1,\"reset_end\":1.1,\"reset_start\":-0.1,\"start\":-0.1,\"tags\":[[[\"TotalCoinSupply_scaled\",\"TotalCoinSupply_scaled\",null]]]},\"id\":\"1474\",\"type\":\"Range1d\"},{\"attributes\":{\"axis\":{\"id\":\"1488\"},\"coordinates\":null,\"grid_line_color\":null,\"group\":null,\"ticker\":null},\"id\":\"1491\",\"type\":\"Grid\"},{\"attributes\":{},\"id\":\"1583\",\"type\":\"Selection\"},{\"attributes\":{\"margin\":[5,5,5,5],\"name\":\"HSpacer02776\",\"sizing_mode\":\"stretch_width\"},\"id\":\"1472\",\"type\":\"Spacer\"},{\"attributes\":{\"below\":[{\"id\":\"1488\"}],\"center\":[{\"id\":\"1491\"},{\"id\":\"1495\"}],\"height\":300,\"left\":[{\"id\":\"1492\"}],\"margin\":[5,5,5,5],\"min_border_bottom\":10,\"min_border_left\":10,\"min_border_right\":10,\"min_border_top\":10,\"renderers\":[{\"id\":\"1521\"},{\"id\":\"1542\"},{\"id\":\"1564\"},{\"id\":\"1588\"}],\"right\":[{\"id\":\"1533\"}],\"sizing_mode\":\"fixed\",\"title\":{\"id\":\"1480\"},\"toolbar\":{\"id\":\"1502\"},\"width\":700,\"x_range\":{\"id\":\"1473\"},\"x_scale\":{\"id\":\"1484\"},\"y_range\":{\"id\":\"1474\"},\"y_scale\":{\"id\":\"1486\"}},\"id\":\"1479\",\"subtype\":\"Figure\",\"type\":\"Plot\"},{\"attributes\":{\"fill_alpha\":{\"value\":0.2},\"fill_color\":{\"value\":\"#fc4f30\"},\"hatch_alpha\":{\"value\":0.2},\"hatch_color\":{\"value\":\"#fc4f30\"},\"line_alpha\":{\"value\":0.2},\"line_color\":{\"value\":\"#fc4f30\"},\"size\":{\"value\":5.477225575051661},\"x\":{\"field\":\"TotalCoinsMined_scaled\"},\"y\":{\"field\":\"TotalCoinSupply_scaled\"}},\"id\":\"1541\",\"type\":\"Scatter\"},{\"attributes\":{\"coordinates\":null,\"group\":null,\"text_color\":\"black\",\"text_font_size\":\"12pt\"},\"id\":\"1480\",\"type\":\"Title\"},{\"attributes\":{\"fill_color\":{\"value\":\"#30a2da\"},\"hatch_color\":{\"value\":\"#30a2da\"},\"line_color\":{\"value\":\"#30a2da\"},\"size\":{\"value\":5.477225575051661},\"x\":{\"field\":\"TotalCoinsMined_scaled\"},\"y\":{\"field\":\"TotalCoinSupply_scaled\"}},\"id\":\"1518\",\"type\":\"Scatter\"},{\"attributes\":{\"data\":{\"Class\":[2],\"TotalCoinSupply_scaled\":{\"__ndarray__\":\"rkfhehSu7z8=\",\"dtype\":\"float64\",\"order\":\"little\",\"shape\":[1]},\"TotalCoinsMined_scaled\":{\"__ndarray__\":\"AAAAAAAA8D8=\",\"dtype\":\"float64\",\"order\":\"little\",\"shape\":[1]}},\"selected\":{\"id\":\"1559\"},\"selection_policy\":{\"id\":\"1577\"}},\"id\":\"1558\",\"type\":\"ColumnDataSource\"},{\"attributes\":{\"coordinates\":null,\"data_source\":{\"id\":\"1515\"},\"glyph\":{\"id\":\"1518\"},\"group\":null,\"hover_glyph\":null,\"muted_glyph\":{\"id\":\"1520\"},\"nonselection_glyph\":{\"id\":\"1519\"},\"selection_glyph\":{\"id\":\"1535\"},\"view\":{\"id\":\"1522\"}},\"id\":\"1521\",\"type\":\"GlyphRenderer\"},{\"attributes\":{},\"id\":\"1484\",\"type\":\"LinearScale\"},{\"attributes\":{\"fill_color\":{\"value\":\"#fc4f30\"},\"hatch_color\":{\"value\":\"#fc4f30\"},\"line_color\":{\"value\":\"#fc4f30\"},\"size\":{\"value\":5.477225575051661},\"x\":{\"field\":\"TotalCoinsMined_scaled\"},\"y\":{\"field\":\"TotalCoinSupply_scaled\"}},\"id\":\"1539\",\"type\":\"Scatter\"},{\"attributes\":{},\"id\":\"1489\",\"type\":\"BasicTicker\"},{\"attributes\":{},\"id\":\"1486\",\"type\":\"LinearScale\"},{\"attributes\":{},\"id\":\"1516\",\"type\":\"Selection\"},{\"attributes\":{\"end\":1.042857142857143,\"reset_end\":1.042857142857143,\"reset_start\":-0.04285714285714286,\"start\":-0.04285714285714286,\"tags\":[[[\"TotalCoinsMined_scaled\",\"TotalCoinsMined_scaled\",null]]]},\"id\":\"1473\",\"type\":\"Range1d\"},{\"attributes\":{\"axis_label\":\"Total Cryptocurrency Coin Supply\",\"coordinates\":null,\"formatter\":{\"id\":\"1513\"},\"group\":null,\"major_label_policy\":{\"id\":\"1514\"},\"ticker\":{\"id\":\"1493\"}},\"id\":\"1492\",\"type\":\"LinearAxis\"},{\"attributes\":{\"axis_label\":\"Total Cryptocurrency Coins Mined\",\"coordinates\":null,\"formatter\":{\"id\":\"1510\"},\"group\":null,\"major_label_policy\":{\"id\":\"1511\"},\"ticker\":{\"id\":\"1489\"}},\"id\":\"1488\",\"type\":\"LinearAxis\"},{\"attributes\":{\"coordinates\":null,\"data_source\":{\"id\":\"1582\"},\"glyph\":{\"id\":\"1585\"},\"group\":null,\"hover_glyph\":null,\"muted_glyph\":{\"id\":\"1587\"},\"nonselection_glyph\":{\"id\":\"1586\"},\"selection_glyph\":{\"id\":\"1607\"},\"view\":{\"id\":\"1589\"}},\"id\":\"1588\",\"type\":\"GlyphRenderer\"},{\"attributes\":{\"fill_alpha\":{\"value\":0.1},\"fill_color\":{\"value\":\"#30a2da\"},\"hatch_alpha\":{\"value\":0.1},\"hatch_color\":{\"value\":\"#30a2da\"},\"line_alpha\":{\"value\":0.1},\"line_color\":{\"value\":\"#30a2da\"},\"size\":{\"value\":5.477225575051661},\"x\":{\"field\":\"TotalCoinsMined_scaled\"},\"y\":{\"field\":\"TotalCoinSupply_scaled\"}},\"id\":\"1519\",\"type\":\"Scatter\"},{\"attributes\":{\"label\":{\"value\":\"3\"},\"renderers\":[{\"id\":\"1588\"}]},\"id\":\"1606\",\"type\":\"LegendItem\"},{\"attributes\":{},\"id\":\"1603\",\"type\":\"UnionRenderers\"},{\"attributes\":{\"axis\":{\"id\":\"1492\"},\"coordinates\":null,\"dimension\":1,\"grid_line_color\":null,\"group\":null,\"ticker\":null},\"id\":\"1495\",\"type\":\"Grid\"},{\"attributes\":{},\"id\":\"1514\",\"type\":\"AllLabels\"},{\"attributes\":{\"data\":{\"Class\":[1,1,1,1,1,1,1,1,1,1,1,1,1,1,1,1,1,1,1,1,1,1,1,1,1,1,1,1,1,1,1,1,1,1,1,1,1,1,1,1,1,1,1,1,1,1,1,1,1,1,1,1,1,1,1,1,1,1,1,1,1,1,1,1,1,1,1,1,1,1,1,1,1,1,1,1,1,1,1,1,1,1,1,1,1,1,1,1,1,1,1,1,1,1,1,1,1,1,1,1,1,1,1,1,1,1,1,1,1,1,1,1,1,1,1,1,1,1,1,1,1,1,1,1,1,1,1,1,1,1,1,1,1,1,1,1,1,1,1,1,1,1,1,1,1,1,1,1,1,1,1,1,1,1,1,1,1,1,1,1,1,1,1,1,1,1,1,1,1,1,1,1,1,1,1,1,1,1,1,1,1,1,1,1,1,1,1,1,1,1,1,1,1,1,1,1,1,1,1,1,1,1,1,1,1,1,1,1,1,1,1,1,1,1,1,1,1,1,1,1,1,1,1,1,1,1,1,1,1,1,1,1,1,1,1,1,1,1,1],\"TotalCoinSupply_scaled\":{\"__ndarray__\":\"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\",\"dtype\":\"float64\",\"order\":\"little\",\"shape\":[239]},\"TotalCoinsMined_scaled\":{\"__ndarray__\":\"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\",\"dtype\":\"float64\",\"order\":\"little\",\"shape\":[239]}},\"selected\":{\"id\":\"1537\"},\"selection_policy\":{\"id\":\"1553\"}},\"id\":\"1536\",\"type\":\"ColumnDataSource\"},{\"attributes\":{\"source\":{\"id\":\"1558\"}},\"id\":\"1565\",\"type\":\"CDSView\"},{\"attributes\":{},\"id\":\"1559\",\"type\":\"Selection\"},{\"attributes\":{\"label\":{\"value\":\"2\"},\"renderers\":[{\"id\":\"1564\"}]},\"id\":\"1580\",\"type\":\"LegendItem\"},{\"attributes\":{},\"id\":\"1510\",\"type\":\"BasicTickFormatter\"},{\"attributes\":{\"children\":[{\"id\":\"1472\"},{\"id\":\"1479\"},{\"id\":\"1752\"}],\"margin\":[0,0,0,0],\"name\":\"Row02772\",\"tags\":[\"embedded\"]},\"id\":\"1471\",\"type\":\"Row\"},{\"attributes\":{\"source\":{\"id\":\"1582\"}},\"id\":\"1589\",\"type\":\"CDSView\"},{\"attributes\":{\"tools\":[{\"id\":\"1475\"},{\"id\":\"1496\"},{\"id\":\"1497\"},{\"id\":\"1498\"},{\"id\":\"1499\"},{\"id\":\"1500\"}]},\"id\":\"1502\",\"type\":\"Toolbar\"},{\"attributes\":{},\"id\":\"1530\",\"type\":\"UnionRenderers\"},{\"attributes\":{\"bottom_units\":\"screen\",\"coordinates\":null,\"fill_alpha\":0.5,\"fill_color\":\"lightgrey\",\"group\":null,\"left_units\":\"screen\",\"level\":\"overlay\",\"line_alpha\":1.0,\"line_color\":\"black\",\"line_dash\":[4,4],\"line_width\":2,\"right_units\":\"screen\",\"syncable\":false,\"top_units\":\"screen\"},\"id\":\"1501\",\"type\":\"BoxAnnotation\"},{\"attributes\":{\"source\":{\"id\":\"1515\"}},\"id\":\"1522\",\"type\":\"CDSView\"},{\"attributes\":{},\"id\":\"1496\",\"type\":\"SaveTool\"},{\"attributes\":{},\"id\":\"1497\",\"type\":\"PanTool\"},{\"attributes\":{\"angle\":{\"value\":0.0},\"fill_alpha\":{\"value\":1.0},\"fill_color\":{\"value\":\"#30a2da\"},\"hatch_alpha\":{\"value\":1.0},\"hatch_color\":{\"value\":\"#30a2da\"},\"hatch_scale\":{\"value\":12.0},\"hatch_weight\":{\"value\":1.0},\"line_alpha\":{\"value\":1.0},\"line_cap\":{\"value\":\"butt\"},\"line_color\":{\"value\":\"#30a2da\"},\"line_dash\":{\"value\":[]},\"line_dash_offset\":{\"value\":0},\"line_join\":{\"value\":\"bevel\"},\"line_width\":{\"value\":1},\"marker\":{\"value\":\"circle\"},\"size\":{\"value\":5.477225575051661},\"x\":{\"field\":\"TotalCoinsMined_scaled\"},\"y\":{\"field\":\"TotalCoinSupply_scaled\"}},\"id\":\"1535\",\"type\":\"Scatter\"},{\"attributes\":{\"source\":{\"id\":\"1536\"}},\"id\":\"1543\",\"type\":\"CDSView\"},{\"attributes\":{},\"id\":\"1500\",\"type\":\"ResetTool\"},{\"attributes\":{},\"id\":\"1498\",\"type\":\"WheelZoomTool\"},{\"attributes\":{\"coordinates\":null,\"data_source\":{\"id\":\"1536\"},\"glyph\":{\"id\":\"1539\"},\"group\":null,\"hover_glyph\":null,\"muted_glyph\":{\"id\":\"1541\"},\"nonselection_glyph\":{\"id\":\"1540\"},\"selection_glyph\":{\"id\":\"1557\"},\"view\":{\"id\":\"1543\"}},\"id\":\"1542\",\"type\":\"GlyphRenderer\"},{\"attributes\":{\"overlay\":{\"id\":\"1501\"}},\"id\":\"1499\",\"type\":\"BoxZoomTool\"},{\"attributes\":{},\"id\":\"1577\",\"type\":\"UnionRenderers\"},{\"attributes\":{\"fill_alpha\":{\"value\":0.2},\"fill_color\":{\"value\":\"#30a2da\"},\"hatch_alpha\":{\"value\":0.2},\"hatch_color\":{\"value\":\"#30a2da\"},\"line_alpha\":{\"value\":0.2},\"line_color\":{\"value\":\"#30a2da\"},\"size\":{\"value\":5.477225575051661},\"x\":{\"field\":\"TotalCoinsMined_scaled\"},\"y\":{\"field\":\"TotalCoinSupply_scaled\"}},\"id\":\"1520\",\"type\":\"Scatter\"},{\"attributes\":{\"data\":{\"Class\":[3,3,3,3,3],\"TotalCoinSupply_scaled\":{\"__ndarray__\":\"+nQumcwytj+8eapDboZLP4RaKOGWizA//Knx0k1iUD8sQxzr4jYaPw==\",\"dtype\":\"float64\",\"order\":\"little\",\"shape\":[5]},\"TotalCoinsMined_scaled\":{\"__ndarray__\":\"zaDgBxGurD+QpMXySiFFP5wZJXiPEis/ekNDBbiMUD/7RX5gv3oaPw==\",\"dtype\":\"float64\",\"order\":\"little\",\"shape\":[5]}},\"selected\":{\"id\":\"1583\"},\"selection_policy\":{\"id\":\"1603\"}},\"id\":\"1582\",\"type\":\"ColumnDataSource\"},{\"attributes\":{\"angle\":{\"value\":0.0},\"fill_alpha\":{\"value\":1.0},\"fill_color\":{\"value\":\"#fc4f30\"},\"hatch_alpha\":{\"value\":1.0},\"hatch_color\":{\"value\":\"#fc4f30\"},\"hatch_scale\":{\"value\":12.0},\"hatch_weight\":{\"value\":1.0},\"line_alpha\":{\"value\":1.0},\"line_cap\":{\"value\":\"butt\"},\"line_color\":{\"value\":\"#fc4f30\"},\"line_dash\":{\"value\":[]},\"line_dash_offset\":{\"value\":0},\"line_join\":{\"value\":\"bevel\"},\"line_width\":{\"value\":1},\"marker\":{\"value\":\"circle\"},\"size\":{\"value\":5.477225575051661},\"x\":{\"field\":\"TotalCoinsMined_scaled\"},\"y\":{\"field\":\"TotalCoinSupply_scaled\"}},\"id\":\"1557\",\"type\":\"Scatter\"},{\"attributes\":{\"fill_alpha\":{\"value\":0.1},\"fill_color\":{\"value\":\"#fc4f30\"},\"hatch_alpha\":{\"value\":0.1},\"hatch_color\":{\"value\":\"#fc4f30\"},\"line_alpha\":{\"value\":0.1},\"line_color\":{\"value\":\"#fc4f30\"},\"size\":{\"value\":5.477225575051661},\"x\":{\"field\":\"TotalCoinsMined_scaled\"},\"y\":{\"field\":\"TotalCoinSupply_scaled\"}},\"id\":\"1540\",\"type\":\"Scatter\"},{\"attributes\":{\"label\":{\"value\":\"1\"},\"renderers\":[{\"id\":\"1542\"}]},\"id\":\"1556\",\"type\":\"LegendItem\"},{\"attributes\":{\"label\":{\"value\":\"0\"},\"renderers\":[{\"id\":\"1521\"}]},\"id\":\"1534\",\"type\":\"LegendItem\"},{\"attributes\":{\"fill_alpha\":{\"value\":0.2},\"fill_color\":{\"value\":\"#6d904f\"},\"hatch_alpha\":{\"value\":0.2},\"hatch_color\":{\"value\":\"#6d904f\"},\"line_alpha\":{\"value\":0.2},\"line_color\":{\"value\":\"#6d904f\"},\"size\":{\"value\":5.477225575051661},\"x\":{\"field\":\"TotalCoinsMined_scaled\"},\"y\":{\"field\":\"TotalCoinSupply_scaled\"}},\"id\":\"1587\",\"type\":\"Scatter\"},{\"attributes\":{},\"id\":\"1511\",\"type\":\"AllLabels\"},{\"attributes\":{\"click_policy\":\"mute\",\"coordinates\":null,\"group\":null,\"items\":[{\"id\":\"1534\"},{\"id\":\"1556\"},{\"id\":\"1580\"},{\"id\":\"1606\"}],\"location\":[0,0],\"title\":\"Class\"},\"id\":\"1533\",\"type\":\"Legend\"},{\"attributes\":{\"fill_alpha\":{\"value\":0.1},\"fill_color\":{\"value\":\"#e5ae38\"},\"hatch_alpha\":{\"value\":0.1},\"hatch_color\":{\"value\":\"#e5ae38\"},\"line_alpha\":{\"value\":0.1},\"line_color\":{\"value\":\"#e5ae38\"},\"size\":{\"value\":5.477225575051661},\"x\":{\"field\":\"TotalCoinsMined_scaled\"},\"y\":{\"field\":\"TotalCoinSupply_scaled\"}},\"id\":\"1562\",\"type\":\"Scatter\"},{\"attributes\":{\"fill_alpha\":{\"value\":0.2},\"fill_color\":{\"value\":\"#e5ae38\"},\"hatch_alpha\":{\"value\":0.2},\"hatch_color\":{\"value\":\"#e5ae38\"},\"line_alpha\":{\"value\":0.2},\"line_color\":{\"value\":\"#e5ae38\"},\"size\":{\"value\":5.477225575051661},\"x\":{\"field\":\"TotalCoinsMined_scaled\"},\"y\":{\"field\":\"TotalCoinSupply_scaled\"}},\"id\":\"1563\",\"type\":\"Scatter\"},{\"attributes\":{},\"id\":\"1553\",\"type\":\"UnionRenderers\"},{\"attributes\":{\"fill_alpha\":{\"value\":0.1},\"fill_color\":{\"value\":\"#6d904f\"},\"hatch_alpha\":{\"value\":0.1},\"hatch_color\":{\"value\":\"#6d904f\"},\"line_alpha\":{\"value\":0.1},\"line_color\":{\"value\":\"#6d904f\"},\"size\":{\"value\":5.477225575051661},\"x\":{\"field\":\"TotalCoinsMined_scaled\"},\"y\":{\"field\":\"TotalCoinSupply_scaled\"}},\"id\":\"1586\",\"type\":\"Scatter\"},{\"attributes\":{},\"id\":\"1537\",\"type\":\"Selection\"},{\"attributes\":{\"data\":{\"Class\":[0,0,0,0,0,0,0,0,0,0,0,0,0,0,0,0,0,0,0,0,0,0,0,0,0,0,0,0,0,0,0,0,0,0,0,0,0,0,0,0,0,0,0,0,0,0,0,0,0,0,0,0,0,0,0,0,0,0,0,0,0,0,0,0,0,0,0,0,0,0,0,0,0,0,0,0,0,0,0,0,0,0,0,0,0,0,0,0,0,0,0,0,0,0,0,0,0,0,0,0,0,0,0,0,0,0,0,0,0,0,0,0,0,0,0,0,0,0,0,0,0,0,0,0,0,0,0,0,0,0,0,0,0,0,0,0,0,0,0,0,0,0,0,0,0,0,0,0,0,0,0,0,0,0,0,0,0,0,0,0,0,0,0,0,0,0,0,0,0,0,0,0,0,0,0,0,0,0,0,0,0,0,0,0,0,0,0,0,0,0,0,0,0,0,0,0,0,0,0,0,0,0,0,0,0,0,0,0,0,0,0,0,0,0,0,0,0,0,0,0,0,0,0,0,0,0,0,0,0,0,0,0,0,0,0,0,0,0,0,0,0,0,0,0,0,0,0,0,0,0,0,0,0,0,0,0,0,0,0,0,0,0,0,0,0,0,0,0,0,0,0,0,0,0,0,0,0,0,0,0,0,0,0,0,0,0,0],\"TotalCoinSupply_scaled\":{\"__ndarray__\":\"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\",\"dtype\":\"float64\",\"order\":\"little\",\"shape\":[287]},\"TotalCoinsMined_scaled\":{\"__ndarray__\":\"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\",\"dtype\":\"float64\",\"order\":\"little\",\"shape\":[287]}},\"selected\":{\"id\":\"1516\"},\"selection_policy\":{\"id\":\"1530\"}},\"id\":\"1515\",\"type\":\"ColumnDataSource\"},{\"attributes\":{\"fill_color\":{\"value\":\"#e5ae38\"},\"hatch_color\":{\"value\":\"#e5ae38\"},\"line_color\":{\"value\":\"#e5ae38\"},\"size\":{\"value\":5.477225575051661},\"x\":{\"field\":\"TotalCoinsMined_scaled\"},\"y\":{\"field\":\"TotalCoinSupply_scaled\"}},\"id\":\"1561\",\"type\":\"Scatter\"},{\"attributes\":{},\"id\":\"1513\",\"type\":\"BasicTickFormatter\"}],\"root_ids\":[\"1471\"]},\"title\":\"Bokeh Application\",\"version\":\"2.4.1\"}};\n",
       "    var render_items = [{\"docid\":\"d1e4d6e4-42b1-42cc-99fb-76c8d874f510\",\"root_ids\":[\"1471\"],\"roots\":{\"1471\":\"34e826be-874a-4012-bb51-7b98bd949091\"}}];\n",
       "    root.Bokeh.embed.embed_items_notebook(docs_json, render_items);\n",
       "  }\n",
       "  if (root.Bokeh !== undefined && root.Bokeh.Panel !== undefined) {\n",
       "    embed_document(root);\n",
       "  } else {\n",
       "    var attempts = 0;\n",
       "    var timer = setInterval(function(root) {\n",
       "      if (root.Bokeh !== undefined && root.Bokeh.Panel !== undefined) {\n",
       "        clearInterval(timer);\n",
       "        embed_document(root);\n",
       "      } else if (document.readyState == \"complete\") {\n",
       "        attempts++;\n",
       "        if (attempts > 200) {\n",
       "          clearInterval(timer);\n",
       "          console.log(\"Bokeh: ERROR: Unable to run BokehJS code because BokehJS library is missing\");\n",
       "        }\n",
       "      }\n",
       "    }, 25, root)\n",
       "  }\n",
       "})(window);</script>"
      ],
      "text/plain": [
       ":NdOverlay   [Class]\n",
       "   :Scatter   [TotalCoinsMined_scaled]   (TotalCoinSupply_scaled)"
      ]
     },
     "execution_count": 278,
     "metadata": {
      "application/vnd.holoviews_exec.v0+json": {
       "id": "1471"
      }
     },
     "output_type": "execute_result"
    }
   ],
   "source": [
    "# Create a hvplot.scatter plot using x=\"TotalCoinsMined\" and y=\"TotalCoinSupply\".\n",
    "plot_df.hvplot.scatter(x=\"TotalCoinsMined_scaled\", \n",
    "                       y=\"TotalCoinSupply_scaled\", \n",
    "                       by=\"Class\",\n",
    "                       xlabel=\"Total Cryptocurrency Coins Mined\",\n",
    "                       ylabel=\"Total Cryptocurrency Coin Supply\",)\n"
   ]
  },
  {
   "cell_type": "code",
   "execution_count": null,
   "metadata": {},
   "outputs": [],
   "source": []
  }
 ],
 "metadata": {
  "file_extension": ".py",
  "interpreter": {
   "hash": "93bd853f96cb809137bd5d63c1afc0b90ba524c51c69796064c9bdd19cca3416"
  },
  "kernelspec": {
   "display_name": "Python 3.7.11 ('mlenv')",
   "language": "python",
   "name": "python3"
  },
  "language_info": {
   "codemirror_mode": {
    "name": "ipython",
    "version": 3
   },
   "file_extension": ".py",
   "mimetype": "text/x-python",
   "name": "python",
   "nbconvert_exporter": "python",
   "pygments_lexer": "ipython3",
   "version": "3.7.11"
  },
  "latex_envs": {
   "LaTeX_envs_menu_present": true,
   "autoclose": false,
   "autocomplete": true,
   "bibliofile": "biblio.bib",
   "cite_by": "apalike",
   "current_citInitial": 1,
   "eqLabelWithNumbers": true,
   "eqNumInitial": 1,
   "hotkeys": {
    "equation": "Ctrl-E",
    "itemize": "Ctrl-I"
   },
   "labels_anchors": false,
   "latex_user_defs": false,
   "report_style_numbering": false,
   "user_envs_cfg": false
  },
  "mimetype": "text/x-python",
  "name": "python",
  "npconvert_exporter": "python",
  "pygments_lexer": "ipython3",
  "version": 3
 },
 "nbformat": 4,
 "nbformat_minor": 2
}
